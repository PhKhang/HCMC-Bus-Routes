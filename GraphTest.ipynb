{
 "cells": [
  {
   "cell_type": "code",
   "execution_count": 78,
   "metadata": {},
   "outputs": [
    {
     "name": "stdout",
     "output_type": "stream",
     "text": [
      "The autoreload extension is already loaded. To reload it, use:\n",
      "  %reload_ext autoreload\n"
     ]
    },
    {
     "data": {
      "text/html": [
       "<pre style=\"white-space:pre;overflow-x:auto;line-height:normal;font-family:Menlo,'DejaVu Sans Mono',consolas,'Courier New',monospace\">Connection pairs:\n",
       "<span style=\"font-weight: bold\">[</span>\n",
       "    <span style=\"font-weight: bold\">(</span><span style=\"color: #008080; text-decoration-color: #008080; font-weight: bold\">7529</span>, <span style=\"color: #008080; text-decoration-color: #008080; font-weight: bold\">3491</span>, <span style=\"color: #008080; text-decoration-color: #008080; font-weight: bold\">489.50118772441493</span><span style=\"font-weight: bold\">)</span>,\n",
       "    <span style=\"font-weight: bold\">(</span><span style=\"color: #008080; text-decoration-color: #008080; font-weight: bold\">7483</span>, <span style=\"color: #008080; text-decoration-color: #008080; font-weight: bold\">6868</span>, <span style=\"color: #008080; text-decoration-color: #008080; font-weight: bold\">128.34041442898507</span><span style=\"font-weight: bold\">)</span>,\n",
       "    <span style=\"font-weight: bold\">(</span><span style=\"color: #008080; text-decoration-color: #008080; font-weight: bold\">7487</span>, <span style=\"color: #008080; text-decoration-color: #008080; font-weight: bold\">7090</span>, <span style=\"color: #008080; text-decoration-color: #008080; font-weight: bold\">100.0674332727893</span><span style=\"font-weight: bold\">)</span>,\n",
       "    <span style=\"font-weight: bold\">(</span><span style=\"color: #008080; text-decoration-color: #008080; font-weight: bold\">7492</span>, <span style=\"color: #008080; text-decoration-color: #008080; font-weight: bold\">6907</span>, <span style=\"color: #008080; text-decoration-color: #008080; font-weight: bold\">44.872694234504756</span><span style=\"font-weight: bold\">)</span>,\n",
       "    <span style=\"font-weight: bold\">(</span><span style=\"color: #008080; text-decoration-color: #008080; font-weight: bold\">7497</span>, <span style=\"color: #008080; text-decoration-color: #008080; font-weight: bold\">6861</span>, <span style=\"color: #008080; text-decoration-color: #008080; font-weight: bold\">45.77161729321111</span><span style=\"font-weight: bold\">)</span>,\n",
       "    <span style=\"font-weight: bold\">(</span><span style=\"color: #008080; text-decoration-color: #008080; font-weight: bold\">7498</span>, <span style=\"color: #008080; text-decoration-color: #008080; font-weight: bold\">6863</span>, <span style=\"color: #008080; text-decoration-color: #008080; font-weight: bold\">15.894429251450745</span><span style=\"font-weight: bold\">)</span>,\n",
       "    <span style=\"font-weight: bold\">(</span><span style=\"color: #008080; text-decoration-color: #008080; font-weight: bold\">7504</span>, <span style=\"color: #008080; text-decoration-color: #008080; font-weight: bold\">672</span>, <span style=\"color: #008080; text-decoration-color: #008080; font-weight: bold\">71.5994991372535</span><span style=\"font-weight: bold\">)</span>,\n",
       "    <span style=\"font-weight: bold\">(</span><span style=\"color: #008080; text-decoration-color: #008080; font-weight: bold\">7511</span>, <span style=\"color: #008080; text-decoration-color: #008080; font-weight: bold\">234</span>, <span style=\"color: #008080; text-decoration-color: #008080; font-weight: bold\">11.285070412497834</span><span style=\"font-weight: bold\">)</span>,\n",
       "    <span style=\"font-weight: bold\">(</span><span style=\"color: #008080; text-decoration-color: #008080; font-weight: bold\">7516</span>, <span style=\"color: #008080; text-decoration-color: #008080; font-weight: bold\">4166</span>, <span style=\"color: #008080; text-decoration-color: #008080; font-weight: bold\">19.355601312460404</span><span style=\"font-weight: bold\">)</span>,\n",
       "    <span style=\"font-weight: bold\">(</span><span style=\"color: #008080; text-decoration-color: #008080; font-weight: bold\">7685</span>, <span style=\"color: #008080; text-decoration-color: #008080; font-weight: bold\">7508</span>, <span style=\"color: #008080; text-decoration-color: #008080; font-weight: bold\">26.251222182548965</span><span style=\"font-weight: bold\">)</span>,\n",
       "    <span style=\"font-weight: bold\">(</span><span style=\"color: #008080; text-decoration-color: #008080; font-weight: bold\">7487</span>, <span style=\"color: #008080; text-decoration-color: #008080; font-weight: bold\">7485</span>, <span style=\"color: #008080; text-decoration-color: #008080; font-weight: bold\">34.69950831729087</span><span style=\"font-weight: bold\">)</span>,\n",
       "    <span style=\"font-weight: bold\">(</span><span style=\"color: #008080; text-decoration-color: #008080; font-weight: bold\">7498</span>, <span style=\"color: #008080; text-decoration-color: #008080; font-weight: bold\">7483</span>, <span style=\"color: #008080; text-decoration-color: #008080; font-weight: bold\">133.01878867990203</span><span style=\"font-weight: bold\">)</span>,\n",
       "    <span style=\"font-weight: bold\">(</span><span style=\"color: #008080; text-decoration-color: #008080; font-weight: bold\">7499</span>, <span style=\"color: #008080; text-decoration-color: #008080; font-weight: bold\">7489</span>, <span style=\"color: #008080; text-decoration-color: #008080; font-weight: bold\">161.861689287105</span><span style=\"font-weight: bold\">)</span>,\n",
       "    <span style=\"font-weight: bold\">(</span><span style=\"color: #008080; text-decoration-color: #008080; font-weight: bold\">7683</span>, <span style=\"color: #008080; text-decoration-color: #008080; font-weight: bold\">7518</span>, <span style=\"color: #008080; text-decoration-color: #008080; font-weight: bold\">839.9571389347612</span><span style=\"font-weight: bold\">)</span>\n",
       "<span style=\"font-weight: bold\">]</span>\n",
       "</pre>\n"
      ],
      "text/plain": [
       "Connection pairs:\n",
       "\u001b[1m[\u001b[0m\n",
       "    \u001b[1m(\u001b[0m\u001b[1;36m7529\u001b[0m, \u001b[1;36m3491\u001b[0m, \u001b[1;36m489.50118772441493\u001b[0m\u001b[1m)\u001b[0m,\n",
       "    \u001b[1m(\u001b[0m\u001b[1;36m7483\u001b[0m, \u001b[1;36m6868\u001b[0m, \u001b[1;36m128.34041442898507\u001b[0m\u001b[1m)\u001b[0m,\n",
       "    \u001b[1m(\u001b[0m\u001b[1;36m7487\u001b[0m, \u001b[1;36m7090\u001b[0m, \u001b[1;36m100.0674332727893\u001b[0m\u001b[1m)\u001b[0m,\n",
       "    \u001b[1m(\u001b[0m\u001b[1;36m7492\u001b[0m, \u001b[1;36m6907\u001b[0m, \u001b[1;36m44.872694234504756\u001b[0m\u001b[1m)\u001b[0m,\n",
       "    \u001b[1m(\u001b[0m\u001b[1;36m7497\u001b[0m, \u001b[1;36m6861\u001b[0m, \u001b[1;36m45.77161729321111\u001b[0m\u001b[1m)\u001b[0m,\n",
       "    \u001b[1m(\u001b[0m\u001b[1;36m7498\u001b[0m, \u001b[1;36m6863\u001b[0m, \u001b[1;36m15.894429251450745\u001b[0m\u001b[1m)\u001b[0m,\n",
       "    \u001b[1m(\u001b[0m\u001b[1;36m7504\u001b[0m, \u001b[1;36m672\u001b[0m, \u001b[1;36m71.5994991372535\u001b[0m\u001b[1m)\u001b[0m,\n",
       "    \u001b[1m(\u001b[0m\u001b[1;36m7511\u001b[0m, \u001b[1;36m234\u001b[0m, \u001b[1;36m11.285070412497834\u001b[0m\u001b[1m)\u001b[0m,\n",
       "    \u001b[1m(\u001b[0m\u001b[1;36m7516\u001b[0m, \u001b[1;36m4166\u001b[0m, \u001b[1;36m19.355601312460404\u001b[0m\u001b[1m)\u001b[0m,\n",
       "    \u001b[1m(\u001b[0m\u001b[1;36m7685\u001b[0m, \u001b[1;36m7508\u001b[0m, \u001b[1;36m26.251222182548965\u001b[0m\u001b[1m)\u001b[0m,\n",
       "    \u001b[1m(\u001b[0m\u001b[1;36m7487\u001b[0m, \u001b[1;36m7485\u001b[0m, \u001b[1;36m34.69950831729087\u001b[0m\u001b[1m)\u001b[0m,\n",
       "    \u001b[1m(\u001b[0m\u001b[1;36m7498\u001b[0m, \u001b[1;36m7483\u001b[0m, \u001b[1;36m133.01878867990203\u001b[0m\u001b[1m)\u001b[0m,\n",
       "    \u001b[1m(\u001b[0m\u001b[1;36m7499\u001b[0m, \u001b[1;36m7489\u001b[0m, \u001b[1;36m161.861689287105\u001b[0m\u001b[1m)\u001b[0m,\n",
       "    \u001b[1m(\u001b[0m\u001b[1;36m7683\u001b[0m, \u001b[1;36m7518\u001b[0m, \u001b[1;36m839.9571389347612\u001b[0m\u001b[1m)\u001b[0m\n",
       "\u001b[1m]\u001b[0m\n"
      ]
     },
     "metadata": {},
     "output_type": "display_data"
    },
    {
     "data": {
      "text/html": [
       "<pre style=\"white-space:pre;overflow-x:auto;line-height:normal;font-family:Menlo,'DejaVu Sans Mono',consolas,'Courier New',monospace\"><span style=\"color: #008080; text-decoration-color: #008080; font-weight: bold\">7529</span> <span style=\"color: #008080; text-decoration-color: #008080; font-weight: bold\">3491</span> time = <span style=\"color: #008080; text-decoration-color: #008080; font-weight: bold\">305.9382423277593</span> dis = <span style=\"color: #008080; text-decoration-color: #008080; font-weight: bold\">489.50118772441493</span> routeVar = Walk\n",
       "</pre>\n"
      ],
      "text/plain": [
       "\u001b[1;36m7529\u001b[0m \u001b[1;36m3491\u001b[0m time = \u001b[1;36m305.9382423277593\u001b[0m dis = \u001b[1;36m489.50118772441493\u001b[0m routeVar = Walk\n"
      ]
     },
     "metadata": {},
     "output_type": "display_data"
    },
    {
     "data": {
      "text/html": [
       "<pre style=\"white-space:pre;overflow-x:auto;line-height:normal;font-family:Menlo,'DejaVu Sans Mono',consolas,'Courier New',monospace\"><span style=\"color: #008080; text-decoration-color: #008080; font-weight: bold\">7483</span> <span style=\"color: #008080; text-decoration-color: #008080; font-weight: bold\">6868</span> time = <span style=\"color: #008080; text-decoration-color: #008080; font-weight: bold\">80.21275901811566</span> dis = <span style=\"color: #008080; text-decoration-color: #008080; font-weight: bold\">128.34041442898507</span> routeVar = Walk\n",
       "</pre>\n"
      ],
      "text/plain": [
       "\u001b[1;36m7483\u001b[0m \u001b[1;36m6868\u001b[0m time = \u001b[1;36m80.21275901811566\u001b[0m dis = \u001b[1;36m128.34041442898507\u001b[0m routeVar = Walk\n"
      ]
     },
     "metadata": {},
     "output_type": "display_data"
    },
    {
     "data": {
      "text/html": [
       "<pre style=\"white-space:pre;overflow-x:auto;line-height:normal;font-family:Menlo,'DejaVu Sans Mono',consolas,'Courier New',monospace\"><span style=\"color: #008080; text-decoration-color: #008080; font-weight: bold\">7487</span> <span style=\"color: #008080; text-decoration-color: #008080; font-weight: bold\">7090</span> time = <span style=\"color: #008080; text-decoration-color: #008080; font-weight: bold\">62.54214579549331</span> dis = <span style=\"color: #008080; text-decoration-color: #008080; font-weight: bold\">100.0674332727893</span> routeVar = Walk\n",
       "</pre>\n"
      ],
      "text/plain": [
       "\u001b[1;36m7487\u001b[0m \u001b[1;36m7090\u001b[0m time = \u001b[1;36m62.54214579549331\u001b[0m dis = \u001b[1;36m100.0674332727893\u001b[0m routeVar = Walk\n"
      ]
     },
     "metadata": {},
     "output_type": "display_data"
    },
    {
     "data": {
      "text/html": [
       "<pre style=\"white-space:pre;overflow-x:auto;line-height:normal;font-family:Menlo,'DejaVu Sans Mono',consolas,'Courier New',monospace\"><span style=\"color: #008080; text-decoration-color: #008080; font-weight: bold\">7492</span> <span style=\"color: #008080; text-decoration-color: #008080; font-weight: bold\">6907</span> time = <span style=\"color: #008080; text-decoration-color: #008080; font-weight: bold\">28.04543389656547</span> dis = <span style=\"color: #008080; text-decoration-color: #008080; font-weight: bold\">44.872694234504756</span> routeVar = Walk\n",
       "</pre>\n"
      ],
      "text/plain": [
       "\u001b[1;36m7492\u001b[0m \u001b[1;36m6907\u001b[0m time = \u001b[1;36m28.04543389656547\u001b[0m dis = \u001b[1;36m44.872694234504756\u001b[0m routeVar = Walk\n"
      ]
     },
     "metadata": {},
     "output_type": "display_data"
    },
    {
     "data": {
      "text/html": [
       "<pre style=\"white-space:pre;overflow-x:auto;line-height:normal;font-family:Menlo,'DejaVu Sans Mono',consolas,'Courier New',monospace\"><span style=\"color: #008080; text-decoration-color: #008080; font-weight: bold\">7497</span> <span style=\"color: #008080; text-decoration-color: #008080; font-weight: bold\">6861</span> time = <span style=\"color: #008080; text-decoration-color: #008080; font-weight: bold\">28.607260808256942</span> dis = <span style=\"color: #008080; text-decoration-color: #008080; font-weight: bold\">45.77161729321111</span> routeVar = Walk\n",
       "</pre>\n"
      ],
      "text/plain": [
       "\u001b[1;36m7497\u001b[0m \u001b[1;36m6861\u001b[0m time = \u001b[1;36m28.607260808256942\u001b[0m dis = \u001b[1;36m45.77161729321111\u001b[0m routeVar = Walk\n"
      ]
     },
     "metadata": {},
     "output_type": "display_data"
    },
    {
     "data": {
      "text/html": [
       "<pre style=\"white-space:pre;overflow-x:auto;line-height:normal;font-family:Menlo,'DejaVu Sans Mono',consolas,'Courier New',monospace\"><span style=\"color: #008080; text-decoration-color: #008080; font-weight: bold\">7498</span> <span style=\"color: #008080; text-decoration-color: #008080; font-weight: bold\">6863</span> time = <span style=\"color: #008080; text-decoration-color: #008080; font-weight: bold\">9.934018282156716</span> dis = <span style=\"color: #008080; text-decoration-color: #008080; font-weight: bold\">15.894429251450745</span> routeVar = Walk\n",
       "</pre>\n"
      ],
      "text/plain": [
       "\u001b[1;36m7498\u001b[0m \u001b[1;36m6863\u001b[0m time = \u001b[1;36m9.934018282156716\u001b[0m dis = \u001b[1;36m15.894429251450745\u001b[0m routeVar = Walk\n"
      ]
     },
     "metadata": {},
     "output_type": "display_data"
    },
    {
     "data": {
      "text/html": [
       "<pre style=\"white-space:pre;overflow-x:auto;line-height:normal;font-family:Menlo,'DejaVu Sans Mono',consolas,'Courier New',monospace\"><span style=\"color: #008080; text-decoration-color: #008080; font-weight: bold\">7504</span> <span style=\"color: #008080; text-decoration-color: #008080; font-weight: bold\">672</span> time = <span style=\"color: #008080; text-decoration-color: #008080; font-weight: bold\">44.749686960783436</span> dis = <span style=\"color: #008080; text-decoration-color: #008080; font-weight: bold\">71.5994991372535</span> routeVar = Walk\n",
       "</pre>\n"
      ],
      "text/plain": [
       "\u001b[1;36m7504\u001b[0m \u001b[1;36m672\u001b[0m time = \u001b[1;36m44.749686960783436\u001b[0m dis = \u001b[1;36m71.5994991372535\u001b[0m routeVar = Walk\n"
      ]
     },
     "metadata": {},
     "output_type": "display_data"
    },
    {
     "data": {
      "text/html": [
       "<pre style=\"white-space:pre;overflow-x:auto;line-height:normal;font-family:Menlo,'DejaVu Sans Mono',consolas,'Courier New',monospace\"><span style=\"color: #008080; text-decoration-color: #008080; font-weight: bold\">7511</span> <span style=\"color: #008080; text-decoration-color: #008080; font-weight: bold\">234</span> time = <span style=\"color: #008080; text-decoration-color: #008080; font-weight: bold\">7.053169007811146</span> dis = <span style=\"color: #008080; text-decoration-color: #008080; font-weight: bold\">11.285070412497834</span> routeVar = Walk\n",
       "</pre>\n"
      ],
      "text/plain": [
       "\u001b[1;36m7511\u001b[0m \u001b[1;36m234\u001b[0m time = \u001b[1;36m7.053169007811146\u001b[0m dis = \u001b[1;36m11.285070412497834\u001b[0m routeVar = Walk\n"
      ]
     },
     "metadata": {},
     "output_type": "display_data"
    },
    {
     "data": {
      "text/html": [
       "<pre style=\"white-space:pre;overflow-x:auto;line-height:normal;font-family:Menlo,'DejaVu Sans Mono',consolas,'Courier New',monospace\"><span style=\"color: #008080; text-decoration-color: #008080; font-weight: bold\">7516</span> <span style=\"color: #008080; text-decoration-color: #008080; font-weight: bold\">4166</span> time = <span style=\"color: #008080; text-decoration-color: #008080; font-weight: bold\">12.097250820287751</span> dis = <span style=\"color: #008080; text-decoration-color: #008080; font-weight: bold\">19.355601312460404</span> routeVar = Walk\n",
       "</pre>\n"
      ],
      "text/plain": [
       "\u001b[1;36m7516\u001b[0m \u001b[1;36m4166\u001b[0m time = \u001b[1;36m12.097250820287751\u001b[0m dis = \u001b[1;36m19.355601312460404\u001b[0m routeVar = Walk\n"
      ]
     },
     "metadata": {},
     "output_type": "display_data"
    },
    {
     "data": {
      "text/html": [
       "<pre style=\"white-space:pre;overflow-x:auto;line-height:normal;font-family:Menlo,'DejaVu Sans Mono',consolas,'Courier New',monospace\"><span style=\"color: #008080; text-decoration-color: #008080; font-weight: bold\">7685</span> <span style=\"color: #008080; text-decoration-color: #008080; font-weight: bold\">7508</span> time = <span style=\"color: #008080; text-decoration-color: #008080; font-weight: bold\">16.407013864093102</span> dis = <span style=\"color: #008080; text-decoration-color: #008080; font-weight: bold\">26.251222182548965</span> routeVar = Walk\n",
       "</pre>\n"
      ],
      "text/plain": [
       "\u001b[1;36m7685\u001b[0m \u001b[1;36m7508\u001b[0m time = \u001b[1;36m16.407013864093102\u001b[0m dis = \u001b[1;36m26.251222182548965\u001b[0m routeVar = Walk\n"
      ]
     },
     "metadata": {},
     "output_type": "display_data"
    },
    {
     "data": {
      "text/html": [
       "<pre style=\"white-space:pre;overflow-x:auto;line-height:normal;font-family:Menlo,'DejaVu Sans Mono',consolas,'Courier New',monospace\"><span style=\"color: #008080; text-decoration-color: #008080; font-weight: bold\">7487</span> <span style=\"color: #008080; text-decoration-color: #008080; font-weight: bold\">7485</span> time = <span style=\"color: #008080; text-decoration-color: #008080; font-weight: bold\">21.68719269830679</span> dis = <span style=\"color: #008080; text-decoration-color: #008080; font-weight: bold\">34.69950831729087</span> routeVar = Walk\n",
       "</pre>\n"
      ],
      "text/plain": [
       "\u001b[1;36m7487\u001b[0m \u001b[1;36m7485\u001b[0m time = \u001b[1;36m21.68719269830679\u001b[0m dis = \u001b[1;36m34.69950831729087\u001b[0m routeVar = Walk\n"
      ]
     },
     "metadata": {},
     "output_type": "display_data"
    },
    {
     "data": {
      "text/html": [
       "<pre style=\"white-space:pre;overflow-x:auto;line-height:normal;font-family:Menlo,'DejaVu Sans Mono',consolas,'Courier New',monospace\"><span style=\"color: #008080; text-decoration-color: #008080; font-weight: bold\">7498</span> <span style=\"color: #008080; text-decoration-color: #008080; font-weight: bold\">7483</span> time = <span style=\"color: #008080; text-decoration-color: #008080; font-weight: bold\">83.13674292493876</span> dis = <span style=\"color: #008080; text-decoration-color: #008080; font-weight: bold\">133.01878867990203</span> routeVar = Walk\n",
       "</pre>\n"
      ],
      "text/plain": [
       "\u001b[1;36m7498\u001b[0m \u001b[1;36m7483\u001b[0m time = \u001b[1;36m83.13674292493876\u001b[0m dis = \u001b[1;36m133.01878867990203\u001b[0m routeVar = Walk\n"
      ]
     },
     "metadata": {},
     "output_type": "display_data"
    },
    {
     "data": {
      "text/html": [
       "<pre style=\"white-space:pre;overflow-x:auto;line-height:normal;font-family:Menlo,'DejaVu Sans Mono',consolas,'Courier New',monospace\"><span style=\"color: #008080; text-decoration-color: #008080; font-weight: bold\">7499</span> <span style=\"color: #008080; text-decoration-color: #008080; font-weight: bold\">7489</span> time = <span style=\"color: #008080; text-decoration-color: #008080; font-weight: bold\">101.16355580444062</span> dis = <span style=\"color: #008080; text-decoration-color: #008080; font-weight: bold\">161.861689287105</span> routeVar = Walk\n",
       "</pre>\n"
      ],
      "text/plain": [
       "\u001b[1;36m7499\u001b[0m \u001b[1;36m7489\u001b[0m time = \u001b[1;36m101.16355580444062\u001b[0m dis = \u001b[1;36m161.861689287105\u001b[0m routeVar = Walk\n"
      ]
     },
     "metadata": {},
     "output_type": "display_data"
    },
    {
     "data": {
      "text/html": [
       "<pre style=\"white-space:pre;overflow-x:auto;line-height:normal;font-family:Menlo,'DejaVu Sans Mono',consolas,'Courier New',monospace\"><span style=\"color: #008080; text-decoration-color: #008080; font-weight: bold\">7683</span> <span style=\"color: #008080; text-decoration-color: #008080; font-weight: bold\">7518</span> time = <span style=\"color: #008080; text-decoration-color: #008080; font-weight: bold\">524.9732118342257</span> dis = <span style=\"color: #008080; text-decoration-color: #008080; font-weight: bold\">839.9571389347612</span> routeVar = Walk\n",
       "</pre>\n"
      ],
      "text/plain": [
       "\u001b[1;36m7683\u001b[0m \u001b[1;36m7518\u001b[0m time = \u001b[1;36m524.9732118342257\u001b[0m dis = \u001b[1;36m839.9571389347612\u001b[0m routeVar = Walk\n"
      ]
     },
     "metadata": {},
     "output_type": "display_data"
    },
    {
     "data": {
      "text/html": [
       "<pre style=\"white-space:pre;overflow-x:auto;line-height:normal;font-family:Menlo,'DejaVu Sans Mono',consolas,'Courier New',monospace\">Number of subgraphs: <span style=\"color: #008080; text-decoration-color: #008080; font-weight: bold\">1</span>\n",
       "</pre>\n"
      ],
      "text/plain": [
       "Number of subgraphs: \u001b[1;36m1\u001b[0m\n"
      ]
     },
     "metadata": {},
     "output_type": "display_data"
    }
   ],
   "source": [
    "%load_ext autoreload\n",
    "%reload_ext autoreload\n",
    "%autoreload 2\n",
    "\n",
    "import networkx\n",
    "import Graph\n",
    "\n",
    "g = Graph.buildGraph()\n",
    "# mulGraph = Graph.buildGraph()"
   ]
  },
  {
   "cell_type": "code",
   "execution_count": 65,
   "metadata": {},
   "outputs": [
    {
     "name": "stdout",
     "output_type": "stream",
     "text": [
      "[35, 377, 2568, 2696, 235, 233, 234, 7511, 7515, 7510]\n",
      "[7511, 234]\n"
     ]
    }
   ],
   "source": [
    "ug = g.to_undirected()\n",
    "print(networkx.shortest_path(ug, 35, 7510))\n",
    "# print(networkx.dijkstra_path(g, 35, 234))\n",
    "print(networkx.dijkstra_path(g, 7511, 234))"
   ]
  },
  {
   "cell_type": "code",
   "execution_count": null,
   "metadata": {},
   "outputs": [],
   "source": [
    "# Return connection pairs\n",
    "from math import sqrt\n",
    "from rtree import index\n",
    "from rich import print\n",
    "\n",
    "def connectGraph(subGraphs: list[networkx.MultiDiGraph]):\n",
    "    connectionPair = []\n",
    "    for i in range(len(subGraphs)):\n",
    "        for j in range(i + 1, len(subGraphs)):\n",
    "            idx = index.Index()\n",
    "            \n",
    "            nodeCoordI = networkx.get_node_attributes(subGraphs[i], 'coord')\n",
    "            \n",
    "            iNodes = list(subGraphs[i].nodes)\n",
    "            jNodes = list(subGraphs[j].nodes)\n",
    "            # print(len(list(subGraphs[i].nodes)))\n",
    "            # print(subGraphs[i].nodes[7278]['coord'])\n",
    "            # print(subGraphs[i].has_node(7276))\n",
    "            \n",
    "            for node in iNodes:\n",
    "                idx.insert(node, (nodeCoordI[node][0], nodeCoordI[node][1], nodeCoordI[node][0], nodeCoordI[node][1]))\n",
    "                \n",
    "            # print(jNodes)\n",
    "            minDisSoFar = -1\n",
    "            connection1 = -1\n",
    "            connection2 = -1\n",
    "            for node in jNodes:\n",
    "                # print(subGraphs[j].nodes[7529]['coord'])\n",
    "                x, y = subGraphs[j].nodes[node]['coord']\n",
    "                nearestId = list(idx.nearest((x, y, x, y), 1))[0]\n",
    "                x1, y1 = nodeCoordI[nearestId]\n",
    "                \n",
    "                dis = sqrt((x - x1)**2 + (y - y1)**2)\n",
    "                if minDisSoFar == -1 or minDisSoFar > dis:\n",
    "                    minDisSoFar = dis\n",
    "                    connection1 = node\n",
    "                    connection2 = nearestId\n",
    "                    \n",
    "            \n",
    "            if connection1 == 1:\n",
    "                print(\"No points found\")\n",
    "                return\n",
    "            \n",
    "            # Only connect two stops that are less than 1km apart\n",
    "            if minDisSoFar < 1000:\n",
    "                connectionPair.append((connection1, connection2))\n",
    "                \n",
    "    return connectionPair\n",
    "    \n",
    "\n",
    "connectGraph(mulGraph)"
   ]
  },
  {
   "cell_type": "code",
   "execution_count": null,
   "metadata": {},
   "outputs": [],
   "source": [
    "# Create edges\n",
    "def createPath(graph: networkx.MultiDiGraph, stopIdNode: list[str], stopPoints: list[tuple], pathPoints: list[tuple], runningTime, routeVarId):\n",
    "    pathIndex = -1\n",
    "    totalLength = LineString(pathPoints).length\n",
    "    for i in range(len(stopIdNode)):\n",
    "        if pathIndex == -1:\n",
    "            pathIndex += 1\n",
    "            continue\n",
    "        \n",
    "        closestIndex = findNextClosest(pathIndex, stopPoints[i], pathPoints)\n",
    "        line = LineString(pathPoints[pathIndex : closestIndex + 1])\n",
    "        pathIndex = closestIndex\n",
    "        # print(stopIdNode[i - 1], stopIdNode[i], line.length)\n",
    "        graph.add_edge(stopIdNode[i - 1], stopIdNode[i], time = runningTime / totalLength * line.length, dis = line.length, routeVar = routeVarId)\n",
    "        networkx.set_node_attributes(graph, {i - 1: {\"coord\": stopPoints[i - 1]}})\n",
    "        networkx.set_node_attributes(graph, {i: {\"coord\": stopPoints[i]}})\n",
    "        \n",
    "    return graph"
   ]
  },
  {
   "cell_type": "code",
   "execution_count": null,
   "metadata": {},
   "outputs": [],
   "source": [
    "# Get nodes attributes\n",
    "from rich import print\n",
    "timeLabel = networkx.get_edge_attributes(g, 'time')\n",
    "print(g.nodes[35]['coord'])\n",
    "print(g[7526][7529][0]['time'])"
   ]
  },
  {
   "cell_type": "code",
   "execution_count": 5,
   "metadata": {},
   "outputs": [
    {
     "name": "stdout",
     "output_type": "stream",
     "text": [
      "1\n"
     ]
    }
   ],
   "source": [
    "# List of subgraphs\n",
    "from networkx import connected_components\n",
    "\n",
    "\n",
    "ug = g.to_undirected()\n",
    "# k = g.subgraph(list(connected_components(ug))[3])\n",
    "\n",
    "subGraphs = [g.subgraph(com) for com in list(component for component in list(connected_components(ug)))]\n",
    "print(len(subGraphs))\n",
    "# print(subGraphs[0])\n",
    "# [g.subgraph(component for component in list(connected_components(ug)) )]\n",
    "# gs = [sub for sub in ]\n",
    "# print(k)\n",
    "# print(k.nodes)\n",
    "\n",
    "# networkx.draw_spring(k, with_labels = True)\n",
    "\n"
   ]
  },
  {
   "cell_type": "code",
   "execution_count": null,
   "metadata": {},
   "outputs": [],
   "source": [
    "# Correct Dijkstra\n",
    "from rich import print\n",
    "def Dijkstra1(g: networkx.MultiDiGraph, index = 0):\n",
    "    minHeap = [[0, list(g.nodes)[index], list(g.nodes)[index]]]\n",
    "    shortestPath = {}\n",
    "    while len(minHeap) > 0:\n",
    "        weight, cur, fro = heapq.heappop(minHeap)\n",
    "        \n",
    "        if cur in shortestPath:\n",
    "            continue\n",
    "        \n",
    "        shortestPath[cur] = (fro, weight)\n",
    "        \n",
    "        for u in networkx.neighbors(g, cur):\n",
    "            if u not in shortestPath:\n",
    "                heapq.heappush(minHeap, [weight + g[cur][u][0]['time'], u, cur])\n",
    "    \n",
    "    for i in list(g.nodes):\n",
    "        if i not in shortestPath:\n",
    "            shortestPath[i] = (-1, -1) \n",
    "            \n",
    "    return shortestPath\n",
    "\n",
    "shortest = Dijkstra1(g, 0)\n",
    "print(shortest) "
   ]
  },
  {
   "cell_type": "code",
   "execution_count": 102,
   "metadata": {},
   "outputs": [
    {
     "name": "stdout",
     "output_type": "stream",
     "text": [
      "passed\n"
     ]
    },
    {
     "ename": "KeyError",
     "evalue": "35",
     "output_type": "error",
     "traceback": [
      "\u001b[1;31m---------------------------------------------------------------------------\u001b[0m",
      "\u001b[1;31mKeyError\u001b[0m                                  Traceback (most recent call last)",
      "Cell \u001b[1;32mIn[102], line 41\u001b[0m\n\u001b[0;32m     37\u001b[0m                     adjArray[i][j] \u001b[38;5;241m=\u001b[39m (adjArray[i][k] \u001b[38;5;241m+\u001b[39m adjArray[k][j], k)\n\u001b[0;32m     39\u001b[0m     \u001b[38;5;28;01mreturn\u001b[39;00m adjArray\n\u001b[1;32m---> 41\u001b[0m adj \u001b[38;5;241m=\u001b[39m \u001b[43mFloydWarshall\u001b[49m\u001b[43m(\u001b[49m\u001b[43mg\u001b[49m\u001b[43m)\u001b[49m\n",
      "Cell \u001b[1;32mIn[102], line 33\u001b[0m, in \u001b[0;36mFloydWarshall\u001b[1;34m(g)\u001b[0m\n\u001b[0;32m     30\u001b[0m \u001b[38;5;28;01mif\u001b[39;00m k \u001b[38;5;241m==\u001b[39m i \u001b[38;5;129;01mor\u001b[39;00m k \u001b[38;5;241m==\u001b[39m j:\n\u001b[0;32m     31\u001b[0m     \u001b[38;5;28;01mcontinue\u001b[39;00m\n\u001b[1;32m---> 33\u001b[0m \u001b[38;5;28;01mif\u001b[39;00m \u001b[43madjArray\u001b[49m\u001b[43m[\u001b[49m\u001b[43mi\u001b[49m\u001b[43m]\u001b[49m\u001b[43m[\u001b[49m\u001b[43mk\u001b[49m\u001b[43m]\u001b[49m[\u001b[38;5;241m0\u001b[39m] \u001b[38;5;241m==\u001b[39m \u001b[38;5;241m-\u001b[39m\u001b[38;5;241m1\u001b[39m \u001b[38;5;129;01mor\u001b[39;00m adjArray[k][j][\u001b[38;5;241m0\u001b[39m] \u001b[38;5;241m==\u001b[39m \u001b[38;5;241m-\u001b[39m\u001b[38;5;241m1\u001b[39m:\n\u001b[0;32m     34\u001b[0m     \u001b[38;5;28;01mcontinue\u001b[39;00m\n\u001b[0;32m     36\u001b[0m \u001b[38;5;28;01mif\u001b[39;00m adjArray[i][j][\u001b[38;5;241m0\u001b[39m] \u001b[38;5;241m==\u001b[39m \u001b[38;5;241m-\u001b[39m\u001b[38;5;241m1\u001b[39m \u001b[38;5;129;01mor\u001b[39;00m adjArray[i][j][\u001b[38;5;241m0\u001b[39m] \u001b[38;5;241m>\u001b[39m adjArray[i][k][\u001b[38;5;241m0\u001b[39m] \u001b[38;5;241m+\u001b[39m adjArray[k][j][\u001b[38;5;241m0\u001b[39m]:\n",
      "\u001b[1;31mKeyError\u001b[0m: 35"
     ]
    }
   ],
   "source": [
    "def FloydWarshall(g: networkx.MultiDiGraph):\n",
    "    nodeList = list(g.nodes)\n",
    "    \n",
    "    adjArray = {}\n",
    "    for u in nodeList:\n",
    "        for v in nodeList:\n",
    "            adjArray[u] = {}\n",
    "            adjArray[u][v] = (-1, -1)\n",
    "    \n",
    "    for node in nodeList:\n",
    "        adjArray[node][node] = (0, node)\n",
    "        \n",
    "    edgeList = g.edges\n",
    "        \n",
    "    print (\"passed\")\n",
    "    for k in nodeList:\n",
    "        for i in nodeList:\n",
    "            for j in nodeList:\n",
    "                if i == j:\n",
    "                    continue\n",
    "                if k == i or k == j:\n",
    "                    continue\n",
    "                \n",
    "                if adjArray[i][k][0] == -1 or adjArray[k][j][0] == -1:\n",
    "                    continue\n",
    "                \n",
    "                if adjArray[i][j][0] == -1 or adjArray[i][j][0] > adjArray[i][k][0] + adjArray[k][j][0]:\n",
    "                    adjArray[i][j] = (adjArray[i][k] + adjArray[k][j], k)\n",
    "                    \n",
    "    return adjArray\n",
    "\n",
    "adj = FloydWarshall(g)\n"
   ]
  },
  {
   "cell_type": "code",
   "execution_count": 90,
   "metadata": {},
   "outputs": [
    {
     "name": "stdout",
     "output_type": "stream",
     "text": [
      "9974\n",
      "MultiDiGraph with 4397 nodes and 9974 edges\n"
     ]
    },
    {
     "data": {
      "text/plain": [
       "{'time': 0.721166702694151, 'dis': 220.01748836587112, 'routeVar': ('3', '5')}"
      ]
     },
     "execution_count": 90,
     "metadata": {},
     "output_type": "execute_result"
    }
   ],
   "source": [
    "edgeL = list(g.edges)\n",
    "print(len(edgeL))\n",
    "print(g)\n",
    "g[edgeL[0][0]][edgeL[0][1]][0]"
   ]
  },
  {
   "cell_type": "code",
   "execution_count": null,
   "metadata": {},
   "outputs": [],
   "source": [
    "# Dijkstra Old\n",
    "def Dijkstra(k: networkx.MultiDiGraph, startingIndex = 0):\n",
    "    unvisited = list(k.nodes)\n",
    "    visited = [unvisited.pop(startingIndex)]\n",
    "\n",
    "    if len(list(networkx.neighbors(k, visited[-1]))) == 0:\n",
    "        # print(\"No path to any other node found\")\n",
    "        return\n",
    "        \n",
    "    shortestPath = {}\n",
    "    for node in list(k.nodes):\n",
    "        if node == visited[0]:\n",
    "            shortestPath[node] = (node, 0)\n",
    "        else:\n",
    "            shortestPath[node] = (-1, -1)\n",
    "            \n",
    "    # print(shortestPath)\n",
    "\n",
    "    while len(unvisited) > 0:\n",
    "        nodeToConsider = visited[-1]\n",
    "        \n",
    "                \n",
    "        # Update shortestPath\n",
    "        for node in unvisited:\n",
    "            dis = shortestPath[node][1]\n",
    "            \n",
    "            # Skip node that cant be reached directly\n",
    "            if networkx.is_path(k, [nodeToConsider, node]) == False:\n",
    "                continue\n",
    "            \n",
    "            weighToHere = shortestPath[nodeToConsider][1]\n",
    "            minWeight = k[nodeToConsider][node][0]['time']\n",
    "            if dis == -1:\n",
    "                shortestPath[node] = (nodeToConsider, minWeight + weighToHere)\n",
    "            elif shortestPath[node][1] > minWeight + weighToHere:\n",
    "                    shortestPath[node] = (nodeToConsider, minWeight + weighToHere)\n",
    "        \n",
    "        nextNodeToConsider = -1\n",
    "        minWeightSoFar = -1\n",
    "        for u in unvisited:\n",
    "            # Skip node that are not updated yet\n",
    "            if shortestPath[u][1] == -1:\n",
    "                continue\n",
    "            \n",
    "            # print(shortestPath[u][1])\n",
    "            if minWeightSoFar == -1:\n",
    "                minWeightSoFar = shortestPath[u][1]\n",
    "                nextNodeToConsider = u\n",
    "                \n",
    "            elif shortestPath[u][1] < minWeightSoFar:\n",
    "                minWeightSoFar = shortestPath[u][1]\n",
    "                nextNodeToConsider = u\n",
    "                \n",
    "        if nextNodeToConsider == -1:\n",
    "            # print(\"Unreachable node found\")\n",
    "            return shortestPath\n",
    "            \n",
    "        \n",
    "        # print(shortestPath)\n",
    "        # print(f\"{nextNodeToConsider=}\")\n",
    "        \n",
    "        unvisited.remove(nextNodeToConsider)\n",
    "        visited.append(nextNodeToConsider)\n",
    "        # break\n",
    "\n",
    "    # print()\n",
    "    return shortestPath\n",
    "\n",
    "Dijkstra(g)"
   ]
  },
  {
   "cell_type": "code",
   "execution_count": null,
   "metadata": {},
   "outputs": [],
   "source": [
    "from rich import print\n",
    "# print(g.subgraph(list(connected_components(ug))[0]))\n",
    "grph: networkx.MultiDiGraph = g.subgraph(list(connected_components(ug))[0]).copy()\n",
    "stops = list(grph.nodes)\n",
    "stops.sort()\n",
    "print(len(stops))"
   ]
  }
 ],
 "metadata": {
  "kernelspec": {
   "display_name": "Python 3",
   "language": "python",
   "name": "python3"
  },
  "language_info": {
   "codemirror_mode": {
    "name": "ipython",
    "version": 3
   },
   "file_extension": ".py",
   "mimetype": "text/x-python",
   "name": "python",
   "nbconvert_exporter": "python",
   "pygments_lexer": "ipython3",
   "version": "3.11.9"
  }
 },
 "nbformat": 4,
 "nbformat_minor": 2
}
