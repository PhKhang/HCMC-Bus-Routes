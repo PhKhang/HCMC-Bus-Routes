{
 "cells": [
  {
   "cell_type": "code",
   "execution_count": 2,
   "metadata": {},
   "outputs": [
    {
     "data": {
      "text/html": [
       "<pre style=\"white-space:pre;overflow-x:auto;line-height:normal;font-family:Menlo,'DejaVu Sans Mono',consolas,'Courier New',monospace\">Making paths from route: <span style=\"color: #008080; text-decoration-color: #008080; font-weight: bold\">3</span>, var <span style=\"color: #008080; text-decoration-color: #008080; font-weight: bold\">5</span>\n",
       "</pre>\n"
      ],
      "text/plain": [
       "Making paths from route: \u001b[1;36m3\u001b[0m, var \u001b[1;36m5\u001b[0m\n"
      ]
     },
     "metadata": {},
     "output_type": "display_data"
    },
    {
     "data": {
      "text/html": [
       "<pre style=\"white-space:pre;overflow-x:auto;line-height:normal;font-family:Menlo,'DejaVu Sans Mono',consolas,'Courier New',monospace\">Making paths from route: <span style=\"color: #008080; text-decoration-color: #008080; font-weight: bold\">3</span>, var <span style=\"color: #008080; text-decoration-color: #008080; font-weight: bold\">6</span>\n",
       "</pre>\n"
      ],
      "text/plain": [
       "Making paths from route: \u001b[1;36m3\u001b[0m, var \u001b[1;36m6\u001b[0m\n"
      ]
     },
     "metadata": {},
     "output_type": "display_data"
    },
    {
     "data": {
      "text/html": [
       "<pre style=\"white-space:pre;overflow-x:auto;line-height:normal;font-family:Menlo,'DejaVu Sans Mono',consolas,'Courier New',monospace\">Making paths from route: <span style=\"color: #008080; text-decoration-color: #008080; font-weight: bold\">1</span>, var <span style=\"color: #008080; text-decoration-color: #008080; font-weight: bold\">1</span>\n",
       "</pre>\n"
      ],
      "text/plain": [
       "Making paths from route: \u001b[1;36m1\u001b[0m, var \u001b[1;36m1\u001b[0m\n"
      ]
     },
     "metadata": {},
     "output_type": "display_data"
    },
    {
     "data": {
      "text/html": [
       "<pre style=\"white-space:pre;overflow-x:auto;line-height:normal;font-family:Menlo,'DejaVu Sans Mono',consolas,'Courier New',monospace\">Making paths from route: <span style=\"color: #008080; text-decoration-color: #008080; font-weight: bold\">1</span>, var <span style=\"color: #008080; text-decoration-color: #008080; font-weight: bold\">2</span>\n",
       "</pre>\n"
      ],
      "text/plain": [
       "Making paths from route: \u001b[1;36m1\u001b[0m, var \u001b[1;36m2\u001b[0m\n"
      ]
     },
     "metadata": {},
     "output_type": "display_data"
    },
    {
     "data": {
      "text/html": [
       "<pre style=\"white-space:pre;overflow-x:auto;line-height:normal;font-family:Menlo,'DejaVu Sans Mono',consolas,'Courier New',monospace\">Making paths from route: <span style=\"color: #008080; text-decoration-color: #008080; font-weight: bold\">7</span>, var <span style=\"color: #008080; text-decoration-color: #008080; font-weight: bold\">13</span>\n",
       "</pre>\n"
      ],
      "text/plain": [
       "Making paths from route: \u001b[1;36m7\u001b[0m, var \u001b[1;36m13\u001b[0m\n"
      ]
     },
     "metadata": {},
     "output_type": "display_data"
    },
    {
     "data": {
      "text/html": [
       "<pre style=\"white-space:pre;overflow-x:auto;line-height:normal;font-family:Menlo,'DejaVu Sans Mono',consolas,'Courier New',monospace\">Making paths from route: <span style=\"color: #008080; text-decoration-color: #008080; font-weight: bold\">7</span>, var <span style=\"color: #008080; text-decoration-color: #008080; font-weight: bold\">14</span>\n",
       "</pre>\n"
      ],
      "text/plain": [
       "Making paths from route: \u001b[1;36m7\u001b[0m, var \u001b[1;36m14\u001b[0m\n"
      ]
     },
     "metadata": {},
     "output_type": "display_data"
    },
    {
     "data": {
      "text/html": [
       "<pre style=\"white-space:pre;overflow-x:auto;line-height:normal;font-family:Menlo,'DejaVu Sans Mono',consolas,'Courier New',monospace\">Making paths from route: <span style=\"color: #008080; text-decoration-color: #008080; font-weight: bold\">4</span>, var <span style=\"color: #008080; text-decoration-color: #008080; font-weight: bold\">7</span>\n",
       "</pre>\n"
      ],
      "text/plain": [
       "Making paths from route: \u001b[1;36m4\u001b[0m, var \u001b[1;36m7\u001b[0m\n"
      ]
     },
     "metadata": {},
     "output_type": "display_data"
    },
    {
     "data": {
      "text/html": [
       "<pre style=\"white-space:pre;overflow-x:auto;line-height:normal;font-family:Menlo,'DejaVu Sans Mono',consolas,'Courier New',monospace\">Making paths from route: <span style=\"color: #008080; text-decoration-color: #008080; font-weight: bold\">4</span>, var <span style=\"color: #008080; text-decoration-color: #008080; font-weight: bold\">8</span>\n",
       "</pre>\n"
      ],
      "text/plain": [
       "Making paths from route: \u001b[1;36m4\u001b[0m, var \u001b[1;36m8\u001b[0m\n"
      ]
     },
     "metadata": {},
     "output_type": "display_data"
    },
    {
     "data": {
      "text/html": [
       "<pre style=\"white-space:pre;overflow-x:auto;line-height:normal;font-family:Menlo,'DejaVu Sans Mono',consolas,'Courier New',monospace\">Making paths from route: <span style=\"color: #008080; text-decoration-color: #008080; font-weight: bold\">6</span>, var <span style=\"color: #008080; text-decoration-color: #008080; font-weight: bold\">1</span>\n",
       "</pre>\n"
      ],
      "text/plain": [
       "Making paths from route: \u001b[1;36m6\u001b[0m, var \u001b[1;36m1\u001b[0m\n"
      ]
     },
     "metadata": {},
     "output_type": "display_data"
    },
    {
     "data": {
      "text/html": [
       "<pre style=\"white-space:pre;overflow-x:auto;line-height:normal;font-family:Menlo,'DejaVu Sans Mono',consolas,'Courier New',monospace\">Making paths from route: <span style=\"color: #008080; text-decoration-color: #008080; font-weight: bold\">6</span>, var <span style=\"color: #008080; text-decoration-color: #008080; font-weight: bold\">2</span>\n",
       "</pre>\n"
      ],
      "text/plain": [
       "Making paths from route: \u001b[1;36m6\u001b[0m, var \u001b[1;36m2\u001b[0m\n"
      ]
     },
     "metadata": {},
     "output_type": "display_data"
    },
    {
     "data": {
      "text/html": [
       "<pre style=\"white-space:pre;overflow-x:auto;line-height:normal;font-family:Menlo,'DejaVu Sans Mono',consolas,'Courier New',monospace\">Making paths from route: <span style=\"color: #008080; text-decoration-color: #008080; font-weight: bold\">5</span>, var <span style=\"color: #008080; text-decoration-color: #008080; font-weight: bold\">1</span>\n",
       "</pre>\n"
      ],
      "text/plain": [
       "Making paths from route: \u001b[1;36m5\u001b[0m, var \u001b[1;36m1\u001b[0m\n"
      ]
     },
     "metadata": {},
     "output_type": "display_data"
    },
    {
     "data": {
      "text/html": [
       "<pre style=\"white-space:pre;overflow-x:auto;line-height:normal;font-family:Menlo,'DejaVu Sans Mono',consolas,'Courier New',monospace\">Making paths from route: <span style=\"color: #008080; text-decoration-color: #008080; font-weight: bold\">5</span>, var <span style=\"color: #008080; text-decoration-color: #008080; font-weight: bold\">2</span>\n",
       "</pre>\n"
      ],
      "text/plain": [
       "Making paths from route: \u001b[1;36m5\u001b[0m, var \u001b[1;36m2\u001b[0m\n"
      ]
     },
     "metadata": {},
     "output_type": "display_data"
    },
    {
     "data": {
      "text/html": [
       "<pre style=\"white-space:pre;overflow-x:auto;line-height:normal;font-family:Menlo,'DejaVu Sans Mono',consolas,'Courier New',monospace\">Making paths from route: <span style=\"color: #008080; text-decoration-color: #008080; font-weight: bold\">8</span>, var <span style=\"color: #008080; text-decoration-color: #008080; font-weight: bold\">15</span>\n",
       "</pre>\n"
      ],
      "text/plain": [
       "Making paths from route: \u001b[1;36m8\u001b[0m, var \u001b[1;36m15\u001b[0m\n"
      ]
     },
     "metadata": {},
     "output_type": "display_data"
    },
    {
     "data": {
      "text/html": [
       "<pre style=\"white-space:pre;overflow-x:auto;line-height:normal;font-family:Menlo,'DejaVu Sans Mono',consolas,'Courier New',monospace\">Making paths from route: <span style=\"color: #008080; text-decoration-color: #008080; font-weight: bold\">8</span>, var <span style=\"color: #008080; text-decoration-color: #008080; font-weight: bold\">16</span>\n",
       "</pre>\n"
      ],
      "text/plain": [
       "Making paths from route: \u001b[1;36m8\u001b[0m, var \u001b[1;36m16\u001b[0m\n"
      ]
     },
     "metadata": {},
     "output_type": "display_data"
    },
    {
     "data": {
      "text/html": [
       "<pre style=\"white-space:pre;overflow-x:auto;line-height:normal;font-family:Menlo,'DejaVu Sans Mono',consolas,'Courier New',monospace\">Making paths from route: <span style=\"color: #008080; text-decoration-color: #008080; font-weight: bold\">9</span>, var <span style=\"color: #008080; text-decoration-color: #008080; font-weight: bold\">1</span>\n",
       "</pre>\n"
      ],
      "text/plain": [
       "Making paths from route: \u001b[1;36m9\u001b[0m, var \u001b[1;36m1\u001b[0m\n"
      ]
     },
     "metadata": {},
     "output_type": "display_data"
    },
    {
     "data": {
      "text/html": [
       "<pre style=\"white-space:pre;overflow-x:auto;line-height:normal;font-family:Menlo,'DejaVu Sans Mono',consolas,'Courier New',monospace\">Making paths from route: <span style=\"color: #008080; text-decoration-color: #008080; font-weight: bold\">9</span>, var <span style=\"color: #008080; text-decoration-color: #008080; font-weight: bold\">2</span>\n",
       "</pre>\n"
      ],
      "text/plain": [
       "Making paths from route: \u001b[1;36m9\u001b[0m, var \u001b[1;36m2\u001b[0m\n"
      ]
     },
     "metadata": {},
     "output_type": "display_data"
    },
    {
     "data": {
      "text/html": [
       "<pre style=\"white-space:pre;overflow-x:auto;line-height:normal;font-family:Menlo,'DejaVu Sans Mono',consolas,'Courier New',monospace\">Making paths from route: <span style=\"color: #008080; text-decoration-color: #008080; font-weight: bold\">10</span>, var <span style=\"color: #008080; text-decoration-color: #008080; font-weight: bold\">19</span>\n",
       "</pre>\n"
      ],
      "text/plain": [
       "Making paths from route: \u001b[1;36m10\u001b[0m, var \u001b[1;36m19\u001b[0m\n"
      ]
     },
     "metadata": {},
     "output_type": "display_data"
    },
    {
     "data": {
      "text/html": [
       "<pre style=\"white-space:pre;overflow-x:auto;line-height:normal;font-family:Menlo,'DejaVu Sans Mono',consolas,'Courier New',monospace\">Making paths from route: <span style=\"color: #008080; text-decoration-color: #008080; font-weight: bold\">10</span>, var <span style=\"color: #008080; text-decoration-color: #008080; font-weight: bold\">20</span>\n",
       "</pre>\n"
      ],
      "text/plain": [
       "Making paths from route: \u001b[1;36m10\u001b[0m, var \u001b[1;36m20\u001b[0m\n"
      ]
     },
     "metadata": {},
     "output_type": "display_data"
    },
    {
     "data": {
      "text/html": [
       "<pre style=\"white-space:pre;overflow-x:auto;line-height:normal;font-family:Menlo,'DejaVu Sans Mono',consolas,'Courier New',monospace\">Making paths from route: <span style=\"color: #008080; text-decoration-color: #008080; font-weight: bold\">11</span>, var <span style=\"color: #008080; text-decoration-color: #008080; font-weight: bold\">1</span>\n",
       "</pre>\n"
      ],
      "text/plain": [
       "Making paths from route: \u001b[1;36m11\u001b[0m, var \u001b[1;36m1\u001b[0m\n"
      ]
     },
     "metadata": {},
     "output_type": "display_data"
    },
    {
     "data": {
      "text/html": [
       "<pre style=\"white-space:pre;overflow-x:auto;line-height:normal;font-family:Menlo,'DejaVu Sans Mono',consolas,'Courier New',monospace\">Making paths from route: <span style=\"color: #008080; text-decoration-color: #008080; font-weight: bold\">11</span>, var <span style=\"color: #008080; text-decoration-color: #008080; font-weight: bold\">2</span>\n",
       "</pre>\n"
      ],
      "text/plain": [
       "Making paths from route: \u001b[1;36m11\u001b[0m, var \u001b[1;36m2\u001b[0m\n"
      ]
     },
     "metadata": {},
     "output_type": "display_data"
    },
    {
     "data": {
      "text/html": [
       "<pre style=\"white-space:pre;overflow-x:auto;line-height:normal;font-family:Menlo,'DejaVu Sans Mono',consolas,'Courier New',monospace\">Making paths from route: <span style=\"color: #008080; text-decoration-color: #008080; font-weight: bold\">13</span>, var <span style=\"color: #008080; text-decoration-color: #008080; font-weight: bold\">25</span>\n",
       "</pre>\n"
      ],
      "text/plain": [
       "Making paths from route: \u001b[1;36m13\u001b[0m, var \u001b[1;36m25\u001b[0m\n"
      ]
     },
     "metadata": {},
     "output_type": "display_data"
    },
    {
     "data": {
      "text/html": [
       "<pre style=\"white-space:pre;overflow-x:auto;line-height:normal;font-family:Menlo,'DejaVu Sans Mono',consolas,'Courier New',monospace\">Making paths from route: <span style=\"color: #008080; text-decoration-color: #008080; font-weight: bold\">13</span>, var <span style=\"color: #008080; text-decoration-color: #008080; font-weight: bold\">26</span>\n",
       "</pre>\n"
      ],
      "text/plain": [
       "Making paths from route: \u001b[1;36m13\u001b[0m, var \u001b[1;36m26\u001b[0m\n"
      ]
     },
     "metadata": {},
     "output_type": "display_data"
    },
    {
     "data": {
      "text/html": [
       "<pre style=\"white-space:pre;overflow-x:auto;line-height:normal;font-family:Menlo,'DejaVu Sans Mono',consolas,'Courier New',monospace\">Making paths from route: <span style=\"color: #008080; text-decoration-color: #008080; font-weight: bold\">12</span>, var <span style=\"color: #008080; text-decoration-color: #008080; font-weight: bold\">1</span>\n",
       "</pre>\n"
      ],
      "text/plain": [
       "Making paths from route: \u001b[1;36m12\u001b[0m, var \u001b[1;36m1\u001b[0m\n"
      ]
     },
     "metadata": {},
     "output_type": "display_data"
    },
    {
     "data": {
      "text/html": [
       "<pre style=\"white-space:pre;overflow-x:auto;line-height:normal;font-family:Menlo,'DejaVu Sans Mono',consolas,'Courier New',monospace\">Making paths from route: <span style=\"color: #008080; text-decoration-color: #008080; font-weight: bold\">12</span>, var <span style=\"color: #008080; text-decoration-color: #008080; font-weight: bold\">2</span>\n",
       "</pre>\n"
      ],
      "text/plain": [
       "Making paths from route: \u001b[1;36m12\u001b[0m, var \u001b[1;36m2\u001b[0m\n"
      ]
     },
     "metadata": {},
     "output_type": "display_data"
    },
    {
     "data": {
      "text/html": [
       "<pre style=\"white-space:pre;overflow-x:auto;line-height:normal;font-family:Menlo,'DejaVu Sans Mono',consolas,'Courier New',monospace\">Making paths from route: <span style=\"color: #008080; text-decoration-color: #008080; font-weight: bold\">14</span>, var <span style=\"color: #008080; text-decoration-color: #008080; font-weight: bold\">1</span>\n",
       "</pre>\n"
      ],
      "text/plain": [
       "Making paths from route: \u001b[1;36m14\u001b[0m, var \u001b[1;36m1\u001b[0m\n"
      ]
     },
     "metadata": {},
     "output_type": "display_data"
    },
    {
     "data": {
      "text/html": [
       "<pre style=\"white-space:pre;overflow-x:auto;line-height:normal;font-family:Menlo,'DejaVu Sans Mono',consolas,'Courier New',monospace\">Making paths from route: <span style=\"color: #008080; text-decoration-color: #008080; font-weight: bold\">14</span>, var <span style=\"color: #008080; text-decoration-color: #008080; font-weight: bold\">2</span>\n",
       "</pre>\n"
      ],
      "text/plain": [
       "Making paths from route: \u001b[1;36m14\u001b[0m, var \u001b[1;36m2\u001b[0m\n"
      ]
     },
     "metadata": {},
     "output_type": "display_data"
    },
    {
     "data": {
      "text/html": [
       "<pre style=\"white-space:pre;overflow-x:auto;line-height:normal;font-family:Menlo,'DejaVu Sans Mono',consolas,'Courier New',monospace\">Making paths from route: <span style=\"color: #008080; text-decoration-color: #008080; font-weight: bold\">15</span>, var <span style=\"color: #008080; text-decoration-color: #008080; font-weight: bold\">29</span>\n",
       "</pre>\n"
      ],
      "text/plain": [
       "Making paths from route: \u001b[1;36m15\u001b[0m, var \u001b[1;36m29\u001b[0m\n"
      ]
     },
     "metadata": {},
     "output_type": "display_data"
    },
    {
     "data": {
      "text/html": [
       "<pre style=\"white-space:pre;overflow-x:auto;line-height:normal;font-family:Menlo,'DejaVu Sans Mono',consolas,'Courier New',monospace\">Making paths from route: <span style=\"color: #008080; text-decoration-color: #008080; font-weight: bold\">15</span>, var <span style=\"color: #008080; text-decoration-color: #008080; font-weight: bold\">30</span>\n",
       "</pre>\n"
      ],
      "text/plain": [
       "Making paths from route: \u001b[1;36m15\u001b[0m, var \u001b[1;36m30\u001b[0m\n"
      ]
     },
     "metadata": {},
     "output_type": "display_data"
    },
    {
     "data": {
      "text/html": [
       "<pre style=\"white-space:pre;overflow-x:auto;line-height:normal;font-family:Menlo,'DejaVu Sans Mono',consolas,'Courier New',monospace\">Making paths from route: <span style=\"color: #008080; text-decoration-color: #008080; font-weight: bold\">16</span>, var <span style=\"color: #008080; text-decoration-color: #008080; font-weight: bold\">31</span>\n",
       "</pre>\n"
      ],
      "text/plain": [
       "Making paths from route: \u001b[1;36m16\u001b[0m, var \u001b[1;36m31\u001b[0m\n"
      ]
     },
     "metadata": {},
     "output_type": "display_data"
    },
    {
     "data": {
      "text/html": [
       "<pre style=\"white-space:pre;overflow-x:auto;line-height:normal;font-family:Menlo,'DejaVu Sans Mono',consolas,'Courier New',monospace\">Making paths from route: <span style=\"color: #008080; text-decoration-color: #008080; font-weight: bold\">16</span>, var <span style=\"color: #008080; text-decoration-color: #008080; font-weight: bold\">32</span>\n",
       "</pre>\n"
      ],
      "text/plain": [
       "Making paths from route: \u001b[1;36m16\u001b[0m, var \u001b[1;36m32\u001b[0m\n"
      ]
     },
     "metadata": {},
     "output_type": "display_data"
    },
    {
     "data": {
      "text/html": [
       "<pre style=\"white-space:pre;overflow-x:auto;line-height:normal;font-family:Menlo,'DejaVu Sans Mono',consolas,'Courier New',monospace\">Making paths from route: <span style=\"color: #008080; text-decoration-color: #008080; font-weight: bold\">199</span>, var <span style=\"color: #008080; text-decoration-color: #008080; font-weight: bold\">1</span>\n",
       "</pre>\n"
      ],
      "text/plain": [
       "Making paths from route: \u001b[1;36m199\u001b[0m, var \u001b[1;36m1\u001b[0m\n"
      ]
     },
     "metadata": {},
     "output_type": "display_data"
    },
    {
     "data": {
      "text/html": [
       "<pre style=\"white-space:pre;overflow-x:auto;line-height:normal;font-family:Menlo,'DejaVu Sans Mono',consolas,'Courier New',monospace\">Making paths from route: <span style=\"color: #008080; text-decoration-color: #008080; font-weight: bold\">199</span>, var <span style=\"color: #008080; text-decoration-color: #008080; font-weight: bold\">2</span>\n",
       "</pre>\n"
      ],
      "text/plain": [
       "Making paths from route: \u001b[1;36m199\u001b[0m, var \u001b[1;36m2\u001b[0m\n"
      ]
     },
     "metadata": {},
     "output_type": "display_data"
    },
    {
     "data": {
      "text/html": [
       "<pre style=\"white-space:pre;overflow-x:auto;line-height:normal;font-family:Menlo,'DejaVu Sans Mono',consolas,'Courier New',monospace\">Making paths from route: <span style=\"color: #008080; text-decoration-color: #008080; font-weight: bold\">18</span>, var <span style=\"color: #008080; text-decoration-color: #008080; font-weight: bold\">1</span>\n",
       "</pre>\n"
      ],
      "text/plain": [
       "Making paths from route: \u001b[1;36m18\u001b[0m, var \u001b[1;36m1\u001b[0m\n"
      ]
     },
     "metadata": {},
     "output_type": "display_data"
    },
    {
     "data": {
      "text/html": [
       "<pre style=\"white-space:pre;overflow-x:auto;line-height:normal;font-family:Menlo,'DejaVu Sans Mono',consolas,'Courier New',monospace\">Making paths from route: <span style=\"color: #008080; text-decoration-color: #008080; font-weight: bold\">18</span>, var <span style=\"color: #008080; text-decoration-color: #008080; font-weight: bold\">2</span>\n",
       "</pre>\n"
      ],
      "text/plain": [
       "Making paths from route: \u001b[1;36m18\u001b[0m, var \u001b[1;36m2\u001b[0m\n"
      ]
     },
     "metadata": {},
     "output_type": "display_data"
    },
    {
     "data": {
      "text/html": [
       "<pre style=\"white-space:pre;overflow-x:auto;line-height:normal;font-family:Menlo,'DejaVu Sans Mono',consolas,'Courier New',monospace\">Making paths from route: <span style=\"color: #008080; text-decoration-color: #008080; font-weight: bold\">198</span>, var <span style=\"color: #008080; text-decoration-color: #008080; font-weight: bold\">1</span>\n",
       "</pre>\n"
      ],
      "text/plain": [
       "Making paths from route: \u001b[1;36m198\u001b[0m, var \u001b[1;36m1\u001b[0m\n"
      ]
     },
     "metadata": {},
     "output_type": "display_data"
    },
    {
     "data": {
      "text/html": [
       "<pre style=\"white-space:pre;overflow-x:auto;line-height:normal;font-family:Menlo,'DejaVu Sans Mono',consolas,'Courier New',monospace\">Making paths from route: <span style=\"color: #008080; text-decoration-color: #008080; font-weight: bold\">20</span>, var <span style=\"color: #008080; text-decoration-color: #008080; font-weight: bold\">39</span>\n",
       "</pre>\n"
      ],
      "text/plain": [
       "Making paths from route: \u001b[1;36m20\u001b[0m, var \u001b[1;36m39\u001b[0m\n"
      ]
     },
     "metadata": {},
     "output_type": "display_data"
    },
    {
     "data": {
      "text/html": [
       "<pre style=\"white-space:pre;overflow-x:auto;line-height:normal;font-family:Menlo,'DejaVu Sans Mono',consolas,'Courier New',monospace\">Making paths from route: <span style=\"color: #008080; text-decoration-color: #008080; font-weight: bold\">20</span>, var <span style=\"color: #008080; text-decoration-color: #008080; font-weight: bold\">40</span>\n",
       "</pre>\n"
      ],
      "text/plain": [
       "Making paths from route: \u001b[1;36m20\u001b[0m, var \u001b[1;36m40\u001b[0m\n"
      ]
     },
     "metadata": {},
     "output_type": "display_data"
    },
    {
     "data": {
      "text/html": [
       "<pre style=\"white-space:pre;overflow-x:auto;line-height:normal;font-family:Menlo,'DejaVu Sans Mono',consolas,'Courier New',monospace\">Making paths from route: <span style=\"color: #008080; text-decoration-color: #008080; font-weight: bold\">21</span>, var <span style=\"color: #008080; text-decoration-color: #008080; font-weight: bold\">41</span>\n",
       "</pre>\n"
      ],
      "text/plain": [
       "Making paths from route: \u001b[1;36m21\u001b[0m, var \u001b[1;36m41\u001b[0m\n"
      ]
     },
     "metadata": {},
     "output_type": "display_data"
    },
    {
     "data": {
      "text/html": [
       "<pre style=\"white-space:pre;overflow-x:auto;line-height:normal;font-family:Menlo,'DejaVu Sans Mono',consolas,'Courier New',monospace\">Making paths from route: <span style=\"color: #008080; text-decoration-color: #008080; font-weight: bold\">21</span>, var <span style=\"color: #008080; text-decoration-color: #008080; font-weight: bold\">42</span>\n",
       "</pre>\n"
      ],
      "text/plain": [
       "Making paths from route: \u001b[1;36m21\u001b[0m, var \u001b[1;36m42\u001b[0m\n"
      ]
     },
     "metadata": {},
     "output_type": "display_data"
    },
    {
     "data": {
      "text/html": [
       "<pre style=\"white-space:pre;overflow-x:auto;line-height:normal;font-family:Menlo,'DejaVu Sans Mono',consolas,'Courier New',monospace\">Making paths from route: <span style=\"color: #008080; text-decoration-color: #008080; font-weight: bold\">22</span>, var <span style=\"color: #008080; text-decoration-color: #008080; font-weight: bold\">43</span>\n",
       "</pre>\n"
      ],
      "text/plain": [
       "Making paths from route: \u001b[1;36m22\u001b[0m, var \u001b[1;36m43\u001b[0m\n"
      ]
     },
     "metadata": {},
     "output_type": "display_data"
    },
    {
     "data": {
      "text/html": [
       "<pre style=\"white-space:pre;overflow-x:auto;line-height:normal;font-family:Menlo,'DejaVu Sans Mono',consolas,'Courier New',monospace\">Making paths from route: <span style=\"color: #008080; text-decoration-color: #008080; font-weight: bold\">22</span>, var <span style=\"color: #008080; text-decoration-color: #008080; font-weight: bold\">44</span>\n",
       "</pre>\n"
      ],
      "text/plain": [
       "Making paths from route: \u001b[1;36m22\u001b[0m, var \u001b[1;36m44\u001b[0m\n"
      ]
     },
     "metadata": {},
     "output_type": "display_data"
    },
    {
     "data": {
      "text/html": [
       "<pre style=\"white-space:pre;overflow-x:auto;line-height:normal;font-family:Menlo,'DejaVu Sans Mono',consolas,'Courier New',monospace\">Making paths from route: <span style=\"color: #008080; text-decoration-color: #008080; font-weight: bold\">23</span>, var <span style=\"color: #008080; text-decoration-color: #008080; font-weight: bold\">45</span>\n",
       "</pre>\n"
      ],
      "text/plain": [
       "Making paths from route: \u001b[1;36m23\u001b[0m, var \u001b[1;36m45\u001b[0m\n"
      ]
     },
     "metadata": {},
     "output_type": "display_data"
    },
    {
     "data": {
      "text/html": [
       "<pre style=\"white-space:pre;overflow-x:auto;line-height:normal;font-family:Menlo,'DejaVu Sans Mono',consolas,'Courier New',monospace\">Making paths from route: <span style=\"color: #008080; text-decoration-color: #008080; font-weight: bold\">23</span>, var <span style=\"color: #008080; text-decoration-color: #008080; font-weight: bold\">46</span>\n",
       "</pre>\n"
      ],
      "text/plain": [
       "Making paths from route: \u001b[1;36m23\u001b[0m, var \u001b[1;36m46\u001b[0m\n"
      ]
     },
     "metadata": {},
     "output_type": "display_data"
    },
    {
     "data": {
      "text/html": [
       "<pre style=\"white-space:pre;overflow-x:auto;line-height:normal;font-family:Menlo,'DejaVu Sans Mono',consolas,'Courier New',monospace\">Making paths from route: <span style=\"color: #008080; text-decoration-color: #008080; font-weight: bold\">178</span>, var <span style=\"color: #008080; text-decoration-color: #008080; font-weight: bold\">1</span>\n",
       "</pre>\n"
      ],
      "text/plain": [
       "Making paths from route: \u001b[1;36m178\u001b[0m, var \u001b[1;36m1\u001b[0m\n"
      ]
     },
     "metadata": {},
     "output_type": "display_data"
    },
    {
     "data": {
      "text/html": [
       "<pre style=\"white-space:pre;overflow-x:auto;line-height:normal;font-family:Menlo,'DejaVu Sans Mono',consolas,'Courier New',monospace\">Making paths from route: <span style=\"color: #008080; text-decoration-color: #008080; font-weight: bold\">178</span>, var <span style=\"color: #008080; text-decoration-color: #008080; font-weight: bold\">2</span>\n",
       "</pre>\n"
      ],
      "text/plain": [
       "Making paths from route: \u001b[1;36m178\u001b[0m, var \u001b[1;36m2\u001b[0m\n"
      ]
     },
     "metadata": {},
     "output_type": "display_data"
    },
    {
     "data": {
      "text/html": [
       "<pre style=\"white-space:pre;overflow-x:auto;line-height:normal;font-family:Menlo,'DejaVu Sans Mono',consolas,'Courier New',monospace\">Making paths from route: <span style=\"color: #008080; text-decoration-color: #008080; font-weight: bold\">179</span>, var <span style=\"color: #008080; text-decoration-color: #008080; font-weight: bold\">1</span>\n",
       "</pre>\n"
      ],
      "text/plain": [
       "Making paths from route: \u001b[1;36m179\u001b[0m, var \u001b[1;36m1\u001b[0m\n"
      ]
     },
     "metadata": {},
     "output_type": "display_data"
    },
    {
     "data": {
      "text/html": [
       "<pre style=\"white-space:pre;overflow-x:auto;line-height:normal;font-family:Menlo,'DejaVu Sans Mono',consolas,'Courier New',monospace\">Making paths from route: <span style=\"color: #008080; text-decoration-color: #008080; font-weight: bold\">179</span>, var <span style=\"color: #008080; text-decoration-color: #008080; font-weight: bold\">2</span>\n",
       "</pre>\n"
      ],
      "text/plain": [
       "Making paths from route: \u001b[1;36m179\u001b[0m, var \u001b[1;36m2\u001b[0m\n"
      ]
     },
     "metadata": {},
     "output_type": "display_data"
    },
    {
     "data": {
      "text/html": [
       "<pre style=\"white-space:pre;overflow-x:auto;line-height:normal;font-family:Menlo,'DejaVu Sans Mono',consolas,'Courier New',monospace\">Making paths from route: <span style=\"color: #008080; text-decoration-color: #008080; font-weight: bold\">24</span>, var <span style=\"color: #008080; text-decoration-color: #008080; font-weight: bold\">47</span>\n",
       "</pre>\n"
      ],
      "text/plain": [
       "Making paths from route: \u001b[1;36m24\u001b[0m, var \u001b[1;36m47\u001b[0m\n"
      ]
     },
     "metadata": {},
     "output_type": "display_data"
    },
    {
     "data": {
      "text/html": [
       "<pre style=\"white-space:pre;overflow-x:auto;line-height:normal;font-family:Menlo,'DejaVu Sans Mono',consolas,'Courier New',monospace\">Making paths from route: <span style=\"color: #008080; text-decoration-color: #008080; font-weight: bold\">24</span>, var <span style=\"color: #008080; text-decoration-color: #008080; font-weight: bold\">48</span>\n",
       "</pre>\n"
      ],
      "text/plain": [
       "Making paths from route: \u001b[1;36m24\u001b[0m, var \u001b[1;36m48\u001b[0m\n"
      ]
     },
     "metadata": {},
     "output_type": "display_data"
    },
    {
     "data": {
      "text/html": [
       "<pre style=\"white-space:pre;overflow-x:auto;line-height:normal;font-family:Menlo,'DejaVu Sans Mono',consolas,'Courier New',monospace\">Making paths from route: <span style=\"color: #008080; text-decoration-color: #008080; font-weight: bold\">25</span>, var <span style=\"color: #008080; text-decoration-color: #008080; font-weight: bold\">1</span>\n",
       "</pre>\n"
      ],
      "text/plain": [
       "Making paths from route: \u001b[1;36m25\u001b[0m, var \u001b[1;36m1\u001b[0m\n"
      ]
     },
     "metadata": {},
     "output_type": "display_data"
    },
    {
     "data": {
      "text/html": [
       "<pre style=\"white-space:pre;overflow-x:auto;line-height:normal;font-family:Menlo,'DejaVu Sans Mono',consolas,'Courier New',monospace\">Making paths from route: <span style=\"color: #008080; text-decoration-color: #008080; font-weight: bold\">25</span>, var <span style=\"color: #008080; text-decoration-color: #008080; font-weight: bold\">2</span>\n",
       "</pre>\n"
      ],
      "text/plain": [
       "Making paths from route: \u001b[1;36m25\u001b[0m, var \u001b[1;36m2\u001b[0m\n"
      ]
     },
     "metadata": {},
     "output_type": "display_data"
    },
    {
     "data": {
      "text/html": [
       "<pre style=\"white-space:pre;overflow-x:auto;line-height:normal;font-family:Menlo,'DejaVu Sans Mono',consolas,'Courier New',monospace\">Making paths from route: <span style=\"color: #008080; text-decoration-color: #008080; font-weight: bold\">26</span>, var <span style=\"color: #008080; text-decoration-color: #008080; font-weight: bold\">1</span>\n",
       "</pre>\n"
      ],
      "text/plain": [
       "Making paths from route: \u001b[1;36m26\u001b[0m, var \u001b[1;36m1\u001b[0m\n"
      ]
     },
     "metadata": {},
     "output_type": "display_data"
    },
    {
     "data": {
      "text/html": [
       "<pre style=\"white-space:pre;overflow-x:auto;line-height:normal;font-family:Menlo,'DejaVu Sans Mono',consolas,'Courier New',monospace\">Making paths from route: <span style=\"color: #008080; text-decoration-color: #008080; font-weight: bold\">26</span>, var <span style=\"color: #008080; text-decoration-color: #008080; font-weight: bold\">2</span>\n",
       "</pre>\n"
      ],
      "text/plain": [
       "Making paths from route: \u001b[1;36m26\u001b[0m, var \u001b[1;36m2\u001b[0m\n"
      ]
     },
     "metadata": {},
     "output_type": "display_data"
    },
    {
     "data": {
      "text/html": [
       "<pre style=\"white-space:pre;overflow-x:auto;line-height:normal;font-family:Menlo,'DejaVu Sans Mono',consolas,'Courier New',monospace\">Making paths from route: <span style=\"color: #008080; text-decoration-color: #008080; font-weight: bold\">27</span>, var <span style=\"color: #008080; text-decoration-color: #008080; font-weight: bold\">53</span>\n",
       "</pre>\n"
      ],
      "text/plain": [
       "Making paths from route: \u001b[1;36m27\u001b[0m, var \u001b[1;36m53\u001b[0m\n"
      ]
     },
     "metadata": {},
     "output_type": "display_data"
    },
    {
     "data": {
      "text/html": [
       "<pre style=\"white-space:pre;overflow-x:auto;line-height:normal;font-family:Menlo,'DejaVu Sans Mono',consolas,'Courier New',monospace\">Making paths from route: <span style=\"color: #008080; text-decoration-color: #008080; font-weight: bold\">27</span>, var <span style=\"color: #008080; text-decoration-color: #008080; font-weight: bold\">54</span>\n",
       "</pre>\n"
      ],
      "text/plain": [
       "Making paths from route: \u001b[1;36m27\u001b[0m, var \u001b[1;36m54\u001b[0m\n"
      ]
     },
     "metadata": {},
     "output_type": "display_data"
    },
    {
     "data": {
      "text/html": [
       "<pre style=\"white-space:pre;overflow-x:auto;line-height:normal;font-family:Menlo,'DejaVu Sans Mono',consolas,'Courier New',monospace\">Making paths from route: <span style=\"color: #008080; text-decoration-color: #008080; font-weight: bold\">28</span>, var <span style=\"color: #008080; text-decoration-color: #008080; font-weight: bold\">55</span>\n",
       "</pre>\n"
      ],
      "text/plain": [
       "Making paths from route: \u001b[1;36m28\u001b[0m, var \u001b[1;36m55\u001b[0m\n"
      ]
     },
     "metadata": {},
     "output_type": "display_data"
    },
    {
     "data": {
      "text/html": [
       "<pre style=\"white-space:pre;overflow-x:auto;line-height:normal;font-family:Menlo,'DejaVu Sans Mono',consolas,'Courier New',monospace\">Making paths from route: <span style=\"color: #008080; text-decoration-color: #008080; font-weight: bold\">28</span>, var <span style=\"color: #008080; text-decoration-color: #008080; font-weight: bold\">56</span>\n",
       "</pre>\n"
      ],
      "text/plain": [
       "Making paths from route: \u001b[1;36m28\u001b[0m, var \u001b[1;36m56\u001b[0m\n"
      ]
     },
     "metadata": {},
     "output_type": "display_data"
    },
    {
     "data": {
      "text/html": [
       "<pre style=\"white-space:pre;overflow-x:auto;line-height:normal;font-family:Menlo,'DejaVu Sans Mono',consolas,'Courier New',monospace\">Making paths from route: <span style=\"color: #008080; text-decoration-color: #008080; font-weight: bold\">30</span>, var <span style=\"color: #008080; text-decoration-color: #008080; font-weight: bold\">59</span>\n",
       "</pre>\n"
      ],
      "text/plain": [
       "Making paths from route: \u001b[1;36m30\u001b[0m, var \u001b[1;36m59\u001b[0m\n"
      ]
     },
     "metadata": {},
     "output_type": "display_data"
    },
    {
     "data": {
      "text/html": [
       "<pre style=\"white-space:pre;overflow-x:auto;line-height:normal;font-family:Menlo,'DejaVu Sans Mono',consolas,'Courier New',monospace\">Making paths from route: <span style=\"color: #008080; text-decoration-color: #008080; font-weight: bold\">30</span>, var <span style=\"color: #008080; text-decoration-color: #008080; font-weight: bold\">60</span>\n",
       "</pre>\n"
      ],
      "text/plain": [
       "Making paths from route: \u001b[1;36m30\u001b[0m, var \u001b[1;36m60\u001b[0m\n"
      ]
     },
     "metadata": {},
     "output_type": "display_data"
    },
    {
     "data": {
      "text/html": [
       "<pre style=\"white-space:pre;overflow-x:auto;line-height:normal;font-family:Menlo,'DejaVu Sans Mono',consolas,'Courier New',monospace\">Making paths from route: <span style=\"color: #008080; text-decoration-color: #008080; font-weight: bold\">31</span>, var <span style=\"color: #008080; text-decoration-color: #008080; font-weight: bold\">63</span>\n",
       "</pre>\n"
      ],
      "text/plain": [
       "Making paths from route: \u001b[1;36m31\u001b[0m, var \u001b[1;36m63\u001b[0m\n"
      ]
     },
     "metadata": {},
     "output_type": "display_data"
    },
    {
     "data": {
      "text/html": [
       "<pre style=\"white-space:pre;overflow-x:auto;line-height:normal;font-family:Menlo,'DejaVu Sans Mono',consolas,'Courier New',monospace\">Making paths from route: <span style=\"color: #008080; text-decoration-color: #008080; font-weight: bold\">31</span>, var <span style=\"color: #008080; text-decoration-color: #008080; font-weight: bold\">64</span>\n",
       "</pre>\n"
      ],
      "text/plain": [
       "Making paths from route: \u001b[1;36m31\u001b[0m, var \u001b[1;36m64\u001b[0m\n"
      ]
     },
     "metadata": {},
     "output_type": "display_data"
    },
    {
     "data": {
      "text/html": [
       "<pre style=\"white-space:pre;overflow-x:auto;line-height:normal;font-family:Menlo,'DejaVu Sans Mono',consolas,'Courier New',monospace\">Making paths from route: <span style=\"color: #008080; text-decoration-color: #008080; font-weight: bold\">32</span>, var <span style=\"color: #008080; text-decoration-color: #008080; font-weight: bold\">1</span>\n",
       "</pre>\n"
      ],
      "text/plain": [
       "Making paths from route: \u001b[1;36m32\u001b[0m, var \u001b[1;36m1\u001b[0m\n"
      ]
     },
     "metadata": {},
     "output_type": "display_data"
    },
    {
     "data": {
      "text/html": [
       "<pre style=\"white-space:pre;overflow-x:auto;line-height:normal;font-family:Menlo,'DejaVu Sans Mono',consolas,'Courier New',monospace\">Making paths from route: <span style=\"color: #008080; text-decoration-color: #008080; font-weight: bold\">32</span>, var <span style=\"color: #008080; text-decoration-color: #008080; font-weight: bold\">2</span>\n",
       "</pre>\n"
      ],
      "text/plain": [
       "Making paths from route: \u001b[1;36m32\u001b[0m, var \u001b[1;36m2\u001b[0m\n"
      ]
     },
     "metadata": {},
     "output_type": "display_data"
    },
    {
     "data": {
      "text/html": [
       "<pre style=\"white-space:pre;overflow-x:auto;line-height:normal;font-family:Menlo,'DejaVu Sans Mono',consolas,'Courier New',monospace\">Making paths from route: <span style=\"color: #008080; text-decoration-color: #008080; font-weight: bold\">34</span>, var <span style=\"color: #008080; text-decoration-color: #008080; font-weight: bold\">67</span>\n",
       "</pre>\n"
      ],
      "text/plain": [
       "Making paths from route: \u001b[1;36m34\u001b[0m, var \u001b[1;36m67\u001b[0m\n"
      ]
     },
     "metadata": {},
     "output_type": "display_data"
    },
    {
     "data": {
      "text/html": [
       "<pre style=\"white-space:pre;overflow-x:auto;line-height:normal;font-family:Menlo,'DejaVu Sans Mono',consolas,'Courier New',monospace\">Making paths from route: <span style=\"color: #008080; text-decoration-color: #008080; font-weight: bold\">34</span>, var <span style=\"color: #008080; text-decoration-color: #008080; font-weight: bold\">68</span>\n",
       "</pre>\n"
      ],
      "text/plain": [
       "Making paths from route: \u001b[1;36m34\u001b[0m, var \u001b[1;36m68\u001b[0m\n"
      ]
     },
     "metadata": {},
     "output_type": "display_data"
    },
    {
     "data": {
      "text/html": [
       "<pre style=\"white-space:pre;overflow-x:auto;line-height:normal;font-family:Menlo,'DejaVu Sans Mono',consolas,'Courier New',monospace\">Making paths from route: <span style=\"color: #008080; text-decoration-color: #008080; font-weight: bold\">35</span>, var <span style=\"color: #008080; text-decoration-color: #008080; font-weight: bold\">69</span>\n",
       "</pre>\n"
      ],
      "text/plain": [
       "Making paths from route: \u001b[1;36m35\u001b[0m, var \u001b[1;36m69\u001b[0m\n"
      ]
     },
     "metadata": {},
     "output_type": "display_data"
    },
    {
     "data": {
      "text/html": [
       "<pre style=\"white-space:pre;overflow-x:auto;line-height:normal;font-family:Menlo,'DejaVu Sans Mono',consolas,'Courier New',monospace\">Making paths from route: <span style=\"color: #008080; text-decoration-color: #008080; font-weight: bold\">35</span>, var <span style=\"color: #008080; text-decoration-color: #008080; font-weight: bold\">70</span>\n",
       "</pre>\n"
      ],
      "text/plain": [
       "Making paths from route: \u001b[1;36m35\u001b[0m, var \u001b[1;36m70\u001b[0m\n"
      ]
     },
     "metadata": {},
     "output_type": "display_data"
    },
    {
     "data": {
      "text/html": [
       "<pre style=\"white-space:pre;overflow-x:auto;line-height:normal;font-family:Menlo,'DejaVu Sans Mono',consolas,'Courier New',monospace\">Making paths from route: <span style=\"color: #008080; text-decoration-color: #008080; font-weight: bold\">36</span>, var <span style=\"color: #008080; text-decoration-color: #008080; font-weight: bold\">1</span>\n",
       "</pre>\n"
      ],
      "text/plain": [
       "Making paths from route: \u001b[1;36m36\u001b[0m, var \u001b[1;36m1\u001b[0m\n"
      ]
     },
     "metadata": {},
     "output_type": "display_data"
    },
    {
     "data": {
      "text/html": [
       "<pre style=\"white-space:pre;overflow-x:auto;line-height:normal;font-family:Menlo,'DejaVu Sans Mono',consolas,'Courier New',monospace\">Making paths from route: <span style=\"color: #008080; text-decoration-color: #008080; font-weight: bold\">36</span>, var <span style=\"color: #008080; text-decoration-color: #008080; font-weight: bold\">2</span>\n",
       "</pre>\n"
      ],
      "text/plain": [
       "Making paths from route: \u001b[1;36m36\u001b[0m, var \u001b[1;36m2\u001b[0m\n"
      ]
     },
     "metadata": {},
     "output_type": "display_data"
    },
    {
     "data": {
      "text/html": [
       "<pre style=\"white-space:pre;overflow-x:auto;line-height:normal;font-family:Menlo,'DejaVu Sans Mono',consolas,'Courier New',monospace\">Making paths from route: <span style=\"color: #008080; text-decoration-color: #008080; font-weight: bold\">37</span>, var <span style=\"color: #008080; text-decoration-color: #008080; font-weight: bold\">73</span>\n",
       "</pre>\n"
      ],
      "text/plain": [
       "Making paths from route: \u001b[1;36m37\u001b[0m, var \u001b[1;36m73\u001b[0m\n"
      ]
     },
     "metadata": {},
     "output_type": "display_data"
    },
    {
     "data": {
      "text/html": [
       "<pre style=\"white-space:pre;overflow-x:auto;line-height:normal;font-family:Menlo,'DejaVu Sans Mono',consolas,'Courier New',monospace\">Making paths from route: <span style=\"color: #008080; text-decoration-color: #008080; font-weight: bold\">37</span>, var <span style=\"color: #008080; text-decoration-color: #008080; font-weight: bold\">74</span>\n",
       "</pre>\n"
      ],
      "text/plain": [
       "Making paths from route: \u001b[1;36m37\u001b[0m, var \u001b[1;36m74\u001b[0m\n"
      ]
     },
     "metadata": {},
     "output_type": "display_data"
    },
    {
     "data": {
      "text/html": [
       "<pre style=\"white-space:pre;overflow-x:auto;line-height:normal;font-family:Menlo,'DejaVu Sans Mono',consolas,'Courier New',monospace\">Making paths from route: <span style=\"color: #008080; text-decoration-color: #008080; font-weight: bold\">38</span>, var <span style=\"color: #008080; text-decoration-color: #008080; font-weight: bold\">77</span>\n",
       "</pre>\n"
      ],
      "text/plain": [
       "Making paths from route: \u001b[1;36m38\u001b[0m, var \u001b[1;36m77\u001b[0m\n"
      ]
     },
     "metadata": {},
     "output_type": "display_data"
    },
    {
     "data": {
      "text/html": [
       "<pre style=\"white-space:pre;overflow-x:auto;line-height:normal;font-family:Menlo,'DejaVu Sans Mono',consolas,'Courier New',monospace\">Making paths from route: <span style=\"color: #008080; text-decoration-color: #008080; font-weight: bold\">38</span>, var <span style=\"color: #008080; text-decoration-color: #008080; font-weight: bold\">78</span>\n",
       "</pre>\n"
      ],
      "text/plain": [
       "Making paths from route: \u001b[1;36m38\u001b[0m, var \u001b[1;36m78\u001b[0m\n"
      ]
     },
     "metadata": {},
     "output_type": "display_data"
    },
    {
     "data": {
      "text/html": [
       "<pre style=\"white-space:pre;overflow-x:auto;line-height:normal;font-family:Menlo,'DejaVu Sans Mono',consolas,'Courier New',monospace\">Making paths from route: <span style=\"color: #008080; text-decoration-color: #008080; font-weight: bold\">40</span>, var <span style=\"color: #008080; text-decoration-color: #008080; font-weight: bold\">79</span>\n",
       "</pre>\n"
      ],
      "text/plain": [
       "Making paths from route: \u001b[1;36m40\u001b[0m, var \u001b[1;36m79\u001b[0m\n"
      ]
     },
     "metadata": {},
     "output_type": "display_data"
    },
    {
     "data": {
      "text/html": [
       "<pre style=\"white-space:pre;overflow-x:auto;line-height:normal;font-family:Menlo,'DejaVu Sans Mono',consolas,'Courier New',monospace\">Making paths from route: <span style=\"color: #008080; text-decoration-color: #008080; font-weight: bold\">40</span>, var <span style=\"color: #008080; text-decoration-color: #008080; font-weight: bold\">80</span>\n",
       "</pre>\n"
      ],
      "text/plain": [
       "Making paths from route: \u001b[1;36m40\u001b[0m, var \u001b[1;36m80\u001b[0m\n"
      ]
     },
     "metadata": {},
     "output_type": "display_data"
    },
    {
     "data": {
      "text/html": [
       "<pre style=\"white-space:pre;overflow-x:auto;line-height:normal;font-family:Menlo,'DejaVu Sans Mono',consolas,'Courier New',monospace\">Making paths from route: <span style=\"color: #008080; text-decoration-color: #008080; font-weight: bold\">41</span>, var <span style=\"color: #008080; text-decoration-color: #008080; font-weight: bold\">81</span>\n",
       "</pre>\n"
      ],
      "text/plain": [
       "Making paths from route: \u001b[1;36m41\u001b[0m, var \u001b[1;36m81\u001b[0m\n"
      ]
     },
     "metadata": {},
     "output_type": "display_data"
    },
    {
     "data": {
      "text/html": [
       "<pre style=\"white-space:pre;overflow-x:auto;line-height:normal;font-family:Menlo,'DejaVu Sans Mono',consolas,'Courier New',monospace\">Making paths from route: <span style=\"color: #008080; text-decoration-color: #008080; font-weight: bold\">41</span>, var <span style=\"color: #008080; text-decoration-color: #008080; font-weight: bold\">82</span>\n",
       "</pre>\n"
      ],
      "text/plain": [
       "Making paths from route: \u001b[1;36m41\u001b[0m, var \u001b[1;36m82\u001b[0m\n"
      ]
     },
     "metadata": {},
     "output_type": "display_data"
    },
    {
     "data": {
      "text/html": [
       "<pre style=\"white-space:pre;overflow-x:auto;line-height:normal;font-family:Menlo,'DejaVu Sans Mono',consolas,'Courier New',monospace\">Making paths from route: <span style=\"color: #008080; text-decoration-color: #008080; font-weight: bold\">42</span>, var <span style=\"color: #008080; text-decoration-color: #008080; font-weight: bold\">83</span>\n",
       "</pre>\n"
      ],
      "text/plain": [
       "Making paths from route: \u001b[1;36m42\u001b[0m, var \u001b[1;36m83\u001b[0m\n"
      ]
     },
     "metadata": {},
     "output_type": "display_data"
    },
    {
     "data": {
      "text/html": [
       "<pre style=\"white-space:pre;overflow-x:auto;line-height:normal;font-family:Menlo,'DejaVu Sans Mono',consolas,'Courier New',monospace\">Making paths from route: <span style=\"color: #008080; text-decoration-color: #008080; font-weight: bold\">42</span>, var <span style=\"color: #008080; text-decoration-color: #008080; font-weight: bold\">84</span>\n",
       "</pre>\n"
      ],
      "text/plain": [
       "Making paths from route: \u001b[1;36m42\u001b[0m, var \u001b[1;36m84\u001b[0m\n"
      ]
     },
     "metadata": {},
     "output_type": "display_data"
    },
    {
     "data": {
      "text/html": [
       "<pre style=\"white-space:pre;overflow-x:auto;line-height:normal;font-family:Menlo,'DejaVu Sans Mono',consolas,'Courier New',monospace\">Making paths from route: <span style=\"color: #008080; text-decoration-color: #008080; font-weight: bold\">43</span>, var <span style=\"color: #008080; text-decoration-color: #008080; font-weight: bold\">85</span>\n",
       "</pre>\n"
      ],
      "text/plain": [
       "Making paths from route: \u001b[1;36m43\u001b[0m, var \u001b[1;36m85\u001b[0m\n"
      ]
     },
     "metadata": {},
     "output_type": "display_data"
    },
    {
     "data": {
      "text/html": [
       "<pre style=\"white-space:pre;overflow-x:auto;line-height:normal;font-family:Menlo,'DejaVu Sans Mono',consolas,'Courier New',monospace\">Making paths from route: <span style=\"color: #008080; text-decoration-color: #008080; font-weight: bold\">43</span>, var <span style=\"color: #008080; text-decoration-color: #008080; font-weight: bold\">86</span>\n",
       "</pre>\n"
      ],
      "text/plain": [
       "Making paths from route: \u001b[1;36m43\u001b[0m, var \u001b[1;36m86\u001b[0m\n"
      ]
     },
     "metadata": {},
     "output_type": "display_data"
    },
    {
     "data": {
      "text/html": [
       "<pre style=\"white-space:pre;overflow-x:auto;line-height:normal;font-family:Menlo,'DejaVu Sans Mono',consolas,'Courier New',monospace\">Making paths from route: <span style=\"color: #008080; text-decoration-color: #008080; font-weight: bold\">44</span>, var <span style=\"color: #008080; text-decoration-color: #008080; font-weight: bold\">87</span>\n",
       "</pre>\n"
      ],
      "text/plain": [
       "Making paths from route: \u001b[1;36m44\u001b[0m, var \u001b[1;36m87\u001b[0m\n"
      ]
     },
     "metadata": {},
     "output_type": "display_data"
    },
    {
     "data": {
      "text/html": [
       "<pre style=\"white-space:pre;overflow-x:auto;line-height:normal;font-family:Menlo,'DejaVu Sans Mono',consolas,'Courier New',monospace\">Making paths from route: <span style=\"color: #008080; text-decoration-color: #008080; font-weight: bold\">44</span>, var <span style=\"color: #008080; text-decoration-color: #008080; font-weight: bold\">88</span>\n",
       "</pre>\n"
      ],
      "text/plain": [
       "Making paths from route: \u001b[1;36m44\u001b[0m, var \u001b[1;36m88\u001b[0m\n"
      ]
     },
     "metadata": {},
     "output_type": "display_data"
    },
    {
     "data": {
      "text/html": [
       "<pre style=\"white-space:pre;overflow-x:auto;line-height:normal;font-family:Menlo,'DejaVu Sans Mono',consolas,'Courier New',monospace\">Making paths from route: <span style=\"color: #008080; text-decoration-color: #008080; font-weight: bold\">45</span>, var <span style=\"color: #008080; text-decoration-color: #008080; font-weight: bold\">89</span>\n",
       "</pre>\n"
      ],
      "text/plain": [
       "Making paths from route: \u001b[1;36m45\u001b[0m, var \u001b[1;36m89\u001b[0m\n"
      ]
     },
     "metadata": {},
     "output_type": "display_data"
    },
    {
     "data": {
      "text/html": [
       "<pre style=\"white-space:pre;overflow-x:auto;line-height:normal;font-family:Menlo,'DejaVu Sans Mono',consolas,'Courier New',monospace\">Making paths from route: <span style=\"color: #008080; text-decoration-color: #008080; font-weight: bold\">45</span>, var <span style=\"color: #008080; text-decoration-color: #008080; font-weight: bold\">90</span>\n",
       "</pre>\n"
      ],
      "text/plain": [
       "Making paths from route: \u001b[1;36m45\u001b[0m, var \u001b[1;36m90\u001b[0m\n"
      ]
     },
     "metadata": {},
     "output_type": "display_data"
    },
    {
     "data": {
      "text/html": [
       "<pre style=\"white-space:pre;overflow-x:auto;line-height:normal;font-family:Menlo,'DejaVu Sans Mono',consolas,'Courier New',monospace\">Making paths from route: <span style=\"color: #008080; text-decoration-color: #008080; font-weight: bold\">46</span>, var <span style=\"color: #008080; text-decoration-color: #008080; font-weight: bold\">91</span>\n",
       "</pre>\n"
      ],
      "text/plain": [
       "Making paths from route: \u001b[1;36m46\u001b[0m, var \u001b[1;36m91\u001b[0m\n"
      ]
     },
     "metadata": {},
     "output_type": "display_data"
    },
    {
     "data": {
      "text/html": [
       "<pre style=\"white-space:pre;overflow-x:auto;line-height:normal;font-family:Menlo,'DejaVu Sans Mono',consolas,'Courier New',monospace\">Making paths from route: <span style=\"color: #008080; text-decoration-color: #008080; font-weight: bold\">46</span>, var <span style=\"color: #008080; text-decoration-color: #008080; font-weight: bold\">92</span>\n",
       "</pre>\n"
      ],
      "text/plain": [
       "Making paths from route: \u001b[1;36m46\u001b[0m, var \u001b[1;36m92\u001b[0m\n"
      ]
     },
     "metadata": {},
     "output_type": "display_data"
    },
    {
     "data": {
      "text/html": [
       "<pre style=\"white-space:pre;overflow-x:auto;line-height:normal;font-family:Menlo,'DejaVu Sans Mono',consolas,'Courier New',monospace\">Making paths from route: <span style=\"color: #008080; text-decoration-color: #008080; font-weight: bold\">48</span>, var <span style=\"color: #008080; text-decoration-color: #008080; font-weight: bold\">95</span>\n",
       "</pre>\n"
      ],
      "text/plain": [
       "Making paths from route: \u001b[1;36m48\u001b[0m, var \u001b[1;36m95\u001b[0m\n"
      ]
     },
     "metadata": {},
     "output_type": "display_data"
    },
    {
     "data": {
      "text/html": [
       "<pre style=\"white-space:pre;overflow-x:auto;line-height:normal;font-family:Menlo,'DejaVu Sans Mono',consolas,'Courier New',monospace\">Making paths from route: <span style=\"color: #008080; text-decoration-color: #008080; font-weight: bold\">48</span>, var <span style=\"color: #008080; text-decoration-color: #008080; font-weight: bold\">96</span>\n",
       "</pre>\n"
      ],
      "text/plain": [
       "Making paths from route: \u001b[1;36m48\u001b[0m, var \u001b[1;36m96\u001b[0m\n"
      ]
     },
     "metadata": {},
     "output_type": "display_data"
    },
    {
     "data": {
      "text/html": [
       "<pre style=\"white-space:pre;overflow-x:auto;line-height:normal;font-family:Menlo,'DejaVu Sans Mono',consolas,'Courier New',monospace\">Making paths from route: <span style=\"color: #008080; text-decoration-color: #008080; font-weight: bold\">49</span>, var <span style=\"color: #008080; text-decoration-color: #008080; font-weight: bold\">99</span>\n",
       "</pre>\n"
      ],
      "text/plain": [
       "Making paths from route: \u001b[1;36m49\u001b[0m, var \u001b[1;36m99\u001b[0m\n"
      ]
     },
     "metadata": {},
     "output_type": "display_data"
    },
    {
     "data": {
      "text/html": [
       "<pre style=\"white-space:pre;overflow-x:auto;line-height:normal;font-family:Menlo,'DejaVu Sans Mono',consolas,'Courier New',monospace\">Making paths from route: <span style=\"color: #008080; text-decoration-color: #008080; font-weight: bold\">49</span>, var <span style=\"color: #008080; text-decoration-color: #008080; font-weight: bold\">100</span>\n",
       "</pre>\n"
      ],
      "text/plain": [
       "Making paths from route: \u001b[1;36m49\u001b[0m, var \u001b[1;36m100\u001b[0m\n"
      ]
     },
     "metadata": {},
     "output_type": "display_data"
    },
    {
     "data": {
      "text/html": [
       "<pre style=\"white-space:pre;overflow-x:auto;line-height:normal;font-family:Menlo,'DejaVu Sans Mono',consolas,'Courier New',monospace\">Making paths from route: <span style=\"color: #008080; text-decoration-color: #008080; font-weight: bold\">50</span>, var <span style=\"color: #008080; text-decoration-color: #008080; font-weight: bold\">99</span>\n",
       "</pre>\n"
      ],
      "text/plain": [
       "Making paths from route: \u001b[1;36m50\u001b[0m, var \u001b[1;36m99\u001b[0m\n"
      ]
     },
     "metadata": {},
     "output_type": "display_data"
    },
    {
     "data": {
      "text/html": [
       "<pre style=\"white-space:pre;overflow-x:auto;line-height:normal;font-family:Menlo,'DejaVu Sans Mono',consolas,'Courier New',monospace\">Making paths from route: <span style=\"color: #008080; text-decoration-color: #008080; font-weight: bold\">50</span>, var <span style=\"color: #008080; text-decoration-color: #008080; font-weight: bold\">100</span>\n",
       "</pre>\n"
      ],
      "text/plain": [
       "Making paths from route: \u001b[1;36m50\u001b[0m, var \u001b[1;36m100\u001b[0m\n"
      ]
     },
     "metadata": {},
     "output_type": "display_data"
    },
    {
     "data": {
      "text/html": [
       "<pre style=\"white-space:pre;overflow-x:auto;line-height:normal;font-family:Menlo,'DejaVu Sans Mono',consolas,'Courier New',monospace\">Making paths from route: <span style=\"color: #008080; text-decoration-color: #008080; font-weight: bold\">51</span>, var <span style=\"color: #008080; text-decoration-color: #008080; font-weight: bold\">2</span>\n",
       "</pre>\n"
      ],
      "text/plain": [
       "Making paths from route: \u001b[1;36m51\u001b[0m, var \u001b[1;36m2\u001b[0m\n"
      ]
     },
     "metadata": {},
     "output_type": "display_data"
    },
    {
     "data": {
      "text/html": [
       "<pre style=\"white-space:pre;overflow-x:auto;line-height:normal;font-family:Menlo,'DejaVu Sans Mono',consolas,'Courier New',monospace\">Making paths from route: <span style=\"color: #008080; text-decoration-color: #008080; font-weight: bold\">51</span>, var <span style=\"color: #008080; text-decoration-color: #008080; font-weight: bold\">3</span>\n",
       "</pre>\n"
      ],
      "text/plain": [
       "Making paths from route: \u001b[1;36m51\u001b[0m, var \u001b[1;36m3\u001b[0m\n"
      ]
     },
     "metadata": {},
     "output_type": "display_data"
    },
    {
     "data": {
      "text/html": [
       "<pre style=\"white-space:pre;overflow-x:auto;line-height:normal;font-family:Menlo,'DejaVu Sans Mono',consolas,'Courier New',monospace\">Making paths from route: <span style=\"color: #008080; text-decoration-color: #008080; font-weight: bold\">52</span>, var <span style=\"color: #008080; text-decoration-color: #008080; font-weight: bold\">1</span>\n",
       "</pre>\n"
      ],
      "text/plain": [
       "Making paths from route: \u001b[1;36m52\u001b[0m, var \u001b[1;36m1\u001b[0m\n"
      ]
     },
     "metadata": {},
     "output_type": "display_data"
    },
    {
     "data": {
      "text/html": [
       "<pre style=\"white-space:pre;overflow-x:auto;line-height:normal;font-family:Menlo,'DejaVu Sans Mono',consolas,'Courier New',monospace\">Making paths from route: <span style=\"color: #008080; text-decoration-color: #008080; font-weight: bold\">52</span>, var <span style=\"color: #008080; text-decoration-color: #008080; font-weight: bold\">2</span>\n",
       "</pre>\n"
      ],
      "text/plain": [
       "Making paths from route: \u001b[1;36m52\u001b[0m, var \u001b[1;36m2\u001b[0m\n"
      ]
     },
     "metadata": {},
     "output_type": "display_data"
    },
    {
     "data": {
      "text/html": [
       "<pre style=\"white-space:pre;overflow-x:auto;line-height:normal;font-family:Menlo,'DejaVu Sans Mono',consolas,'Courier New',monospace\">Making paths from route: <span style=\"color: #008080; text-decoration-color: #008080; font-weight: bold\">53</span>, var <span style=\"color: #008080; text-decoration-color: #008080; font-weight: bold\">105</span>\n",
       "</pre>\n"
      ],
      "text/plain": [
       "Making paths from route: \u001b[1;36m53\u001b[0m, var \u001b[1;36m105\u001b[0m\n"
      ]
     },
     "metadata": {},
     "output_type": "display_data"
    },
    {
     "data": {
      "text/html": [
       "<pre style=\"white-space:pre;overflow-x:auto;line-height:normal;font-family:Menlo,'DejaVu Sans Mono',consolas,'Courier New',monospace\">Making paths from route: <span style=\"color: #008080; text-decoration-color: #008080; font-weight: bold\">53</span>, var <span style=\"color: #008080; text-decoration-color: #008080; font-weight: bold\">106</span>\n",
       "</pre>\n"
      ],
      "text/plain": [
       "Making paths from route: \u001b[1;36m53\u001b[0m, var \u001b[1;36m106\u001b[0m\n"
      ]
     },
     "metadata": {},
     "output_type": "display_data"
    },
    {
     "data": {
      "text/html": [
       "<pre style=\"white-space:pre;overflow-x:auto;line-height:normal;font-family:Menlo,'DejaVu Sans Mono',consolas,'Courier New',monospace\">Making paths from route: <span style=\"color: #008080; text-decoration-color: #008080; font-weight: bold\">54</span>, var <span style=\"color: #008080; text-decoration-color: #008080; font-weight: bold\">1</span>\n",
       "</pre>\n"
      ],
      "text/plain": [
       "Making paths from route: \u001b[1;36m54\u001b[0m, var \u001b[1;36m1\u001b[0m\n"
      ]
     },
     "metadata": {},
     "output_type": "display_data"
    },
    {
     "data": {
      "text/html": [
       "<pre style=\"white-space:pre;overflow-x:auto;line-height:normal;font-family:Menlo,'DejaVu Sans Mono',consolas,'Courier New',monospace\">Making paths from route: <span style=\"color: #008080; text-decoration-color: #008080; font-weight: bold\">54</span>, var <span style=\"color: #008080; text-decoration-color: #008080; font-weight: bold\">2</span>\n",
       "</pre>\n"
      ],
      "text/plain": [
       "Making paths from route: \u001b[1;36m54\u001b[0m, var \u001b[1;36m2\u001b[0m\n"
      ]
     },
     "metadata": {},
     "output_type": "display_data"
    },
    {
     "data": {
      "text/html": [
       "<pre style=\"white-space:pre;overflow-x:auto;line-height:normal;font-family:Menlo,'DejaVu Sans Mono',consolas,'Courier New',monospace\">Making paths from route: <span style=\"color: #008080; text-decoration-color: #008080; font-weight: bold\">55</span>, var <span style=\"color: #008080; text-decoration-color: #008080; font-weight: bold\">1</span>\n",
       "</pre>\n"
      ],
      "text/plain": [
       "Making paths from route: \u001b[1;36m55\u001b[0m, var \u001b[1;36m1\u001b[0m\n"
      ]
     },
     "metadata": {},
     "output_type": "display_data"
    },
    {
     "data": {
      "text/html": [
       "<pre style=\"white-space:pre;overflow-x:auto;line-height:normal;font-family:Menlo,'DejaVu Sans Mono',consolas,'Courier New',monospace\">Making paths from route: <span style=\"color: #008080; text-decoration-color: #008080; font-weight: bold\">55</span>, var <span style=\"color: #008080; text-decoration-color: #008080; font-weight: bold\">2</span>\n",
       "</pre>\n"
      ],
      "text/plain": [
       "Making paths from route: \u001b[1;36m55\u001b[0m, var \u001b[1;36m2\u001b[0m\n"
      ]
     },
     "metadata": {},
     "output_type": "display_data"
    },
    {
     "data": {
      "text/html": [
       "<pre style=\"white-space:pre;overflow-x:auto;line-height:normal;font-family:Menlo,'DejaVu Sans Mono',consolas,'Courier New',monospace\">Making paths from route: <span style=\"color: #008080; text-decoration-color: #008080; font-weight: bold\">57</span>, var <span style=\"color: #008080; text-decoration-color: #008080; font-weight: bold\">113</span>\n",
       "</pre>\n"
      ],
      "text/plain": [
       "Making paths from route: \u001b[1;36m57\u001b[0m, var \u001b[1;36m113\u001b[0m\n"
      ]
     },
     "metadata": {},
     "output_type": "display_data"
    },
    {
     "data": {
      "text/html": [
       "<pre style=\"white-space:pre;overflow-x:auto;line-height:normal;font-family:Menlo,'DejaVu Sans Mono',consolas,'Courier New',monospace\">Making paths from route: <span style=\"color: #008080; text-decoration-color: #008080; font-weight: bold\">57</span>, var <span style=\"color: #008080; text-decoration-color: #008080; font-weight: bold\">114</span>\n",
       "</pre>\n"
      ],
      "text/plain": [
       "Making paths from route: \u001b[1;36m57\u001b[0m, var \u001b[1;36m114\u001b[0m\n"
      ]
     },
     "metadata": {},
     "output_type": "display_data"
    },
    {
     "data": {
      "text/html": [
       "<pre style=\"white-space:pre;overflow-x:auto;line-height:normal;font-family:Menlo,'DejaVu Sans Mono',consolas,'Courier New',monospace\">Making paths from route: <span style=\"color: #008080; text-decoration-color: #008080; font-weight: bold\">59</span>, var <span style=\"color: #008080; text-decoration-color: #008080; font-weight: bold\">117</span>\n",
       "</pre>\n"
      ],
      "text/plain": [
       "Making paths from route: \u001b[1;36m59\u001b[0m, var \u001b[1;36m117\u001b[0m\n"
      ]
     },
     "metadata": {},
     "output_type": "display_data"
    },
    {
     "data": {
      "text/html": [
       "<pre style=\"white-space:pre;overflow-x:auto;line-height:normal;font-family:Menlo,'DejaVu Sans Mono',consolas,'Courier New',monospace\">Making paths from route: <span style=\"color: #008080; text-decoration-color: #008080; font-weight: bold\">59</span>, var <span style=\"color: #008080; text-decoration-color: #008080; font-weight: bold\">118</span>\n",
       "</pre>\n"
      ],
      "text/plain": [
       "Making paths from route: \u001b[1;36m59\u001b[0m, var \u001b[1;36m118\u001b[0m\n"
      ]
     },
     "metadata": {},
     "output_type": "display_data"
    },
    {
     "data": {
      "text/html": [
       "<pre style=\"white-space:pre;overflow-x:auto;line-height:normal;font-family:Menlo,'DejaVu Sans Mono',consolas,'Courier New',monospace\">Making paths from route: <span style=\"color: #008080; text-decoration-color: #008080; font-weight: bold\">60</span>, var <span style=\"color: #008080; text-decoration-color: #008080; font-weight: bold\">3</span>\n",
       "</pre>\n"
      ],
      "text/plain": [
       "Making paths from route: \u001b[1;36m60\u001b[0m, var \u001b[1;36m3\u001b[0m\n"
      ]
     },
     "metadata": {},
     "output_type": "display_data"
    },
    {
     "data": {
      "text/html": [
       "<pre style=\"white-space:pre;overflow-x:auto;line-height:normal;font-family:Menlo,'DejaVu Sans Mono',consolas,'Courier New',monospace\">Making paths from route: <span style=\"color: #008080; text-decoration-color: #008080; font-weight: bold\">60</span>, var <span style=\"color: #008080; text-decoration-color: #008080; font-weight: bold\">4</span>\n",
       "</pre>\n"
      ],
      "text/plain": [
       "Making paths from route: \u001b[1;36m60\u001b[0m, var \u001b[1;36m4\u001b[0m\n"
      ]
     },
     "metadata": {},
     "output_type": "display_data"
    },
    {
     "data": {
      "text/html": [
       "<pre style=\"white-space:pre;overflow-x:auto;line-height:normal;font-family:Menlo,'DejaVu Sans Mono',consolas,'Courier New',monospace\">Making paths from route: <span style=\"color: #008080; text-decoration-color: #008080; font-weight: bold\">62</span>, var <span style=\"color: #008080; text-decoration-color: #008080; font-weight: bold\">123</span>\n",
       "</pre>\n"
      ],
      "text/plain": [
       "Making paths from route: \u001b[1;36m62\u001b[0m, var \u001b[1;36m123\u001b[0m\n"
      ]
     },
     "metadata": {},
     "output_type": "display_data"
    },
    {
     "data": {
      "text/html": [
       "<pre style=\"white-space:pre;overflow-x:auto;line-height:normal;font-family:Menlo,'DejaVu Sans Mono',consolas,'Courier New',monospace\">Making paths from route: <span style=\"color: #008080; text-decoration-color: #008080; font-weight: bold\">62</span>, var <span style=\"color: #008080; text-decoration-color: #008080; font-weight: bold\">124</span>\n",
       "</pre>\n"
      ],
      "text/plain": [
       "Making paths from route: \u001b[1;36m62\u001b[0m, var \u001b[1;36m124\u001b[0m\n"
      ]
     },
     "metadata": {},
     "output_type": "display_data"
    },
    {
     "data": {
      "text/html": [
       "<pre style=\"white-space:pre;overflow-x:auto;line-height:normal;font-family:Menlo,'DejaVu Sans Mono',consolas,'Courier New',monospace\">Making paths from route: <span style=\"color: #008080; text-decoration-color: #008080; font-weight: bold\">64</span>, var <span style=\"color: #008080; text-decoration-color: #008080; font-weight: bold\">127</span>\n",
       "</pre>\n"
      ],
      "text/plain": [
       "Making paths from route: \u001b[1;36m64\u001b[0m, var \u001b[1;36m127\u001b[0m\n"
      ]
     },
     "metadata": {},
     "output_type": "display_data"
    },
    {
     "data": {
      "text/html": [
       "<pre style=\"white-space:pre;overflow-x:auto;line-height:normal;font-family:Menlo,'DejaVu Sans Mono',consolas,'Courier New',monospace\">Making paths from route: <span style=\"color: #008080; text-decoration-color: #008080; font-weight: bold\">64</span>, var <span style=\"color: #008080; text-decoration-color: #008080; font-weight: bold\">128</span>\n",
       "</pre>\n"
      ],
      "text/plain": [
       "Making paths from route: \u001b[1;36m64\u001b[0m, var \u001b[1;36m128\u001b[0m\n"
      ]
     },
     "metadata": {},
     "output_type": "display_data"
    },
    {
     "data": {
      "text/html": [
       "<pre style=\"white-space:pre;overflow-x:auto;line-height:normal;font-family:Menlo,'DejaVu Sans Mono',consolas,'Courier New',monospace\">Making paths from route: <span style=\"color: #008080; text-decoration-color: #008080; font-weight: bold\">65</span>, var <span style=\"color: #008080; text-decoration-color: #008080; font-weight: bold\">129</span>\n",
       "</pre>\n"
      ],
      "text/plain": [
       "Making paths from route: \u001b[1;36m65\u001b[0m, var \u001b[1;36m129\u001b[0m\n"
      ]
     },
     "metadata": {},
     "output_type": "display_data"
    },
    {
     "data": {
      "text/html": [
       "<pre style=\"white-space:pre;overflow-x:auto;line-height:normal;font-family:Menlo,'DejaVu Sans Mono',consolas,'Courier New',monospace\">Making paths from route: <span style=\"color: #008080; text-decoration-color: #008080; font-weight: bold\">65</span>, var <span style=\"color: #008080; text-decoration-color: #008080; font-weight: bold\">130</span>\n",
       "</pre>\n"
      ],
      "text/plain": [
       "Making paths from route: \u001b[1;36m65\u001b[0m, var \u001b[1;36m130\u001b[0m\n"
      ]
     },
     "metadata": {},
     "output_type": "display_data"
    },
    {
     "data": {
      "text/html": [
       "<pre style=\"white-space:pre;overflow-x:auto;line-height:normal;font-family:Menlo,'DejaVu Sans Mono',consolas,'Courier New',monospace\">Making paths from route: <span style=\"color: #008080; text-decoration-color: #008080; font-weight: bold\">66</span>, var <span style=\"color: #008080; text-decoration-color: #008080; font-weight: bold\">1</span>\n",
       "</pre>\n"
      ],
      "text/plain": [
       "Making paths from route: \u001b[1;36m66\u001b[0m, var \u001b[1;36m1\u001b[0m\n"
      ]
     },
     "metadata": {},
     "output_type": "display_data"
    },
    {
     "data": {
      "text/html": [
       "<pre style=\"white-space:pre;overflow-x:auto;line-height:normal;font-family:Menlo,'DejaVu Sans Mono',consolas,'Courier New',monospace\">Making paths from route: <span style=\"color: #008080; text-decoration-color: #008080; font-weight: bold\">66</span>, var <span style=\"color: #008080; text-decoration-color: #008080; font-weight: bold\">2</span>\n",
       "</pre>\n"
      ],
      "text/plain": [
       "Making paths from route: \u001b[1;36m66\u001b[0m, var \u001b[1;36m2\u001b[0m\n"
      ]
     },
     "metadata": {},
     "output_type": "display_data"
    },
    {
     "data": {
      "text/html": [
       "<pre style=\"white-space:pre;overflow-x:auto;line-height:normal;font-family:Menlo,'DejaVu Sans Mono',consolas,'Courier New',monospace\">Making paths from route: <span style=\"color: #008080; text-decoration-color: #008080; font-weight: bold\">67</span>, var <span style=\"color: #008080; text-decoration-color: #008080; font-weight: bold\">133</span>\n",
       "</pre>\n"
      ],
      "text/plain": [
       "Making paths from route: \u001b[1;36m67\u001b[0m, var \u001b[1;36m133\u001b[0m\n"
      ]
     },
     "metadata": {},
     "output_type": "display_data"
    },
    {
     "data": {
      "text/html": [
       "<pre style=\"white-space:pre;overflow-x:auto;line-height:normal;font-family:Menlo,'DejaVu Sans Mono',consolas,'Courier New',monospace\">Making paths from route: <span style=\"color: #008080; text-decoration-color: #008080; font-weight: bold\">67</span>, var <span style=\"color: #008080; text-decoration-color: #008080; font-weight: bold\">134</span>\n",
       "</pre>\n"
      ],
      "text/plain": [
       "Making paths from route: \u001b[1;36m67\u001b[0m, var \u001b[1;36m134\u001b[0m\n"
      ]
     },
     "metadata": {},
     "output_type": "display_data"
    },
    {
     "data": {
      "text/html": [
       "<pre style=\"white-space:pre;overflow-x:auto;line-height:normal;font-family:Menlo,'DejaVu Sans Mono',consolas,'Courier New',monospace\">Making paths from route: <span style=\"color: #008080; text-decoration-color: #008080; font-weight: bold\">68</span>, var <span style=\"color: #008080; text-decoration-color: #008080; font-weight: bold\">1</span>\n",
       "</pre>\n"
      ],
      "text/plain": [
       "Making paths from route: \u001b[1;36m68\u001b[0m, var \u001b[1;36m1\u001b[0m\n"
      ]
     },
     "metadata": {},
     "output_type": "display_data"
    },
    {
     "data": {
      "text/html": [
       "<pre style=\"white-space:pre;overflow-x:auto;line-height:normal;font-family:Menlo,'DejaVu Sans Mono',consolas,'Courier New',monospace\">Making paths from route: <span style=\"color: #008080; text-decoration-color: #008080; font-weight: bold\">68</span>, var <span style=\"color: #008080; text-decoration-color: #008080; font-weight: bold\">2</span>\n",
       "</pre>\n"
      ],
      "text/plain": [
       "Making paths from route: \u001b[1;36m68\u001b[0m, var \u001b[1;36m2\u001b[0m\n"
      ]
     },
     "metadata": {},
     "output_type": "display_data"
    },
    {
     "data": {
      "text/html": [
       "<pre style=\"white-space:pre;overflow-x:auto;line-height:normal;font-family:Menlo,'DejaVu Sans Mono',consolas,'Courier New',monospace\">Making paths from route: <span style=\"color: #008080; text-decoration-color: #008080; font-weight: bold\">69</span>, var <span style=\"color: #008080; text-decoration-color: #008080; font-weight: bold\">1</span>\n",
       "</pre>\n"
      ],
      "text/plain": [
       "Making paths from route: \u001b[1;36m69\u001b[0m, var \u001b[1;36m1\u001b[0m\n"
      ]
     },
     "metadata": {},
     "output_type": "display_data"
    },
    {
     "data": {
      "text/html": [
       "<pre style=\"white-space:pre;overflow-x:auto;line-height:normal;font-family:Menlo,'DejaVu Sans Mono',consolas,'Courier New',monospace\">Making paths from route: <span style=\"color: #008080; text-decoration-color: #008080; font-weight: bold\">69</span>, var <span style=\"color: #008080; text-decoration-color: #008080; font-weight: bold\">2</span>\n",
       "</pre>\n"
      ],
      "text/plain": [
       "Making paths from route: \u001b[1;36m69\u001b[0m, var \u001b[1;36m2\u001b[0m\n"
      ]
     },
     "metadata": {},
     "output_type": "display_data"
    },
    {
     "data": {
      "text/html": [
       "<pre style=\"white-space:pre;overflow-x:auto;line-height:normal;font-family:Menlo,'DejaVu Sans Mono',consolas,'Courier New',monospace\">Making paths from route: <span style=\"color: #008080; text-decoration-color: #008080; font-weight: bold\">70</span>, var <span style=\"color: #008080; text-decoration-color: #008080; font-weight: bold\">1</span>\n",
       "</pre>\n"
      ],
      "text/plain": [
       "Making paths from route: \u001b[1;36m70\u001b[0m, var \u001b[1;36m1\u001b[0m\n"
      ]
     },
     "metadata": {},
     "output_type": "display_data"
    },
    {
     "data": {
      "text/html": [
       "<pre style=\"white-space:pre;overflow-x:auto;line-height:normal;font-family:Menlo,'DejaVu Sans Mono',consolas,'Courier New',monospace\">Making paths from route: <span style=\"color: #008080; text-decoration-color: #008080; font-weight: bold\">70</span>, var <span style=\"color: #008080; text-decoration-color: #008080; font-weight: bold\">2</span>\n",
       "</pre>\n"
      ],
      "text/plain": [
       "Making paths from route: \u001b[1;36m70\u001b[0m, var \u001b[1;36m2\u001b[0m\n"
      ]
     },
     "metadata": {},
     "output_type": "display_data"
    },
    {
     "data": {
      "text/html": [
       "<pre style=\"white-space:pre;overflow-x:auto;line-height:normal;font-family:Menlo,'DejaVu Sans Mono',consolas,'Courier New',monospace\">Making paths from route: <span style=\"color: #008080; text-decoration-color: #008080; font-weight: bold\">73</span>, var <span style=\"color: #008080; text-decoration-color: #008080; font-weight: bold\">1</span>\n",
       "</pre>\n"
      ],
      "text/plain": [
       "Making paths from route: \u001b[1;36m73\u001b[0m, var \u001b[1;36m1\u001b[0m\n"
      ]
     },
     "metadata": {},
     "output_type": "display_data"
    },
    {
     "data": {
      "text/html": [
       "<pre style=\"white-space:pre;overflow-x:auto;line-height:normal;font-family:Menlo,'DejaVu Sans Mono',consolas,'Courier New',monospace\">Making paths from route: <span style=\"color: #008080; text-decoration-color: #008080; font-weight: bold\">73</span>, var <span style=\"color: #008080; text-decoration-color: #008080; font-weight: bold\">2</span>\n",
       "</pre>\n"
      ],
      "text/plain": [
       "Making paths from route: \u001b[1;36m73\u001b[0m, var \u001b[1;36m2\u001b[0m\n"
      ]
     },
     "metadata": {},
     "output_type": "display_data"
    },
    {
     "data": {
      "text/html": [
       "<pre style=\"white-space:pre;overflow-x:auto;line-height:normal;font-family:Menlo,'DejaVu Sans Mono',consolas,'Courier New',monospace\">Making paths from route: <span style=\"color: #008080; text-decoration-color: #008080; font-weight: bold\">75</span>, var <span style=\"color: #008080; text-decoration-color: #008080; font-weight: bold\">1</span>\n",
       "</pre>\n"
      ],
      "text/plain": [
       "Making paths from route: \u001b[1;36m75\u001b[0m, var \u001b[1;36m1\u001b[0m\n"
      ]
     },
     "metadata": {},
     "output_type": "display_data"
    },
    {
     "data": {
      "text/html": [
       "<pre style=\"white-space:pre;overflow-x:auto;line-height:normal;font-family:Menlo,'DejaVu Sans Mono',consolas,'Courier New',monospace\">Making paths from route: <span style=\"color: #008080; text-decoration-color: #008080; font-weight: bold\">75</span>, var <span style=\"color: #008080; text-decoration-color: #008080; font-weight: bold\">2</span>\n",
       "</pre>\n"
      ],
      "text/plain": [
       "Making paths from route: \u001b[1;36m75\u001b[0m, var \u001b[1;36m2\u001b[0m\n"
      ]
     },
     "metadata": {},
     "output_type": "display_data"
    },
    {
     "data": {
      "text/html": [
       "<pre style=\"white-space:pre;overflow-x:auto;line-height:normal;font-family:Menlo,'DejaVu Sans Mono',consolas,'Courier New',monospace\">Making paths from route: <span style=\"color: #008080; text-decoration-color: #008080; font-weight: bold\">76</span>, var <span style=\"color: #008080; text-decoration-color: #008080; font-weight: bold\">151</span>\n",
       "</pre>\n"
      ],
      "text/plain": [
       "Making paths from route: \u001b[1;36m76\u001b[0m, var \u001b[1;36m151\u001b[0m\n"
      ]
     },
     "metadata": {},
     "output_type": "display_data"
    },
    {
     "data": {
      "text/html": [
       "<pre style=\"white-space:pre;overflow-x:auto;line-height:normal;font-family:Menlo,'DejaVu Sans Mono',consolas,'Courier New',monospace\">Making paths from route: <span style=\"color: #008080; text-decoration-color: #008080; font-weight: bold\">76</span>, var <span style=\"color: #008080; text-decoration-color: #008080; font-weight: bold\">152</span>\n",
       "</pre>\n"
      ],
      "text/plain": [
       "Making paths from route: \u001b[1;36m76\u001b[0m, var \u001b[1;36m152\u001b[0m\n"
      ]
     },
     "metadata": {},
     "output_type": "display_data"
    },
    {
     "data": {
      "text/html": [
       "<pre style=\"white-space:pre;overflow-x:auto;line-height:normal;font-family:Menlo,'DejaVu Sans Mono',consolas,'Courier New',monospace\">Making paths from route: <span style=\"color: #008080; text-decoration-color: #008080; font-weight: bold\">77</span>, var <span style=\"color: #008080; text-decoration-color: #008080; font-weight: bold\">153</span>\n",
       "</pre>\n"
      ],
      "text/plain": [
       "Making paths from route: \u001b[1;36m77\u001b[0m, var \u001b[1;36m153\u001b[0m\n"
      ]
     },
     "metadata": {},
     "output_type": "display_data"
    },
    {
     "data": {
      "text/html": [
       "<pre style=\"white-space:pre;overflow-x:auto;line-height:normal;font-family:Menlo,'DejaVu Sans Mono',consolas,'Courier New',monospace\">Making paths from route: <span style=\"color: #008080; text-decoration-color: #008080; font-weight: bold\">77</span>, var <span style=\"color: #008080; text-decoration-color: #008080; font-weight: bold\">154</span>\n",
       "</pre>\n"
      ],
      "text/plain": [
       "Making paths from route: \u001b[1;36m77\u001b[0m, var \u001b[1;36m154\u001b[0m\n"
      ]
     },
     "metadata": {},
     "output_type": "display_data"
    },
    {
     "data": {
      "text/html": [
       "<pre style=\"white-space:pre;overflow-x:auto;line-height:normal;font-family:Menlo,'DejaVu Sans Mono',consolas,'Courier New',monospace\">Making paths from route: <span style=\"color: #008080; text-decoration-color: #008080; font-weight: bold\">78</span>, var <span style=\"color: #008080; text-decoration-color: #008080; font-weight: bold\">1</span>\n",
       "</pre>\n"
      ],
      "text/plain": [
       "Making paths from route: \u001b[1;36m78\u001b[0m, var \u001b[1;36m1\u001b[0m\n"
      ]
     },
     "metadata": {},
     "output_type": "display_data"
    },
    {
     "data": {
      "text/html": [
       "<pre style=\"white-space:pre;overflow-x:auto;line-height:normal;font-family:Menlo,'DejaVu Sans Mono',consolas,'Courier New',monospace\">Making paths from route: <span style=\"color: #008080; text-decoration-color: #008080; font-weight: bold\">78</span>, var <span style=\"color: #008080; text-decoration-color: #008080; font-weight: bold\">2</span>\n",
       "</pre>\n"
      ],
      "text/plain": [
       "Making paths from route: \u001b[1;36m78\u001b[0m, var \u001b[1;36m2\u001b[0m\n"
      ]
     },
     "metadata": {},
     "output_type": "display_data"
    },
    {
     "data": {
      "text/html": [
       "<pre style=\"white-space:pre;overflow-x:auto;line-height:normal;font-family:Menlo,'DejaVu Sans Mono',consolas,'Courier New',monospace\">Making paths from route: <span style=\"color: #008080; text-decoration-color: #008080; font-weight: bold\">79</span>, var <span style=\"color: #008080; text-decoration-color: #008080; font-weight: bold\">157</span>\n",
       "</pre>\n"
      ],
      "text/plain": [
       "Making paths from route: \u001b[1;36m79\u001b[0m, var \u001b[1;36m157\u001b[0m\n"
      ]
     },
     "metadata": {},
     "output_type": "display_data"
    },
    {
     "data": {
      "text/html": [
       "<pre style=\"white-space:pre;overflow-x:auto;line-height:normal;font-family:Menlo,'DejaVu Sans Mono',consolas,'Courier New',monospace\">Making paths from route: <span style=\"color: #008080; text-decoration-color: #008080; font-weight: bold\">79</span>, var <span style=\"color: #008080; text-decoration-color: #008080; font-weight: bold\">158</span>\n",
       "</pre>\n"
      ],
      "text/plain": [
       "Making paths from route: \u001b[1;36m79\u001b[0m, var \u001b[1;36m158\u001b[0m\n"
      ]
     },
     "metadata": {},
     "output_type": "display_data"
    },
    {
     "data": {
      "text/html": [
       "<pre style=\"white-space:pre;overflow-x:auto;line-height:normal;font-family:Menlo,'DejaVu Sans Mono',consolas,'Courier New',monospace\">Making paths from route: <span style=\"color: #008080; text-decoration-color: #008080; font-weight: bold\">81</span>, var <span style=\"color: #008080; text-decoration-color: #008080; font-weight: bold\">1</span>\n",
       "</pre>\n"
      ],
      "text/plain": [
       "Making paths from route: \u001b[1;36m81\u001b[0m, var \u001b[1;36m1\u001b[0m\n"
      ]
     },
     "metadata": {},
     "output_type": "display_data"
    },
    {
     "data": {
      "text/html": [
       "<pre style=\"white-space:pre;overflow-x:auto;line-height:normal;font-family:Menlo,'DejaVu Sans Mono',consolas,'Courier New',monospace\">Making paths from route: <span style=\"color: #008080; text-decoration-color: #008080; font-weight: bold\">81</span>, var <span style=\"color: #008080; text-decoration-color: #008080; font-weight: bold\">2</span>\n",
       "</pre>\n"
      ],
      "text/plain": [
       "Making paths from route: \u001b[1;36m81\u001b[0m, var \u001b[1;36m2\u001b[0m\n"
      ]
     },
     "metadata": {},
     "output_type": "display_data"
    },
    {
     "data": {
      "text/html": [
       "<pre style=\"white-space:pre;overflow-x:auto;line-height:normal;font-family:Menlo,'DejaVu Sans Mono',consolas,'Courier New',monospace\">Making paths from route: <span style=\"color: #008080; text-decoration-color: #008080; font-weight: bold\">215</span>, var <span style=\"color: #008080; text-decoration-color: #008080; font-weight: bold\">1</span>\n",
       "</pre>\n"
      ],
      "text/plain": [
       "Making paths from route: \u001b[1;36m215\u001b[0m, var \u001b[1;36m1\u001b[0m\n"
      ]
     },
     "metadata": {},
     "output_type": "display_data"
    },
    {
     "data": {
      "text/html": [
       "<pre style=\"white-space:pre;overflow-x:auto;line-height:normal;font-family:Menlo,'DejaVu Sans Mono',consolas,'Courier New',monospace\">Making paths from route: <span style=\"color: #008080; text-decoration-color: #008080; font-weight: bold\">215</span>, var <span style=\"color: #008080; text-decoration-color: #008080; font-weight: bold\">2</span>\n",
       "</pre>\n"
      ],
      "text/plain": [
       "Making paths from route: \u001b[1;36m215\u001b[0m, var \u001b[1;36m2\u001b[0m\n"
      ]
     },
     "metadata": {},
     "output_type": "display_data"
    },
    {
     "data": {
      "text/html": [
       "<pre style=\"white-space:pre;overflow-x:auto;line-height:normal;font-family:Menlo,'DejaVu Sans Mono',consolas,'Courier New',monospace\">Making paths from route: <span style=\"color: #008080; text-decoration-color: #008080; font-weight: bold\">82</span>, var <span style=\"color: #008080; text-decoration-color: #008080; font-weight: bold\">1</span>\n",
       "</pre>\n"
      ],
      "text/plain": [
       "Making paths from route: \u001b[1;36m82\u001b[0m, var \u001b[1;36m1\u001b[0m\n"
      ]
     },
     "metadata": {},
     "output_type": "display_data"
    },
    {
     "data": {
      "text/html": [
       "<pre style=\"white-space:pre;overflow-x:auto;line-height:normal;font-family:Menlo,'DejaVu Sans Mono',consolas,'Courier New',monospace\">Making paths from route: <span style=\"color: #008080; text-decoration-color: #008080; font-weight: bold\">82</span>, var <span style=\"color: #008080; text-decoration-color: #008080; font-weight: bold\">2</span>\n",
       "</pre>\n"
      ],
      "text/plain": [
       "Making paths from route: \u001b[1;36m82\u001b[0m, var \u001b[1;36m2\u001b[0m\n"
      ]
     },
     "metadata": {},
     "output_type": "display_data"
    },
    {
     "data": {
      "text/html": [
       "<pre style=\"white-space:pre;overflow-x:auto;line-height:normal;font-family:Menlo,'DejaVu Sans Mono',consolas,'Courier New',monospace\">Making paths from route: <span style=\"color: #008080; text-decoration-color: #008080; font-weight: bold\">83</span>, var <span style=\"color: #008080; text-decoration-color: #008080; font-weight: bold\">1</span>\n",
       "</pre>\n"
      ],
      "text/plain": [
       "Making paths from route: \u001b[1;36m83\u001b[0m, var \u001b[1;36m1\u001b[0m\n"
      ]
     },
     "metadata": {},
     "output_type": "display_data"
    },
    {
     "data": {
      "text/html": [
       "<pre style=\"white-space:pre;overflow-x:auto;line-height:normal;font-family:Menlo,'DejaVu Sans Mono',consolas,'Courier New',monospace\">Making paths from route: <span style=\"color: #008080; text-decoration-color: #008080; font-weight: bold\">83</span>, var <span style=\"color: #008080; text-decoration-color: #008080; font-weight: bold\">2</span>\n",
       "</pre>\n"
      ],
      "text/plain": [
       "Making paths from route: \u001b[1;36m83\u001b[0m, var \u001b[1;36m2\u001b[0m\n"
      ]
     },
     "metadata": {},
     "output_type": "display_data"
    },
    {
     "data": {
      "text/html": [
       "<pre style=\"white-space:pre;overflow-x:auto;line-height:normal;font-family:Menlo,'DejaVu Sans Mono',consolas,'Courier New',monospace\">Making paths from route: <span style=\"color: #008080; text-decoration-color: #008080; font-weight: bold\">84</span>, var <span style=\"color: #008080; text-decoration-color: #008080; font-weight: bold\">1</span>\n",
       "</pre>\n"
      ],
      "text/plain": [
       "Making paths from route: \u001b[1;36m84\u001b[0m, var \u001b[1;36m1\u001b[0m\n"
      ]
     },
     "metadata": {},
     "output_type": "display_data"
    },
    {
     "data": {
      "text/html": [
       "<pre style=\"white-space:pre;overflow-x:auto;line-height:normal;font-family:Menlo,'DejaVu Sans Mono',consolas,'Courier New',monospace\">Making paths from route: <span style=\"color: #008080; text-decoration-color: #008080; font-weight: bold\">84</span>, var <span style=\"color: #008080; text-decoration-color: #008080; font-weight: bold\">2</span>\n",
       "</pre>\n"
      ],
      "text/plain": [
       "Making paths from route: \u001b[1;36m84\u001b[0m, var \u001b[1;36m2\u001b[0m\n"
      ]
     },
     "metadata": {},
     "output_type": "display_data"
    },
    {
     "data": {
      "text/html": [
       "<pre style=\"white-space:pre;overflow-x:auto;line-height:normal;font-family:Menlo,'DejaVu Sans Mono',consolas,'Courier New',monospace\">Making paths from route: <span style=\"color: #008080; text-decoration-color: #008080; font-weight: bold\">85</span>, var <span style=\"color: #008080; text-decoration-color: #008080; font-weight: bold\">1</span>\n",
       "</pre>\n"
      ],
      "text/plain": [
       "Making paths from route: \u001b[1;36m85\u001b[0m, var \u001b[1;36m1\u001b[0m\n"
      ]
     },
     "metadata": {},
     "output_type": "display_data"
    },
    {
     "data": {
      "text/html": [
       "<pre style=\"white-space:pre;overflow-x:auto;line-height:normal;font-family:Menlo,'DejaVu Sans Mono',consolas,'Courier New',monospace\">Making paths from route: <span style=\"color: #008080; text-decoration-color: #008080; font-weight: bold\">85</span>, var <span style=\"color: #008080; text-decoration-color: #008080; font-weight: bold\">2</span>\n",
       "</pre>\n"
      ],
      "text/plain": [
       "Making paths from route: \u001b[1;36m85\u001b[0m, var \u001b[1;36m2\u001b[0m\n"
      ]
     },
     "metadata": {},
     "output_type": "display_data"
    },
    {
     "data": {
      "text/html": [
       "<pre style=\"white-space:pre;overflow-x:auto;line-height:normal;font-family:Menlo,'DejaVu Sans Mono',consolas,'Courier New',monospace\">Making paths from route: <span style=\"color: #008080; text-decoration-color: #008080; font-weight: bold\">86</span>, var <span style=\"color: #008080; text-decoration-color: #008080; font-weight: bold\">1</span>\n",
       "</pre>\n"
      ],
      "text/plain": [
       "Making paths from route: \u001b[1;36m86\u001b[0m, var \u001b[1;36m1\u001b[0m\n"
      ]
     },
     "metadata": {},
     "output_type": "display_data"
    },
    {
     "data": {
      "text/html": [
       "<pre style=\"white-space:pre;overflow-x:auto;line-height:normal;font-family:Menlo,'DejaVu Sans Mono',consolas,'Courier New',monospace\">Making paths from route: <span style=\"color: #008080; text-decoration-color: #008080; font-weight: bold\">86</span>, var <span style=\"color: #008080; text-decoration-color: #008080; font-weight: bold\">2</span>\n",
       "</pre>\n"
      ],
      "text/plain": [
       "Making paths from route: \u001b[1;36m86\u001b[0m, var \u001b[1;36m2\u001b[0m\n"
      ]
     },
     "metadata": {},
     "output_type": "display_data"
    },
    {
     "data": {
      "text/html": [
       "<pre style=\"white-space:pre;overflow-x:auto;line-height:normal;font-family:Menlo,'DejaVu Sans Mono',consolas,'Courier New',monospace\">Making paths from route: <span style=\"color: #008080; text-decoration-color: #008080; font-weight: bold\">87</span>, var <span style=\"color: #008080; text-decoration-color: #008080; font-weight: bold\">1</span>\n",
       "</pre>\n"
      ],
      "text/plain": [
       "Making paths from route: \u001b[1;36m87\u001b[0m, var \u001b[1;36m1\u001b[0m\n"
      ]
     },
     "metadata": {},
     "output_type": "display_data"
    },
    {
     "data": {
      "text/html": [
       "<pre style=\"white-space:pre;overflow-x:auto;line-height:normal;font-family:Menlo,'DejaVu Sans Mono',consolas,'Courier New',monospace\">Making paths from route: <span style=\"color: #008080; text-decoration-color: #008080; font-weight: bold\">87</span>, var <span style=\"color: #008080; text-decoration-color: #008080; font-weight: bold\">2</span>\n",
       "</pre>\n"
      ],
      "text/plain": [
       "Making paths from route: \u001b[1;36m87\u001b[0m, var \u001b[1;36m2\u001b[0m\n"
      ]
     },
     "metadata": {},
     "output_type": "display_data"
    },
    {
     "data": {
      "text/html": [
       "<pre style=\"white-space:pre;overflow-x:auto;line-height:normal;font-family:Menlo,'DejaVu Sans Mono',consolas,'Courier New',monospace\">Making paths from route: <span style=\"color: #008080; text-decoration-color: #008080; font-weight: bold\">88</span>, var <span style=\"color: #008080; text-decoration-color: #008080; font-weight: bold\">1</span>\n",
       "</pre>\n"
      ],
      "text/plain": [
       "Making paths from route: \u001b[1;36m88\u001b[0m, var \u001b[1;36m1\u001b[0m\n"
      ]
     },
     "metadata": {},
     "output_type": "display_data"
    },
    {
     "data": {
      "text/html": [
       "<pre style=\"white-space:pre;overflow-x:auto;line-height:normal;font-family:Menlo,'DejaVu Sans Mono',consolas,'Courier New',monospace\">Making paths from route: <span style=\"color: #008080; text-decoration-color: #008080; font-weight: bold\">88</span>, var <span style=\"color: #008080; text-decoration-color: #008080; font-weight: bold\">2</span>\n",
       "</pre>\n"
      ],
      "text/plain": [
       "Making paths from route: \u001b[1;36m88\u001b[0m, var \u001b[1;36m2\u001b[0m\n"
      ]
     },
     "metadata": {},
     "output_type": "display_data"
    },
    {
     "data": {
      "text/html": [
       "<pre style=\"white-space:pre;overflow-x:auto;line-height:normal;font-family:Menlo,'DejaVu Sans Mono',consolas,'Courier New',monospace\">Making paths from route: <span style=\"color: #008080; text-decoration-color: #008080; font-weight: bold\">89</span>, var <span style=\"color: #008080; text-decoration-color: #008080; font-weight: bold\">1</span>\n",
       "</pre>\n"
      ],
      "text/plain": [
       "Making paths from route: \u001b[1;36m89\u001b[0m, var \u001b[1;36m1\u001b[0m\n"
      ]
     },
     "metadata": {},
     "output_type": "display_data"
    },
    {
     "data": {
      "text/html": [
       "<pre style=\"white-space:pre;overflow-x:auto;line-height:normal;font-family:Menlo,'DejaVu Sans Mono',consolas,'Courier New',monospace\">Making paths from route: <span style=\"color: #008080; text-decoration-color: #008080; font-weight: bold\">89</span>, var <span style=\"color: #008080; text-decoration-color: #008080; font-weight: bold\">2</span>\n",
       "</pre>\n"
      ],
      "text/plain": [
       "Making paths from route: \u001b[1;36m89\u001b[0m, var \u001b[1;36m2\u001b[0m\n"
      ]
     },
     "metadata": {},
     "output_type": "display_data"
    },
    {
     "data": {
      "text/html": [
       "<pre style=\"white-space:pre;overflow-x:auto;line-height:normal;font-family:Menlo,'DejaVu Sans Mono',consolas,'Courier New',monospace\">Making paths from route: <span style=\"color: #008080; text-decoration-color: #008080; font-weight: bold\">90</span>, var <span style=\"color: #008080; text-decoration-color: #008080; font-weight: bold\">1</span>\n",
       "</pre>\n"
      ],
      "text/plain": [
       "Making paths from route: \u001b[1;36m90\u001b[0m, var \u001b[1;36m1\u001b[0m\n"
      ]
     },
     "metadata": {},
     "output_type": "display_data"
    },
    {
     "data": {
      "text/html": [
       "<pre style=\"white-space:pre;overflow-x:auto;line-height:normal;font-family:Menlo,'DejaVu Sans Mono',consolas,'Courier New',monospace\">Making paths from route: <span style=\"color: #008080; text-decoration-color: #008080; font-weight: bold\">90</span>, var <span style=\"color: #008080; text-decoration-color: #008080; font-weight: bold\">2</span>\n",
       "</pre>\n"
      ],
      "text/plain": [
       "Making paths from route: \u001b[1;36m90\u001b[0m, var \u001b[1;36m2\u001b[0m\n"
      ]
     },
     "metadata": {},
     "output_type": "display_data"
    },
    {
     "data": {
      "text/html": [
       "<pre style=\"white-space:pre;overflow-x:auto;line-height:normal;font-family:Menlo,'DejaVu Sans Mono',consolas,'Courier New',monospace\">Making paths from route: <span style=\"color: #008080; text-decoration-color: #008080; font-weight: bold\">91</span>, var <span style=\"color: #008080; text-decoration-color: #008080; font-weight: bold\">181</span>\n",
       "</pre>\n"
      ],
      "text/plain": [
       "Making paths from route: \u001b[1;36m91\u001b[0m, var \u001b[1;36m181\u001b[0m\n"
      ]
     },
     "metadata": {},
     "output_type": "display_data"
    },
    {
     "data": {
      "text/html": [
       "<pre style=\"white-space:pre;overflow-x:auto;line-height:normal;font-family:Menlo,'DejaVu Sans Mono',consolas,'Courier New',monospace\">Making paths from route: <span style=\"color: #008080; text-decoration-color: #008080; font-weight: bold\">91</span>, var <span style=\"color: #008080; text-decoration-color: #008080; font-weight: bold\">182</span>\n",
       "</pre>\n"
      ],
      "text/plain": [
       "Making paths from route: \u001b[1;36m91\u001b[0m, var \u001b[1;36m182\u001b[0m\n"
      ]
     },
     "metadata": {},
     "output_type": "display_data"
    },
    {
     "data": {
      "text/html": [
       "<pre style=\"white-space:pre;overflow-x:auto;line-height:normal;font-family:Menlo,'DejaVu Sans Mono',consolas,'Courier New',monospace\">Making paths from route: <span style=\"color: #008080; text-decoration-color: #008080; font-weight: bold\">204</span>, var <span style=\"color: #008080; text-decoration-color: #008080; font-weight: bold\">1</span>\n",
       "</pre>\n"
      ],
      "text/plain": [
       "Making paths from route: \u001b[1;36m204\u001b[0m, var \u001b[1;36m1\u001b[0m\n"
      ]
     },
     "metadata": {},
     "output_type": "display_data"
    },
    {
     "data": {
      "text/html": [
       "<pre style=\"white-space:pre;overflow-x:auto;line-height:normal;font-family:Menlo,'DejaVu Sans Mono',consolas,'Courier New',monospace\">Making paths from route: <span style=\"color: #008080; text-decoration-color: #008080; font-weight: bold\">204</span>, var <span style=\"color: #008080; text-decoration-color: #008080; font-weight: bold\">2</span>\n",
       "</pre>\n"
      ],
      "text/plain": [
       "Making paths from route: \u001b[1;36m204\u001b[0m, var \u001b[1;36m2\u001b[0m\n"
      ]
     },
     "metadata": {},
     "output_type": "display_data"
    },
    {
     "data": {
      "text/html": [
       "<pre style=\"white-space:pre;overflow-x:auto;line-height:normal;font-family:Menlo,'DejaVu Sans Mono',consolas,'Courier New',monospace\">Making paths from route: <span style=\"color: #008080; text-decoration-color: #008080; font-weight: bold\">92</span>, var <span style=\"color: #008080; text-decoration-color: #008080; font-weight: bold\">1</span>\n",
       "</pre>\n"
      ],
      "text/plain": [
       "Making paths from route: \u001b[1;36m92\u001b[0m, var \u001b[1;36m1\u001b[0m\n"
      ]
     },
     "metadata": {},
     "output_type": "display_data"
    },
    {
     "data": {
      "text/html": [
       "<pre style=\"white-space:pre;overflow-x:auto;line-height:normal;font-family:Menlo,'DejaVu Sans Mono',consolas,'Courier New',monospace\">Making paths from route: <span style=\"color: #008080; text-decoration-color: #008080; font-weight: bold\">92</span>, var <span style=\"color: #008080; text-decoration-color: #008080; font-weight: bold\">2</span>\n",
       "</pre>\n"
      ],
      "text/plain": [
       "Making paths from route: \u001b[1;36m92\u001b[0m, var \u001b[1;36m2\u001b[0m\n"
      ]
     },
     "metadata": {},
     "output_type": "display_data"
    },
    {
     "data": {
      "text/html": [
       "<pre style=\"white-space:pre;overflow-x:auto;line-height:normal;font-family:Menlo,'DejaVu Sans Mono',consolas,'Courier New',monospace\">Making paths from route: <span style=\"color: #008080; text-decoration-color: #008080; font-weight: bold\">93</span>, var <span style=\"color: #008080; text-decoration-color: #008080; font-weight: bold\">1</span>\n",
       "</pre>\n"
      ],
      "text/plain": [
       "Making paths from route: \u001b[1;36m93\u001b[0m, var \u001b[1;36m1\u001b[0m\n"
      ]
     },
     "metadata": {},
     "output_type": "display_data"
    },
    {
     "data": {
      "text/html": [
       "<pre style=\"white-space:pre;overflow-x:auto;line-height:normal;font-family:Menlo,'DejaVu Sans Mono',consolas,'Courier New',monospace\">Making paths from route: <span style=\"color: #008080; text-decoration-color: #008080; font-weight: bold\">93</span>, var <span style=\"color: #008080; text-decoration-color: #008080; font-weight: bold\">2</span>\n",
       "</pre>\n"
      ],
      "text/plain": [
       "Making paths from route: \u001b[1;36m93\u001b[0m, var \u001b[1;36m2\u001b[0m\n"
      ]
     },
     "metadata": {},
     "output_type": "display_data"
    },
    {
     "data": {
      "text/html": [
       "<pre style=\"white-space:pre;overflow-x:auto;line-height:normal;font-family:Menlo,'DejaVu Sans Mono',consolas,'Courier New',monospace\">Making paths from route: <span style=\"color: #008080; text-decoration-color: #008080; font-weight: bold\">94</span>, var <span style=\"color: #008080; text-decoration-color: #008080; font-weight: bold\">1</span>\n",
       "</pre>\n"
      ],
      "text/plain": [
       "Making paths from route: \u001b[1;36m94\u001b[0m, var \u001b[1;36m1\u001b[0m\n"
      ]
     },
     "metadata": {},
     "output_type": "display_data"
    },
    {
     "data": {
      "text/html": [
       "<pre style=\"white-space:pre;overflow-x:auto;line-height:normal;font-family:Menlo,'DejaVu Sans Mono',consolas,'Courier New',monospace\">Making paths from route: <span style=\"color: #008080; text-decoration-color: #008080; font-weight: bold\">94</span>, var <span style=\"color: #008080; text-decoration-color: #008080; font-weight: bold\">2</span>\n",
       "</pre>\n"
      ],
      "text/plain": [
       "Making paths from route: \u001b[1;36m94\u001b[0m, var \u001b[1;36m2\u001b[0m\n"
      ]
     },
     "metadata": {},
     "output_type": "display_data"
    },
    {
     "data": {
      "text/html": [
       "<pre style=\"white-space:pre;overflow-x:auto;line-height:normal;font-family:Menlo,'DejaVu Sans Mono',consolas,'Courier New',monospace\">Making paths from route: <span style=\"color: #008080; text-decoration-color: #008080; font-weight: bold\">95</span>, var <span style=\"color: #008080; text-decoration-color: #008080; font-weight: bold\">1</span>\n",
       "</pre>\n"
      ],
      "text/plain": [
       "Making paths from route: \u001b[1;36m95\u001b[0m, var \u001b[1;36m1\u001b[0m\n"
      ]
     },
     "metadata": {},
     "output_type": "display_data"
    },
    {
     "data": {
      "text/html": [
       "<pre style=\"white-space:pre;overflow-x:auto;line-height:normal;font-family:Menlo,'DejaVu Sans Mono',consolas,'Courier New',monospace\">Making paths from route: <span style=\"color: #008080; text-decoration-color: #008080; font-weight: bold\">95</span>, var <span style=\"color: #008080; text-decoration-color: #008080; font-weight: bold\">2</span>\n",
       "</pre>\n"
      ],
      "text/plain": [
       "Making paths from route: \u001b[1;36m95\u001b[0m, var \u001b[1;36m2\u001b[0m\n"
      ]
     },
     "metadata": {},
     "output_type": "display_data"
    },
    {
     "data": {
      "text/html": [
       "<pre style=\"white-space:pre;overflow-x:auto;line-height:normal;font-family:Menlo,'DejaVu Sans Mono',consolas,'Courier New',monospace\">Making paths from route: <span style=\"color: #008080; text-decoration-color: #008080; font-weight: bold\">97</span>, var <span style=\"color: #008080; text-decoration-color: #008080; font-weight: bold\">1</span>\n",
       "</pre>\n"
      ],
      "text/plain": [
       "Making paths from route: \u001b[1;36m97\u001b[0m, var \u001b[1;36m1\u001b[0m\n"
      ]
     },
     "metadata": {},
     "output_type": "display_data"
    },
    {
     "data": {
      "text/html": [
       "<pre style=\"white-space:pre;overflow-x:auto;line-height:normal;font-family:Menlo,'DejaVu Sans Mono',consolas,'Courier New',monospace\">Making paths from route: <span style=\"color: #008080; text-decoration-color: #008080; font-weight: bold\">97</span>, var <span style=\"color: #008080; text-decoration-color: #008080; font-weight: bold\">2</span>\n",
       "</pre>\n"
      ],
      "text/plain": [
       "Making paths from route: \u001b[1;36m97\u001b[0m, var \u001b[1;36m2\u001b[0m\n"
      ]
     },
     "metadata": {},
     "output_type": "display_data"
    },
    {
     "data": {
      "text/html": [
       "<pre style=\"white-space:pre;overflow-x:auto;line-height:normal;font-family:Menlo,'DejaVu Sans Mono',consolas,'Courier New',monospace\">Making paths from route: <span style=\"color: #008080; text-decoration-color: #008080; font-weight: bold\">214</span>, var <span style=\"color: #008080; text-decoration-color: #008080; font-weight: bold\">1</span>\n",
       "</pre>\n"
      ],
      "text/plain": [
       "Making paths from route: \u001b[1;36m214\u001b[0m, var \u001b[1;36m1\u001b[0m\n"
      ]
     },
     "metadata": {},
     "output_type": "display_data"
    },
    {
     "data": {
      "text/html": [
       "<pre style=\"white-space:pre;overflow-x:auto;line-height:normal;font-family:Menlo,'DejaVu Sans Mono',consolas,'Courier New',monospace\">Making paths from route: <span style=\"color: #008080; text-decoration-color: #008080; font-weight: bold\">214</span>, var <span style=\"color: #008080; text-decoration-color: #008080; font-weight: bold\">2</span>\n",
       "</pre>\n"
      ],
      "text/plain": [
       "Making paths from route: \u001b[1;36m214\u001b[0m, var \u001b[1;36m2\u001b[0m\n"
      ]
     },
     "metadata": {},
     "output_type": "display_data"
    },
    {
     "data": {
      "text/html": [
       "<pre style=\"white-space:pre;overflow-x:auto;line-height:normal;font-family:Menlo,'DejaVu Sans Mono',consolas,'Courier New',monospace\">Making paths from route: <span style=\"color: #008080; text-decoration-color: #008080; font-weight: bold\">98</span>, var <span style=\"color: #008080; text-decoration-color: #008080; font-weight: bold\">1</span>\n",
       "</pre>\n"
      ],
      "text/plain": [
       "Making paths from route: \u001b[1;36m98\u001b[0m, var \u001b[1;36m1\u001b[0m\n"
      ]
     },
     "metadata": {},
     "output_type": "display_data"
    },
    {
     "data": {
      "text/html": [
       "<pre style=\"white-space:pre;overflow-x:auto;line-height:normal;font-family:Menlo,'DejaVu Sans Mono',consolas,'Courier New',monospace\">Making paths from route: <span style=\"color: #008080; text-decoration-color: #008080; font-weight: bold\">98</span>, var <span style=\"color: #008080; text-decoration-color: #008080; font-weight: bold\">2</span>\n",
       "</pre>\n"
      ],
      "text/plain": [
       "Making paths from route: \u001b[1;36m98\u001b[0m, var \u001b[1;36m2\u001b[0m\n"
      ]
     },
     "metadata": {},
     "output_type": "display_data"
    },
    {
     "data": {
      "text/html": [
       "<pre style=\"white-space:pre;overflow-x:auto;line-height:normal;font-family:Menlo,'DejaVu Sans Mono',consolas,'Courier New',monospace\">Making paths from route: <span style=\"color: #008080; text-decoration-color: #008080; font-weight: bold\">99</span>, var <span style=\"color: #008080; text-decoration-color: #008080; font-weight: bold\">1</span>\n",
       "</pre>\n"
      ],
      "text/plain": [
       "Making paths from route: \u001b[1;36m99\u001b[0m, var \u001b[1;36m1\u001b[0m\n"
      ]
     },
     "metadata": {},
     "output_type": "display_data"
    },
    {
     "data": {
      "text/html": [
       "<pre style=\"white-space:pre;overflow-x:auto;line-height:normal;font-family:Menlo,'DejaVu Sans Mono',consolas,'Courier New',monospace\">Making paths from route: <span style=\"color: #008080; text-decoration-color: #008080; font-weight: bold\">99</span>, var <span style=\"color: #008080; text-decoration-color: #008080; font-weight: bold\">2</span>\n",
       "</pre>\n"
      ],
      "text/plain": [
       "Making paths from route: \u001b[1;36m99\u001b[0m, var \u001b[1;36m2\u001b[0m\n"
      ]
     },
     "metadata": {},
     "output_type": "display_data"
    },
    {
     "data": {
      "text/html": [
       "<pre style=\"white-space:pre;overflow-x:auto;line-height:normal;font-family:Menlo,'DejaVu Sans Mono',consolas,'Courier New',monospace\">Making paths from route: <span style=\"color: #008080; text-decoration-color: #008080; font-weight: bold\">100</span>, var <span style=\"color: #008080; text-decoration-color: #008080; font-weight: bold\">1</span>\n",
       "</pre>\n"
      ],
      "text/plain": [
       "Making paths from route: \u001b[1;36m100\u001b[0m, var \u001b[1;36m1\u001b[0m\n"
      ]
     },
     "metadata": {},
     "output_type": "display_data"
    },
    {
     "data": {
      "text/html": [
       "<pre style=\"white-space:pre;overflow-x:auto;line-height:normal;font-family:Menlo,'DejaVu Sans Mono',consolas,'Courier New',monospace\">Making paths from route: <span style=\"color: #008080; text-decoration-color: #008080; font-weight: bold\">100</span>, var <span style=\"color: #008080; text-decoration-color: #008080; font-weight: bold\">2</span>\n",
       "</pre>\n"
      ],
      "text/plain": [
       "Making paths from route: \u001b[1;36m100\u001b[0m, var \u001b[1;36m2\u001b[0m\n"
      ]
     },
     "metadata": {},
     "output_type": "display_data"
    },
    {
     "data": {
      "text/html": [
       "<pre style=\"white-space:pre;overflow-x:auto;line-height:normal;font-family:Menlo,'DejaVu Sans Mono',consolas,'Courier New',monospace\">Making paths from route: <span style=\"color: #008080; text-decoration-color: #008080; font-weight: bold\">101</span>, var <span style=\"color: #008080; text-decoration-color: #008080; font-weight: bold\">201</span>\n",
       "</pre>\n"
      ],
      "text/plain": [
       "Making paths from route: \u001b[1;36m101\u001b[0m, var \u001b[1;36m201\u001b[0m\n"
      ]
     },
     "metadata": {},
     "output_type": "display_data"
    },
    {
     "data": {
      "text/html": [
       "<pre style=\"white-space:pre;overflow-x:auto;line-height:normal;font-family:Menlo,'DejaVu Sans Mono',consolas,'Courier New',monospace\">Making paths from route: <span style=\"color: #008080; text-decoration-color: #008080; font-weight: bold\">101</span>, var <span style=\"color: #008080; text-decoration-color: #008080; font-weight: bold\">202</span>\n",
       "</pre>\n"
      ],
      "text/plain": [
       "Making paths from route: \u001b[1;36m101\u001b[0m, var \u001b[1;36m202\u001b[0m\n"
      ]
     },
     "metadata": {},
     "output_type": "display_data"
    },
    {
     "data": {
      "text/html": [
       "<pre style=\"white-space:pre;overflow-x:auto;line-height:normal;font-family:Menlo,'DejaVu Sans Mono',consolas,'Courier New',monospace\">Making paths from route: <span style=\"color: #008080; text-decoration-color: #008080; font-weight: bold\">102</span>, var <span style=\"color: #008080; text-decoration-color: #008080; font-weight: bold\">203</span>\n",
       "</pre>\n"
      ],
      "text/plain": [
       "Making paths from route: \u001b[1;36m102\u001b[0m, var \u001b[1;36m203\u001b[0m\n"
      ]
     },
     "metadata": {},
     "output_type": "display_data"
    },
    {
     "data": {
      "text/html": [
       "<pre style=\"white-space:pre;overflow-x:auto;line-height:normal;font-family:Menlo,'DejaVu Sans Mono',consolas,'Courier New',monospace\">Making paths from route: <span style=\"color: #008080; text-decoration-color: #008080; font-weight: bold\">102</span>, var <span style=\"color: #008080; text-decoration-color: #008080; font-weight: bold\">204</span>\n",
       "</pre>\n"
      ],
      "text/plain": [
       "Making paths from route: \u001b[1;36m102\u001b[0m, var \u001b[1;36m204\u001b[0m\n"
      ]
     },
     "metadata": {},
     "output_type": "display_data"
    },
    {
     "data": {
      "text/html": [
       "<pre style=\"white-space:pre;overflow-x:auto;line-height:normal;font-family:Menlo,'DejaVu Sans Mono',consolas,'Courier New',monospace\">Making paths from route: <span style=\"color: #008080; text-decoration-color: #008080; font-weight: bold\">105</span>, var <span style=\"color: #008080; text-decoration-color: #008080; font-weight: bold\">1</span>\n",
       "</pre>\n"
      ],
      "text/plain": [
       "Making paths from route: \u001b[1;36m105\u001b[0m, var \u001b[1;36m1\u001b[0m\n"
      ]
     },
     "metadata": {},
     "output_type": "display_data"
    },
    {
     "data": {
      "text/html": [
       "<pre style=\"white-space:pre;overflow-x:auto;line-height:normal;font-family:Menlo,'DejaVu Sans Mono',consolas,'Courier New',monospace\">Making paths from route: <span style=\"color: #008080; text-decoration-color: #008080; font-weight: bold\">105</span>, var <span style=\"color: #008080; text-decoration-color: #008080; font-weight: bold\">2</span>\n",
       "</pre>\n"
      ],
      "text/plain": [
       "Making paths from route: \u001b[1;36m105\u001b[0m, var \u001b[1;36m2\u001b[0m\n"
      ]
     },
     "metadata": {},
     "output_type": "display_data"
    },
    {
     "data": {
      "text/html": [
       "<pre style=\"white-space:pre;overflow-x:auto;line-height:normal;font-family:Menlo,'DejaVu Sans Mono',consolas,'Courier New',monospace\">Making paths from route: <span style=\"color: #008080; text-decoration-color: #008080; font-weight: bold\">104</span>, var <span style=\"color: #008080; text-decoration-color: #008080; font-weight: bold\">1</span>\n",
       "</pre>\n"
      ],
      "text/plain": [
       "Making paths from route: \u001b[1;36m104\u001b[0m, var \u001b[1;36m1\u001b[0m\n"
      ]
     },
     "metadata": {},
     "output_type": "display_data"
    },
    {
     "data": {
      "text/html": [
       "<pre style=\"white-space:pre;overflow-x:auto;line-height:normal;font-family:Menlo,'DejaVu Sans Mono',consolas,'Courier New',monospace\">Making paths from route: <span style=\"color: #008080; text-decoration-color: #008080; font-weight: bold\">104</span>, var <span style=\"color: #008080; text-decoration-color: #008080; font-weight: bold\">2</span>\n",
       "</pre>\n"
      ],
      "text/plain": [
       "Making paths from route: \u001b[1;36m104\u001b[0m, var \u001b[1;36m2\u001b[0m\n"
      ]
     },
     "metadata": {},
     "output_type": "display_data"
    },
    {
     "data": {
      "text/html": [
       "<pre style=\"white-space:pre;overflow-x:auto;line-height:normal;font-family:Menlo,'DejaVu Sans Mono',consolas,'Courier New',monospace\">Making paths from route: <span style=\"color: #008080; text-decoration-color: #008080; font-weight: bold\">106</span>, var <span style=\"color: #008080; text-decoration-color: #008080; font-weight: bold\">211</span>\n",
       "</pre>\n"
      ],
      "text/plain": [
       "Making paths from route: \u001b[1;36m106\u001b[0m, var \u001b[1;36m211\u001b[0m\n"
      ]
     },
     "metadata": {},
     "output_type": "display_data"
    },
    {
     "data": {
      "text/html": [
       "<pre style=\"white-space:pre;overflow-x:auto;line-height:normal;font-family:Menlo,'DejaVu Sans Mono',consolas,'Courier New',monospace\">Making paths from route: <span style=\"color: #008080; text-decoration-color: #008080; font-weight: bold\">106</span>, var <span style=\"color: #008080; text-decoration-color: #008080; font-weight: bold\">212</span>\n",
       "</pre>\n"
      ],
      "text/plain": [
       "Making paths from route: \u001b[1;36m106\u001b[0m, var \u001b[1;36m212\u001b[0m\n"
      ]
     },
     "metadata": {},
     "output_type": "display_data"
    },
    {
     "data": {
      "text/html": [
       "<pre style=\"white-space:pre;overflow-x:auto;line-height:normal;font-family:Menlo,'DejaVu Sans Mono',consolas,'Courier New',monospace\">Making paths from route: <span style=\"color: #008080; text-decoration-color: #008080; font-weight: bold\">107</span>, var <span style=\"color: #008080; text-decoration-color: #008080; font-weight: bold\">1</span>\n",
       "</pre>\n"
      ],
      "text/plain": [
       "Making paths from route: \u001b[1;36m107\u001b[0m, var \u001b[1;36m1\u001b[0m\n"
      ]
     },
     "metadata": {},
     "output_type": "display_data"
    },
    {
     "data": {
      "text/html": [
       "<pre style=\"white-space:pre;overflow-x:auto;line-height:normal;font-family:Menlo,'DejaVu Sans Mono',consolas,'Courier New',monospace\">Making paths from route: <span style=\"color: #008080; text-decoration-color: #008080; font-weight: bold\">107</span>, var <span style=\"color: #008080; text-decoration-color: #008080; font-weight: bold\">2</span>\n",
       "</pre>\n"
      ],
      "text/plain": [
       "Making paths from route: \u001b[1;36m107\u001b[0m, var \u001b[1;36m2\u001b[0m\n"
      ]
     },
     "metadata": {},
     "output_type": "display_data"
    },
    {
     "data": {
      "text/html": [
       "<pre style=\"white-space:pre;overflow-x:auto;line-height:normal;font-family:Menlo,'DejaVu Sans Mono',consolas,'Courier New',monospace\">Making paths from route: <span style=\"color: #008080; text-decoration-color: #008080; font-weight: bold\">108</span>, var <span style=\"color: #008080; text-decoration-color: #008080; font-weight: bold\">1</span>\n",
       "</pre>\n"
      ],
      "text/plain": [
       "Making paths from route: \u001b[1;36m108\u001b[0m, var \u001b[1;36m1\u001b[0m\n"
      ]
     },
     "metadata": {},
     "output_type": "display_data"
    },
    {
     "data": {
      "text/html": [
       "<pre style=\"white-space:pre;overflow-x:auto;line-height:normal;font-family:Menlo,'DejaVu Sans Mono',consolas,'Courier New',monospace\">Making paths from route: <span style=\"color: #008080; text-decoration-color: #008080; font-weight: bold\">108</span>, var <span style=\"color: #008080; text-decoration-color: #008080; font-weight: bold\">2</span>\n",
       "</pre>\n"
      ],
      "text/plain": [
       "Making paths from route: \u001b[1;36m108\u001b[0m, var \u001b[1;36m2\u001b[0m\n"
      ]
     },
     "metadata": {},
     "output_type": "display_data"
    },
    {
     "data": {
      "text/html": [
       "<pre style=\"white-space:pre;overflow-x:auto;line-height:normal;font-family:Menlo,'DejaVu Sans Mono',consolas,'Courier New',monospace\">Making paths from route: <span style=\"color: #008080; text-decoration-color: #008080; font-weight: bold\">109</span>, var <span style=\"color: #008080; text-decoration-color: #008080; font-weight: bold\">1</span>\n",
       "</pre>\n"
      ],
      "text/plain": [
       "Making paths from route: \u001b[1;36m109\u001b[0m, var \u001b[1;36m1\u001b[0m\n"
      ]
     },
     "metadata": {},
     "output_type": "display_data"
    },
    {
     "data": {
      "text/html": [
       "<pre style=\"white-space:pre;overflow-x:auto;line-height:normal;font-family:Menlo,'DejaVu Sans Mono',consolas,'Courier New',monospace\">Making paths from route: <span style=\"color: #008080; text-decoration-color: #008080; font-weight: bold\">109</span>, var <span style=\"color: #008080; text-decoration-color: #008080; font-weight: bold\">2</span>\n",
       "</pre>\n"
      ],
      "text/plain": [
       "Making paths from route: \u001b[1;36m109\u001b[0m, var \u001b[1;36m2\u001b[0m\n"
      ]
     },
     "metadata": {},
     "output_type": "display_data"
    },
    {
     "data": {
      "text/html": [
       "<pre style=\"white-space:pre;overflow-x:auto;line-height:normal;font-family:Menlo,'DejaVu Sans Mono',consolas,'Courier New',monospace\">Making paths from route: <span style=\"color: #008080; text-decoration-color: #008080; font-weight: bold\">110</span>, var <span style=\"color: #008080; text-decoration-color: #008080; font-weight: bold\">1</span>\n",
       "</pre>\n"
      ],
      "text/plain": [
       "Making paths from route: \u001b[1;36m110\u001b[0m, var \u001b[1;36m1\u001b[0m\n"
      ]
     },
     "metadata": {},
     "output_type": "display_data"
    },
    {
     "data": {
      "text/html": [
       "<pre style=\"white-space:pre;overflow-x:auto;line-height:normal;font-family:Menlo,'DejaVu Sans Mono',consolas,'Courier New',monospace\">Making paths from route: <span style=\"color: #008080; text-decoration-color: #008080; font-weight: bold\">110</span>, var <span style=\"color: #008080; text-decoration-color: #008080; font-weight: bold\">2</span>\n",
       "</pre>\n"
      ],
      "text/plain": [
       "Making paths from route: \u001b[1;36m110\u001b[0m, var \u001b[1;36m2\u001b[0m\n"
      ]
     },
     "metadata": {},
     "output_type": "display_data"
    },
    {
     "data": {
      "text/html": [
       "<pre style=\"white-space:pre;overflow-x:auto;line-height:normal;font-family:Menlo,'DejaVu Sans Mono',consolas,'Courier New',monospace\">Making paths from route: <span style=\"color: #008080; text-decoration-color: #008080; font-weight: bold\">111</span>, var <span style=\"color: #008080; text-decoration-color: #008080; font-weight: bold\">221</span>\n",
       "</pre>\n"
      ],
      "text/plain": [
       "Making paths from route: \u001b[1;36m111\u001b[0m, var \u001b[1;36m221\u001b[0m\n"
      ]
     },
     "metadata": {},
     "output_type": "display_data"
    },
    {
     "data": {
      "text/html": [
       "<pre style=\"white-space:pre;overflow-x:auto;line-height:normal;font-family:Menlo,'DejaVu Sans Mono',consolas,'Courier New',monospace\">Making paths from route: <span style=\"color: #008080; text-decoration-color: #008080; font-weight: bold\">111</span>, var <span style=\"color: #008080; text-decoration-color: #008080; font-weight: bold\">222</span>\n",
       "</pre>\n"
      ],
      "text/plain": [
       "Making paths from route: \u001b[1;36m111\u001b[0m, var \u001b[1;36m222\u001b[0m\n"
      ]
     },
     "metadata": {},
     "output_type": "display_data"
    },
    {
     "data": {
      "text/html": [
       "<pre style=\"white-space:pre;overflow-x:auto;line-height:normal;font-family:Menlo,'DejaVu Sans Mono',consolas,'Courier New',monospace\">Making paths from route: <span style=\"color: #008080; text-decoration-color: #008080; font-weight: bold\">112</span>, var <span style=\"color: #008080; text-decoration-color: #008080; font-weight: bold\">223</span>\n",
       "</pre>\n"
      ],
      "text/plain": [
       "Making paths from route: \u001b[1;36m112\u001b[0m, var \u001b[1;36m223\u001b[0m\n"
      ]
     },
     "metadata": {},
     "output_type": "display_data"
    },
    {
     "data": {
      "text/html": [
       "<pre style=\"white-space:pre;overflow-x:auto;line-height:normal;font-family:Menlo,'DejaVu Sans Mono',consolas,'Courier New',monospace\">Making paths from route: <span style=\"color: #008080; text-decoration-color: #008080; font-weight: bold\">112</span>, var <span style=\"color: #008080; text-decoration-color: #008080; font-weight: bold\">224</span>\n",
       "</pre>\n"
      ],
      "text/plain": [
       "Making paths from route: \u001b[1;36m112\u001b[0m, var \u001b[1;36m224\u001b[0m\n"
      ]
     },
     "metadata": {},
     "output_type": "display_data"
    },
    {
     "data": {
      "text/html": [
       "<pre style=\"white-space:pre;overflow-x:auto;line-height:normal;font-family:Menlo,'DejaVu Sans Mono',consolas,'Courier New',monospace\">Making paths from route: <span style=\"color: #008080; text-decoration-color: #008080; font-weight: bold\">335</span>, var <span style=\"color: #008080; text-decoration-color: #008080; font-weight: bold\">3</span>\n",
       "</pre>\n"
      ],
      "text/plain": [
       "Making paths from route: \u001b[1;36m335\u001b[0m, var \u001b[1;36m3\u001b[0m\n"
      ]
     },
     "metadata": {},
     "output_type": "display_data"
    },
    {
     "data": {
      "text/html": [
       "<pre style=\"white-space:pre;overflow-x:auto;line-height:normal;font-family:Menlo,'DejaVu Sans Mono',consolas,'Courier New',monospace\">Making paths from route: <span style=\"color: #008080; text-decoration-color: #008080; font-weight: bold\">335</span>, var <span style=\"color: #008080; text-decoration-color: #008080; font-weight: bold\">4</span>\n",
       "</pre>\n"
      ],
      "text/plain": [
       "Making paths from route: \u001b[1;36m335\u001b[0m, var \u001b[1;36m4\u001b[0m\n"
      ]
     },
     "metadata": {},
     "output_type": "display_data"
    },
    {
     "data": {
      "text/html": [
       "<pre style=\"white-space:pre;overflow-x:auto;line-height:normal;font-family:Menlo,'DejaVu Sans Mono',consolas,'Courier New',monospace\">Making paths from route: <span style=\"color: #008080; text-decoration-color: #008080; font-weight: bold\">113</span>, var <span style=\"color: #008080; text-decoration-color: #008080; font-weight: bold\">225</span>\n",
       "</pre>\n"
      ],
      "text/plain": [
       "Making paths from route: \u001b[1;36m113\u001b[0m, var \u001b[1;36m225\u001b[0m\n"
      ]
     },
     "metadata": {},
     "output_type": "display_data"
    },
    {
     "data": {
      "text/html": [
       "<pre style=\"white-space:pre;overflow-x:auto;line-height:normal;font-family:Menlo,'DejaVu Sans Mono',consolas,'Courier New',monospace\">Making paths from route: <span style=\"color: #008080; text-decoration-color: #008080; font-weight: bold\">113</span>, var <span style=\"color: #008080; text-decoration-color: #008080; font-weight: bold\">226</span>\n",
       "</pre>\n"
      ],
      "text/plain": [
       "Making paths from route: \u001b[1;36m113\u001b[0m, var \u001b[1;36m226\u001b[0m\n"
      ]
     },
     "metadata": {},
     "output_type": "display_data"
    },
    {
     "data": {
      "text/html": [
       "<pre style=\"white-space:pre;overflow-x:auto;line-height:normal;font-family:Menlo,'DejaVu Sans Mono',consolas,'Courier New',monospace\">Making paths from route: <span style=\"color: #008080; text-decoration-color: #008080; font-weight: bold\">114</span>, var <span style=\"color: #008080; text-decoration-color: #008080; font-weight: bold\">227</span>\n",
       "</pre>\n"
      ],
      "text/plain": [
       "Making paths from route: \u001b[1;36m114\u001b[0m, var \u001b[1;36m227\u001b[0m\n"
      ]
     },
     "metadata": {},
     "output_type": "display_data"
    },
    {
     "data": {
      "text/html": [
       "<pre style=\"white-space:pre;overflow-x:auto;line-height:normal;font-family:Menlo,'DejaVu Sans Mono',consolas,'Courier New',monospace\">Making paths from route: <span style=\"color: #008080; text-decoration-color: #008080; font-weight: bold\">114</span>, var <span style=\"color: #008080; text-decoration-color: #008080; font-weight: bold\">228</span>\n",
       "</pre>\n"
      ],
      "text/plain": [
       "Making paths from route: \u001b[1;36m114\u001b[0m, var \u001b[1;36m228\u001b[0m\n"
      ]
     },
     "metadata": {},
     "output_type": "display_data"
    },
    {
     "data": {
      "text/html": [
       "<pre style=\"white-space:pre;overflow-x:auto;line-height:normal;font-family:Menlo,'DejaVu Sans Mono',consolas,'Courier New',monospace\">Making paths from route: <span style=\"color: #008080; text-decoration-color: #008080; font-weight: bold\">115</span>, var <span style=\"color: #008080; text-decoration-color: #008080; font-weight: bold\">231</span>\n",
       "</pre>\n"
      ],
      "text/plain": [
       "Making paths from route: \u001b[1;36m115\u001b[0m, var \u001b[1;36m231\u001b[0m\n"
      ]
     },
     "metadata": {},
     "output_type": "display_data"
    },
    {
     "data": {
      "text/html": [
       "<pre style=\"white-space:pre;overflow-x:auto;line-height:normal;font-family:Menlo,'DejaVu Sans Mono',consolas,'Courier New',monospace\">Making paths from route: <span style=\"color: #008080; text-decoration-color: #008080; font-weight: bold\">115</span>, var <span style=\"color: #008080; text-decoration-color: #008080; font-weight: bold\">232</span>\n",
       "</pre>\n"
      ],
      "text/plain": [
       "Making paths from route: \u001b[1;36m115\u001b[0m, var \u001b[1;36m232\u001b[0m\n"
      ]
     },
     "metadata": {},
     "output_type": "display_data"
    },
    {
     "data": {
      "text/html": [
       "<pre style=\"white-space:pre;overflow-x:auto;line-height:normal;font-family:Menlo,'DejaVu Sans Mono',consolas,'Courier New',monospace\">Making paths from route: <span style=\"color: #008080; text-decoration-color: #008080; font-weight: bold\">116</span>, var <span style=\"color: #008080; text-decoration-color: #008080; font-weight: bold\">1</span>\n",
       "</pre>\n"
      ],
      "text/plain": [
       "Making paths from route: \u001b[1;36m116\u001b[0m, var \u001b[1;36m1\u001b[0m\n"
      ]
     },
     "metadata": {},
     "output_type": "display_data"
    },
    {
     "data": {
      "text/html": [
       "<pre style=\"white-space:pre;overflow-x:auto;line-height:normal;font-family:Menlo,'DejaVu Sans Mono',consolas,'Courier New',monospace\">Making paths from route: <span style=\"color: #008080; text-decoration-color: #008080; font-weight: bold\">116</span>, var <span style=\"color: #008080; text-decoration-color: #008080; font-weight: bold\">2</span>\n",
       "</pre>\n"
      ],
      "text/plain": [
       "Making paths from route: \u001b[1;36m116\u001b[0m, var \u001b[1;36m2\u001b[0m\n"
      ]
     },
     "metadata": {},
     "output_type": "display_data"
    },
    {
     "data": {
      "text/html": [
       "<pre style=\"white-space:pre;overflow-x:auto;line-height:normal;font-family:Menlo,'DejaVu Sans Mono',consolas,'Courier New',monospace\">Making paths from route: <span style=\"color: #008080; text-decoration-color: #008080; font-weight: bold\">117</span>, var <span style=\"color: #008080; text-decoration-color: #008080; font-weight: bold\">235</span>\n",
       "</pre>\n"
      ],
      "text/plain": [
       "Making paths from route: \u001b[1;36m117\u001b[0m, var \u001b[1;36m235\u001b[0m\n"
      ]
     },
     "metadata": {},
     "output_type": "display_data"
    },
    {
     "data": {
      "text/html": [
       "<pre style=\"white-space:pre;overflow-x:auto;line-height:normal;font-family:Menlo,'DejaVu Sans Mono',consolas,'Courier New',monospace\">Making paths from route: <span style=\"color: #008080; text-decoration-color: #008080; font-weight: bold\">117</span>, var <span style=\"color: #008080; text-decoration-color: #008080; font-weight: bold\">236</span>\n",
       "</pre>\n"
      ],
      "text/plain": [
       "Making paths from route: \u001b[1;36m117\u001b[0m, var \u001b[1;36m236\u001b[0m\n"
      ]
     },
     "metadata": {},
     "output_type": "display_data"
    },
    {
     "data": {
      "text/html": [
       "<pre style=\"white-space:pre;overflow-x:auto;line-height:normal;font-family:Menlo,'DejaVu Sans Mono',consolas,'Courier New',monospace\">Making paths from route: <span style=\"color: #008080; text-decoration-color: #008080; font-weight: bold\">118</span>, var <span style=\"color: #008080; text-decoration-color: #008080; font-weight: bold\">1</span>\n",
       "</pre>\n"
      ],
      "text/plain": [
       "Making paths from route: \u001b[1;36m118\u001b[0m, var \u001b[1;36m1\u001b[0m\n"
      ]
     },
     "metadata": {},
     "output_type": "display_data"
    },
    {
     "data": {
      "text/html": [
       "<pre style=\"white-space:pre;overflow-x:auto;line-height:normal;font-family:Menlo,'DejaVu Sans Mono',consolas,'Courier New',monospace\">Making paths from route: <span style=\"color: #008080; text-decoration-color: #008080; font-weight: bold\">118</span>, var <span style=\"color: #008080; text-decoration-color: #008080; font-weight: bold\">2</span>\n",
       "</pre>\n"
      ],
      "text/plain": [
       "Making paths from route: \u001b[1;36m118\u001b[0m, var \u001b[1;36m2\u001b[0m\n"
      ]
     },
     "metadata": {},
     "output_type": "display_data"
    },
    {
     "data": {
      "text/html": [
       "<pre style=\"white-space:pre;overflow-x:auto;line-height:normal;font-family:Menlo,'DejaVu Sans Mono',consolas,'Courier New',monospace\">Making paths from route: <span style=\"color: #008080; text-decoration-color: #008080; font-weight: bold\">119</span>, var <span style=\"color: #008080; text-decoration-color: #008080; font-weight: bold\">237</span>\n",
       "</pre>\n"
      ],
      "text/plain": [
       "Making paths from route: \u001b[1;36m119\u001b[0m, var \u001b[1;36m237\u001b[0m\n"
      ]
     },
     "metadata": {},
     "output_type": "display_data"
    },
    {
     "data": {
      "text/html": [
       "<pre style=\"white-space:pre;overflow-x:auto;line-height:normal;font-family:Menlo,'DejaVu Sans Mono',consolas,'Courier New',monospace\">Making paths from route: <span style=\"color: #008080; text-decoration-color: #008080; font-weight: bold\">119</span>, var <span style=\"color: #008080; text-decoration-color: #008080; font-weight: bold\">238</span>\n",
       "</pre>\n"
      ],
      "text/plain": [
       "Making paths from route: \u001b[1;36m119\u001b[0m, var \u001b[1;36m238\u001b[0m\n"
      ]
     },
     "metadata": {},
     "output_type": "display_data"
    },
    {
     "data": {
      "text/html": [
       "<pre style=\"white-space:pre;overflow-x:auto;line-height:normal;font-family:Menlo,'DejaVu Sans Mono',consolas,'Courier New',monospace\">Making paths from route: <span style=\"color: #008080; text-decoration-color: #008080; font-weight: bold\">121</span>, var <span style=\"color: #008080; text-decoration-color: #008080; font-weight: bold\">1</span>\n",
       "</pre>\n"
      ],
      "text/plain": [
       "Making paths from route: \u001b[1;36m121\u001b[0m, var \u001b[1;36m1\u001b[0m\n"
      ]
     },
     "metadata": {},
     "output_type": "display_data"
    },
    {
     "data": {
      "text/html": [
       "<pre style=\"white-space:pre;overflow-x:auto;line-height:normal;font-family:Menlo,'DejaVu Sans Mono',consolas,'Courier New',monospace\">Making paths from route: <span style=\"color: #008080; text-decoration-color: #008080; font-weight: bold\">121</span>, var <span style=\"color: #008080; text-decoration-color: #008080; font-weight: bold\">2</span>\n",
       "</pre>\n"
      ],
      "text/plain": [
       "Making paths from route: \u001b[1;36m121\u001b[0m, var \u001b[1;36m2\u001b[0m\n"
      ]
     },
     "metadata": {},
     "output_type": "display_data"
    },
    {
     "data": {
      "text/html": [
       "<pre style=\"white-space:pre;overflow-x:auto;line-height:normal;font-family:Menlo,'DejaVu Sans Mono',consolas,'Courier New',monospace\">Making paths from route: <span style=\"color: #008080; text-decoration-color: #008080; font-weight: bold\">125</span>, var <span style=\"color: #008080; text-decoration-color: #008080; font-weight: bold\">1</span>\n",
       "</pre>\n"
      ],
      "text/plain": [
       "Making paths from route: \u001b[1;36m125\u001b[0m, var \u001b[1;36m1\u001b[0m\n"
      ]
     },
     "metadata": {},
     "output_type": "display_data"
    },
    {
     "data": {
      "text/html": [
       "<pre style=\"white-space:pre;overflow-x:auto;line-height:normal;font-family:Menlo,'DejaVu Sans Mono',consolas,'Courier New',monospace\">Making paths from route: <span style=\"color: #008080; text-decoration-color: #008080; font-weight: bold\">125</span>, var <span style=\"color: #008080; text-decoration-color: #008080; font-weight: bold\">2</span>\n",
       "</pre>\n"
      ],
      "text/plain": [
       "Making paths from route: \u001b[1;36m125\u001b[0m, var \u001b[1;36m2\u001b[0m\n"
      ]
     },
     "metadata": {},
     "output_type": "display_data"
    },
    {
     "data": {
      "text/html": [
       "<pre style=\"white-space:pre;overflow-x:auto;line-height:normal;font-family:Menlo,'DejaVu Sans Mono',consolas,'Courier New',monospace\">Making paths from route: <span style=\"color: #008080; text-decoration-color: #008080; font-weight: bold\">124</span>, var <span style=\"color: #008080; text-decoration-color: #008080; font-weight: bold\">247</span>\n",
       "</pre>\n"
      ],
      "text/plain": [
       "Making paths from route: \u001b[1;36m124\u001b[0m, var \u001b[1;36m247\u001b[0m\n"
      ]
     },
     "metadata": {},
     "output_type": "display_data"
    },
    {
     "data": {
      "text/html": [
       "<pre style=\"white-space:pre;overflow-x:auto;line-height:normal;font-family:Menlo,'DejaVu Sans Mono',consolas,'Courier New',monospace\">Making paths from route: <span style=\"color: #008080; text-decoration-color: #008080; font-weight: bold\">124</span>, var <span style=\"color: #008080; text-decoration-color: #008080; font-weight: bold\">248</span>\n",
       "</pre>\n"
      ],
      "text/plain": [
       "Making paths from route: \u001b[1;36m124\u001b[0m, var \u001b[1;36m248\u001b[0m\n"
      ]
     },
     "metadata": {},
     "output_type": "display_data"
    },
    {
     "data": {
      "text/html": [
       "<pre style=\"white-space:pre;overflow-x:auto;line-height:normal;font-family:Menlo,'DejaVu Sans Mono',consolas,'Courier New',monospace\">Making paths from route: <span style=\"color: #008080; text-decoration-color: #008080; font-weight: bold\">126</span>, var <span style=\"color: #008080; text-decoration-color: #008080; font-weight: bold\">1</span>\n",
       "</pre>\n"
      ],
      "text/plain": [
       "Making paths from route: \u001b[1;36m126\u001b[0m, var \u001b[1;36m1\u001b[0m\n"
      ]
     },
     "metadata": {},
     "output_type": "display_data"
    },
    {
     "data": {
      "text/html": [
       "<pre style=\"white-space:pre;overflow-x:auto;line-height:normal;font-family:Menlo,'DejaVu Sans Mono',consolas,'Courier New',monospace\">Making paths from route: <span style=\"color: #008080; text-decoration-color: #008080; font-weight: bold\">126</span>, var <span style=\"color: #008080; text-decoration-color: #008080; font-weight: bold\">2</span>\n",
       "</pre>\n"
      ],
      "text/plain": [
       "Making paths from route: \u001b[1;36m126\u001b[0m, var \u001b[1;36m2\u001b[0m\n"
      ]
     },
     "metadata": {},
     "output_type": "display_data"
    },
    {
     "data": {
      "text/html": [
       "<pre style=\"white-space:pre;overflow-x:auto;line-height:normal;font-family:Menlo,'DejaVu Sans Mono',consolas,'Courier New',monospace\">Making paths from route: <span style=\"color: #008080; text-decoration-color: #008080; font-weight: bold\">127</span>, var <span style=\"color: #008080; text-decoration-color: #008080; font-weight: bold\">253</span>\n",
       "</pre>\n"
      ],
      "text/plain": [
       "Making paths from route: \u001b[1;36m127\u001b[0m, var \u001b[1;36m253\u001b[0m\n"
      ]
     },
     "metadata": {},
     "output_type": "display_data"
    },
    {
     "data": {
      "text/html": [
       "<pre style=\"white-space:pre;overflow-x:auto;line-height:normal;font-family:Menlo,'DejaVu Sans Mono',consolas,'Courier New',monospace\">Making paths from route: <span style=\"color: #008080; text-decoration-color: #008080; font-weight: bold\">127</span>, var <span style=\"color: #008080; text-decoration-color: #008080; font-weight: bold\">254</span>\n",
       "</pre>\n"
      ],
      "text/plain": [
       "Making paths from route: \u001b[1;36m127\u001b[0m, var \u001b[1;36m254\u001b[0m\n"
      ]
     },
     "metadata": {},
     "output_type": "display_data"
    },
    {
     "data": {
      "text/html": [
       "<pre style=\"white-space:pre;overflow-x:auto;line-height:normal;font-family:Menlo,'DejaVu Sans Mono',consolas,'Courier New',monospace\">Making paths from route: <span style=\"color: #008080; text-decoration-color: #008080; font-weight: bold\">128</span>, var <span style=\"color: #008080; text-decoration-color: #008080; font-weight: bold\">255</span>\n",
       "</pre>\n"
      ],
      "text/plain": [
       "Making paths from route: \u001b[1;36m128\u001b[0m, var \u001b[1;36m255\u001b[0m\n"
      ]
     },
     "metadata": {},
     "output_type": "display_data"
    },
    {
     "data": {
      "text/html": [
       "<pre style=\"white-space:pre;overflow-x:auto;line-height:normal;font-family:Menlo,'DejaVu Sans Mono',consolas,'Courier New',monospace\">Making paths from route: <span style=\"color: #008080; text-decoration-color: #008080; font-weight: bold\">128</span>, var <span style=\"color: #008080; text-decoration-color: #008080; font-weight: bold\">256</span>\n",
       "</pre>\n"
      ],
      "text/plain": [
       "Making paths from route: \u001b[1;36m128\u001b[0m, var \u001b[1;36m256\u001b[0m\n"
      ]
     },
     "metadata": {},
     "output_type": "display_data"
    },
    {
     "data": {
      "text/html": [
       "<pre style=\"white-space:pre;overflow-x:auto;line-height:normal;font-family:Menlo,'DejaVu Sans Mono',consolas,'Courier New',monospace\">Making paths from route: <span style=\"color: #008080; text-decoration-color: #008080; font-weight: bold\">129</span>, var <span style=\"color: #008080; text-decoration-color: #008080; font-weight: bold\">1</span>\n",
       "</pre>\n"
      ],
      "text/plain": [
       "Making paths from route: \u001b[1;36m129\u001b[0m, var \u001b[1;36m1\u001b[0m\n"
      ]
     },
     "metadata": {},
     "output_type": "display_data"
    },
    {
     "data": {
      "text/html": [
       "<pre style=\"white-space:pre;overflow-x:auto;line-height:normal;font-family:Menlo,'DejaVu Sans Mono',consolas,'Courier New',monospace\">Making paths from route: <span style=\"color: #008080; text-decoration-color: #008080; font-weight: bold\">129</span>, var <span style=\"color: #008080; text-decoration-color: #008080; font-weight: bold\">2</span>\n",
       "</pre>\n"
      ],
      "text/plain": [
       "Making paths from route: \u001b[1;36m129\u001b[0m, var \u001b[1;36m2\u001b[0m\n"
      ]
     },
     "metadata": {},
     "output_type": "display_data"
    },
    {
     "data": {
      "text/html": [
       "<pre style=\"white-space:pre;overflow-x:auto;line-height:normal;font-family:Menlo,'DejaVu Sans Mono',consolas,'Courier New',monospace\">Making paths from route: <span style=\"color: #008080; text-decoration-color: #008080; font-weight: bold\">130</span>, var <span style=\"color: #008080; text-decoration-color: #008080; font-weight: bold\">261</span>\n",
       "</pre>\n"
      ],
      "text/plain": [
       "Making paths from route: \u001b[1;36m130\u001b[0m, var \u001b[1;36m261\u001b[0m\n"
      ]
     },
     "metadata": {},
     "output_type": "display_data"
    },
    {
     "data": {
      "text/html": [
       "<pre style=\"white-space:pre;overflow-x:auto;line-height:normal;font-family:Menlo,'DejaVu Sans Mono',consolas,'Courier New',monospace\">Making paths from route: <span style=\"color: #008080; text-decoration-color: #008080; font-weight: bold\">130</span>, var <span style=\"color: #008080; text-decoration-color: #008080; font-weight: bold\">262</span>\n",
       "</pre>\n"
      ],
      "text/plain": [
       "Making paths from route: \u001b[1;36m130\u001b[0m, var \u001b[1;36m262\u001b[0m\n"
      ]
     },
     "metadata": {},
     "output_type": "display_data"
    },
    {
     "data": {
      "text/html": [
       "<pre style=\"white-space:pre;overflow-x:auto;line-height:normal;font-family:Menlo,'DejaVu Sans Mono',consolas,'Courier New',monospace\">Making paths from route: <span style=\"color: #008080; text-decoration-color: #008080; font-weight: bold\">131</span>, var <span style=\"color: #008080; text-decoration-color: #008080; font-weight: bold\">261</span>\n",
       "</pre>\n"
      ],
      "text/plain": [
       "Making paths from route: \u001b[1;36m131\u001b[0m, var \u001b[1;36m261\u001b[0m\n"
      ]
     },
     "metadata": {},
     "output_type": "display_data"
    },
    {
     "data": {
      "text/html": [
       "<pre style=\"white-space:pre;overflow-x:auto;line-height:normal;font-family:Menlo,'DejaVu Sans Mono',consolas,'Courier New',monospace\">Making paths from route: <span style=\"color: #008080; text-decoration-color: #008080; font-weight: bold\">131</span>, var <span style=\"color: #008080; text-decoration-color: #008080; font-weight: bold\">262</span>\n",
       "</pre>\n"
      ],
      "text/plain": [
       "Making paths from route: \u001b[1;36m131\u001b[0m, var \u001b[1;36m262\u001b[0m\n"
      ]
     },
     "metadata": {},
     "output_type": "display_data"
    },
    {
     "data": {
      "text/html": [
       "<pre style=\"white-space:pre;overflow-x:auto;line-height:normal;font-family:Menlo,'DejaVu Sans Mono',consolas,'Courier New',monospace\">Making paths from route: <span style=\"color: #008080; text-decoration-color: #008080; font-weight: bold\">133</span>, var <span style=\"color: #008080; text-decoration-color: #008080; font-weight: bold\">1</span>\n",
       "</pre>\n"
      ],
      "text/plain": [
       "Making paths from route: \u001b[1;36m133\u001b[0m, var \u001b[1;36m1\u001b[0m\n"
      ]
     },
     "metadata": {},
     "output_type": "display_data"
    },
    {
     "data": {
      "text/html": [
       "<pre style=\"white-space:pre;overflow-x:auto;line-height:normal;font-family:Menlo,'DejaVu Sans Mono',consolas,'Courier New',monospace\">Making paths from route: <span style=\"color: #008080; text-decoration-color: #008080; font-weight: bold\">133</span>, var <span style=\"color: #008080; text-decoration-color: #008080; font-weight: bold\">2</span>\n",
       "</pre>\n"
      ],
      "text/plain": [
       "Making paths from route: \u001b[1;36m133\u001b[0m, var \u001b[1;36m2\u001b[0m\n"
      ]
     },
     "metadata": {},
     "output_type": "display_data"
    },
    {
     "data": {
      "text/html": [
       "<pre style=\"white-space:pre;overflow-x:auto;line-height:normal;font-family:Menlo,'DejaVu Sans Mono',consolas,'Courier New',monospace\">Making paths from route: <span style=\"color: #008080; text-decoration-color: #008080; font-weight: bold\">137</span>, var <span style=\"color: #008080; text-decoration-color: #008080; font-weight: bold\">273</span>\n",
       "</pre>\n"
      ],
      "text/plain": [
       "Making paths from route: \u001b[1;36m137\u001b[0m, var \u001b[1;36m273\u001b[0m\n"
      ]
     },
     "metadata": {},
     "output_type": "display_data"
    },
    {
     "data": {
      "text/html": [
       "<pre style=\"white-space:pre;overflow-x:auto;line-height:normal;font-family:Menlo,'DejaVu Sans Mono',consolas,'Courier New',monospace\">Making paths from route: <span style=\"color: #008080; text-decoration-color: #008080; font-weight: bold\">137</span>, var <span style=\"color: #008080; text-decoration-color: #008080; font-weight: bold\">274</span>\n",
       "</pre>\n"
      ],
      "text/plain": [
       "Making paths from route: \u001b[1;36m137\u001b[0m, var \u001b[1;36m274\u001b[0m\n"
      ]
     },
     "metadata": {},
     "output_type": "display_data"
    },
    {
     "data": {
      "text/html": [
       "<pre style=\"white-space:pre;overflow-x:auto;line-height:normal;font-family:Menlo,'DejaVu Sans Mono',consolas,'Courier New',monospace\">Making paths from route: <span style=\"color: #008080; text-decoration-color: #008080; font-weight: bold\">134</span>, var <span style=\"color: #008080; text-decoration-color: #008080; font-weight: bold\">267</span>\n",
       "</pre>\n"
      ],
      "text/plain": [
       "Making paths from route: \u001b[1;36m134\u001b[0m, var \u001b[1;36m267\u001b[0m\n"
      ]
     },
     "metadata": {},
     "output_type": "display_data"
    },
    {
     "data": {
      "text/html": [
       "<pre style=\"white-space:pre;overflow-x:auto;line-height:normal;font-family:Menlo,'DejaVu Sans Mono',consolas,'Courier New',monospace\">Making paths from route: <span style=\"color: #008080; text-decoration-color: #008080; font-weight: bold\">134</span>, var <span style=\"color: #008080; text-decoration-color: #008080; font-weight: bold\">268</span>\n",
       "</pre>\n"
      ],
      "text/plain": [
       "Making paths from route: \u001b[1;36m134\u001b[0m, var \u001b[1;36m268\u001b[0m\n"
      ]
     },
     "metadata": {},
     "output_type": "display_data"
    },
    {
     "data": {
      "text/html": [
       "<pre style=\"white-space:pre;overflow-x:auto;line-height:normal;font-family:Menlo,'DejaVu Sans Mono',consolas,'Courier New',monospace\">Making paths from route: <span style=\"color: #008080; text-decoration-color: #008080; font-weight: bold\">210</span>, var <span style=\"color: #008080; text-decoration-color: #008080; font-weight: bold\">1</span>\n",
       "</pre>\n"
      ],
      "text/plain": [
       "Making paths from route: \u001b[1;36m210\u001b[0m, var \u001b[1;36m1\u001b[0m\n"
      ]
     },
     "metadata": {},
     "output_type": "display_data"
    },
    {
     "data": {
      "text/html": [
       "<pre style=\"white-space:pre;overflow-x:auto;line-height:normal;font-family:Menlo,'DejaVu Sans Mono',consolas,'Courier New',monospace\">Making paths from route: <span style=\"color: #008080; text-decoration-color: #008080; font-weight: bold\">210</span>, var <span style=\"color: #008080; text-decoration-color: #008080; font-weight: bold\">2</span>\n",
       "</pre>\n"
      ],
      "text/plain": [
       "Making paths from route: \u001b[1;36m210\u001b[0m, var \u001b[1;36m2\u001b[0m\n"
      ]
     },
     "metadata": {},
     "output_type": "display_data"
    },
    {
     "data": {
      "text/html": [
       "<pre style=\"white-space:pre;overflow-x:auto;line-height:normal;font-family:Menlo,'DejaVu Sans Mono',consolas,'Courier New',monospace\">Making paths from route: <span style=\"color: #008080; text-decoration-color: #008080; font-weight: bold\">212</span>, var <span style=\"color: #008080; text-decoration-color: #008080; font-weight: bold\">1</span>\n",
       "</pre>\n"
      ],
      "text/plain": [
       "Making paths from route: \u001b[1;36m212\u001b[0m, var \u001b[1;36m1\u001b[0m\n"
      ]
     },
     "metadata": {},
     "output_type": "display_data"
    },
    {
     "data": {
      "text/html": [
       "<pre style=\"white-space:pre;overflow-x:auto;line-height:normal;font-family:Menlo,'DejaVu Sans Mono',consolas,'Courier New',monospace\">Making paths from route: <span style=\"color: #008080; text-decoration-color: #008080; font-weight: bold\">212</span>, var <span style=\"color: #008080; text-decoration-color: #008080; font-weight: bold\">2</span>\n",
       "</pre>\n"
      ],
      "text/plain": [
       "Making paths from route: \u001b[1;36m212\u001b[0m, var \u001b[1;36m2\u001b[0m\n"
      ]
     },
     "metadata": {},
     "output_type": "display_data"
    },
    {
     "data": {
      "text/html": [
       "<pre style=\"white-space:pre;overflow-x:auto;line-height:normal;font-family:Menlo,'DejaVu Sans Mono',consolas,'Courier New',monospace\">Making paths from route: <span style=\"color: #008080; text-decoration-color: #008080; font-weight: bold\">211</span>, var <span style=\"color: #008080; text-decoration-color: #008080; font-weight: bold\">1</span>\n",
       "</pre>\n"
      ],
      "text/plain": [
       "Making paths from route: \u001b[1;36m211\u001b[0m, var \u001b[1;36m1\u001b[0m\n"
      ]
     },
     "metadata": {},
     "output_type": "display_data"
    },
    {
     "data": {
      "text/html": [
       "<pre style=\"white-space:pre;overflow-x:auto;line-height:normal;font-family:Menlo,'DejaVu Sans Mono',consolas,'Courier New',monospace\">Making paths from route: <span style=\"color: #008080; text-decoration-color: #008080; font-weight: bold\">211</span>, var <span style=\"color: #008080; text-decoration-color: #008080; font-weight: bold\">2</span>\n",
       "</pre>\n"
      ],
      "text/plain": [
       "Making paths from route: \u001b[1;36m211\u001b[0m, var \u001b[1;36m2\u001b[0m\n"
      ]
     },
     "metadata": {},
     "output_type": "display_data"
    },
    {
     "data": {
      "text/html": [
       "<pre style=\"white-space:pre;overflow-x:auto;line-height:normal;font-family:Menlo,'DejaVu Sans Mono',consolas,'Courier New',monospace\">Making paths from route: <span style=\"color: #008080; text-decoration-color: #008080; font-weight: bold\">336</span>, var <span style=\"color: #008080; text-decoration-color: #008080; font-weight: bold\">1</span>\n",
       "</pre>\n"
      ],
      "text/plain": [
       "Making paths from route: \u001b[1;36m336\u001b[0m, var \u001b[1;36m1\u001b[0m\n"
      ]
     },
     "metadata": {},
     "output_type": "display_data"
    },
    {
     "data": {
      "text/html": [
       "<pre style=\"white-space:pre;overflow-x:auto;line-height:normal;font-family:Menlo,'DejaVu Sans Mono',consolas,'Courier New',monospace\">Making paths from route: <span style=\"color: #008080; text-decoration-color: #008080; font-weight: bold\">328</span>, var <span style=\"color: #008080; text-decoration-color: #008080; font-weight: bold\">2</span>\n",
       "</pre>\n"
      ],
      "text/plain": [
       "Making paths from route: \u001b[1;36m328\u001b[0m, var \u001b[1;36m2\u001b[0m\n"
      ]
     },
     "metadata": {},
     "output_type": "display_data"
    },
    {
     "data": {
      "text/html": [
       "<pre style=\"white-space:pre;overflow-x:auto;line-height:normal;font-family:Menlo,'DejaVu Sans Mono',consolas,'Courier New',monospace\">Making paths from route: <span style=\"color: #008080; text-decoration-color: #008080; font-weight: bold\">292</span>, var <span style=\"color: #008080; text-decoration-color: #008080; font-weight: bold\">1</span>\n",
       "</pre>\n"
      ],
      "text/plain": [
       "Making paths from route: \u001b[1;36m292\u001b[0m, var \u001b[1;36m1\u001b[0m\n"
      ]
     },
     "metadata": {},
     "output_type": "display_data"
    },
    {
     "data": {
      "text/html": [
       "<pre style=\"white-space:pre;overflow-x:auto;line-height:normal;font-family:Menlo,'DejaVu Sans Mono',consolas,'Courier New',monospace\">Making paths from route: <span style=\"color: #008080; text-decoration-color: #008080; font-weight: bold\">292</span>, var <span style=\"color: #008080; text-decoration-color: #008080; font-weight: bold\">2</span>\n",
       "</pre>\n"
      ],
      "text/plain": [
       "Making paths from route: \u001b[1;36m292\u001b[0m, var \u001b[1;36m2\u001b[0m\n"
      ]
     },
     "metadata": {},
     "output_type": "display_data"
    },
    {
     "data": {
      "text/html": [
       "<pre style=\"white-space:pre;overflow-x:auto;line-height:normal;font-family:Menlo,'DejaVu Sans Mono',consolas,'Courier New',monospace\">Making paths from route: <span style=\"color: #008080; text-decoration-color: #008080; font-weight: bold\">294</span>, var <span style=\"color: #008080; text-decoration-color: #008080; font-weight: bold\">1</span>\n",
       "</pre>\n"
      ],
      "text/plain": [
       "Making paths from route: \u001b[1;36m294\u001b[0m, var \u001b[1;36m1\u001b[0m\n"
      ]
     },
     "metadata": {},
     "output_type": "display_data"
    },
    {
     "data": {
      "text/html": [
       "<pre style=\"white-space:pre;overflow-x:auto;line-height:normal;font-family:Menlo,'DejaVu Sans Mono',consolas,'Courier New',monospace\">Making paths from route: <span style=\"color: #008080; text-decoration-color: #008080; font-weight: bold\">294</span>, var <span style=\"color: #008080; text-decoration-color: #008080; font-weight: bold\">2</span>\n",
       "</pre>\n"
      ],
      "text/plain": [
       "Making paths from route: \u001b[1;36m294\u001b[0m, var \u001b[1;36m2\u001b[0m\n"
      ]
     },
     "metadata": {},
     "output_type": "display_data"
    },
    {
     "data": {
      "text/html": [
       "<pre style=\"white-space:pre;overflow-x:auto;line-height:normal;font-family:Menlo,'DejaVu Sans Mono',consolas,'Courier New',monospace\">Making paths from route: <span style=\"color: #008080; text-decoration-color: #008080; font-weight: bold\">293</span>, var <span style=\"color: #008080; text-decoration-color: #008080; font-weight: bold\">1</span>\n",
       "</pre>\n"
      ],
      "text/plain": [
       "Making paths from route: \u001b[1;36m293\u001b[0m, var \u001b[1;36m1\u001b[0m\n"
      ]
     },
     "metadata": {},
     "output_type": "display_data"
    },
    {
     "data": {
      "text/html": [
       "<pre style=\"white-space:pre;overflow-x:auto;line-height:normal;font-family:Menlo,'DejaVu Sans Mono',consolas,'Courier New',monospace\">Making paths from route: <span style=\"color: #008080; text-decoration-color: #008080; font-weight: bold\">293</span>, var <span style=\"color: #008080; text-decoration-color: #008080; font-weight: bold\">2</span>\n",
       "</pre>\n"
      ],
      "text/plain": [
       "Making paths from route: \u001b[1;36m293\u001b[0m, var \u001b[1;36m2\u001b[0m\n"
      ]
     },
     "metadata": {},
     "output_type": "display_data"
    },
    {
     "data": {
      "text/html": [
       "<pre style=\"white-space:pre;overflow-x:auto;line-height:normal;font-family:Menlo,'DejaVu Sans Mono',consolas,'Courier New',monospace\">Making paths from route: <span style=\"color: #008080; text-decoration-color: #008080; font-weight: bold\">296</span>, var <span style=\"color: #008080; text-decoration-color: #008080; font-weight: bold\">1</span>\n",
       "</pre>\n"
      ],
      "text/plain": [
       "Making paths from route: \u001b[1;36m296\u001b[0m, var \u001b[1;36m1\u001b[0m\n"
      ]
     },
     "metadata": {},
     "output_type": "display_data"
    },
    {
     "data": {
      "text/html": [
       "<pre style=\"white-space:pre;overflow-x:auto;line-height:normal;font-family:Menlo,'DejaVu Sans Mono',consolas,'Courier New',monospace\">Making paths from route: <span style=\"color: #008080; text-decoration-color: #008080; font-weight: bold\">296</span>, var <span style=\"color: #008080; text-decoration-color: #008080; font-weight: bold\">2</span>\n",
       "</pre>\n"
      ],
      "text/plain": [
       "Making paths from route: \u001b[1;36m296\u001b[0m, var \u001b[1;36m2\u001b[0m\n"
      ]
     },
     "metadata": {},
     "output_type": "display_data"
    },
    {
     "data": {
      "text/html": [
       "<pre style=\"white-space:pre;overflow-x:auto;line-height:normal;font-family:Menlo,'DejaVu Sans Mono',consolas,'Courier New',monospace\">Making paths from route: <span style=\"color: #008080; text-decoration-color: #008080; font-weight: bold\">295</span>, var <span style=\"color: #008080; text-decoration-color: #008080; font-weight: bold\">1</span>\n",
       "</pre>\n"
      ],
      "text/plain": [
       "Making paths from route: \u001b[1;36m295\u001b[0m, var \u001b[1;36m1\u001b[0m\n"
      ]
     },
     "metadata": {},
     "output_type": "display_data"
    },
    {
     "data": {
      "text/html": [
       "<pre style=\"white-space:pre;overflow-x:auto;line-height:normal;font-family:Menlo,'DejaVu Sans Mono',consolas,'Courier New',monospace\">Making paths from route: <span style=\"color: #008080; text-decoration-color: #008080; font-weight: bold\">295</span>, var <span style=\"color: #008080; text-decoration-color: #008080; font-weight: bold\">2</span>\n",
       "</pre>\n"
      ],
      "text/plain": [
       "Making paths from route: \u001b[1;36m295\u001b[0m, var \u001b[1;36m2\u001b[0m\n"
      ]
     },
     "metadata": {},
     "output_type": "display_data"
    },
    {
     "data": {
      "text/html": [
       "<pre style=\"white-space:pre;overflow-x:auto;line-height:normal;font-family:Menlo,'DejaVu Sans Mono',consolas,'Courier New',monospace\">Making paths from route: <span style=\"color: #008080; text-decoration-color: #008080; font-weight: bold\">297</span>, var <span style=\"color: #008080; text-decoration-color: #008080; font-weight: bold\">1</span>\n",
       "</pre>\n"
      ],
      "text/plain": [
       "Making paths from route: \u001b[1;36m297\u001b[0m, var \u001b[1;36m1\u001b[0m\n"
      ]
     },
     "metadata": {},
     "output_type": "display_data"
    },
    {
     "data": {
      "text/html": [
       "<pre style=\"white-space:pre;overflow-x:auto;line-height:normal;font-family:Menlo,'DejaVu Sans Mono',consolas,'Courier New',monospace\">Making paths from route: <span style=\"color: #008080; text-decoration-color: #008080; font-weight: bold\">297</span>, var <span style=\"color: #008080; text-decoration-color: #008080; font-weight: bold\">2</span>\n",
       "</pre>\n"
      ],
      "text/plain": [
       "Making paths from route: \u001b[1;36m297\u001b[0m, var \u001b[1;36m2\u001b[0m\n"
      ]
     },
     "metadata": {},
     "output_type": "display_data"
    },
    {
     "data": {
      "text/html": [
       "<pre style=\"white-space:pre;overflow-x:auto;line-height:normal;font-family:Menlo,'DejaVu Sans Mono',consolas,'Courier New',monospace\">Making paths from route: <span style=\"color: #008080; text-decoration-color: #008080; font-weight: bold\">299</span>, var <span style=\"color: #008080; text-decoration-color: #008080; font-weight: bold\">1</span>\n",
       "</pre>\n"
      ],
      "text/plain": [
       "Making paths from route: \u001b[1;36m299\u001b[0m, var \u001b[1;36m1\u001b[0m\n"
      ]
     },
     "metadata": {},
     "output_type": "display_data"
    },
    {
     "data": {
      "text/html": [
       "<pre style=\"white-space:pre;overflow-x:auto;line-height:normal;font-family:Menlo,'DejaVu Sans Mono',consolas,'Courier New',monospace\">Making paths from route: <span style=\"color: #008080; text-decoration-color: #008080; font-weight: bold\">299</span>, var <span style=\"color: #008080; text-decoration-color: #008080; font-weight: bold\">2</span>\n",
       "</pre>\n"
      ],
      "text/plain": [
       "Making paths from route: \u001b[1;36m299\u001b[0m, var \u001b[1;36m2\u001b[0m\n"
      ]
     },
     "metadata": {},
     "output_type": "display_data"
    },
    {
     "data": {
      "text/html": [
       "<pre style=\"white-space:pre;overflow-x:auto;line-height:normal;font-family:Menlo,'DejaVu Sans Mono',consolas,'Courier New',monospace\">Making paths from route: <span style=\"color: #008080; text-decoration-color: #008080; font-weight: bold\">298</span>, var <span style=\"color: #008080; text-decoration-color: #008080; font-weight: bold\">1</span>\n",
       "</pre>\n"
      ],
      "text/plain": [
       "Making paths from route: \u001b[1;36m298\u001b[0m, var \u001b[1;36m1\u001b[0m\n"
      ]
     },
     "metadata": {},
     "output_type": "display_data"
    },
    {
     "data": {
      "text/html": [
       "<pre style=\"white-space:pre;overflow-x:auto;line-height:normal;font-family:Menlo,'DejaVu Sans Mono',consolas,'Courier New',monospace\">Making paths from route: <span style=\"color: #008080; text-decoration-color: #008080; font-weight: bold\">298</span>, var <span style=\"color: #008080; text-decoration-color: #008080; font-weight: bold\">2</span>\n",
       "</pre>\n"
      ],
      "text/plain": [
       "Making paths from route: \u001b[1;36m298\u001b[0m, var \u001b[1;36m2\u001b[0m\n"
      ]
     },
     "metadata": {},
     "output_type": "display_data"
    },
    {
     "data": {
      "text/html": [
       "<pre style=\"white-space:pre;overflow-x:auto;line-height:normal;font-family:Menlo,'DejaVu Sans Mono',consolas,'Courier New',monospace\">Making paths from route: <span style=\"color: #008080; text-decoration-color: #008080; font-weight: bold\">300</span>, var <span style=\"color: #008080; text-decoration-color: #008080; font-weight: bold\">1</span>\n",
       "</pre>\n"
      ],
      "text/plain": [
       "Making paths from route: \u001b[1;36m300\u001b[0m, var \u001b[1;36m1\u001b[0m\n"
      ]
     },
     "metadata": {},
     "output_type": "display_data"
    },
    {
     "data": {
      "text/html": [
       "<pre style=\"white-space:pre;overflow-x:auto;line-height:normal;font-family:Menlo,'DejaVu Sans Mono',consolas,'Courier New',monospace\">Making paths from route: <span style=\"color: #008080; text-decoration-color: #008080; font-weight: bold\">300</span>, var <span style=\"color: #008080; text-decoration-color: #008080; font-weight: bold\">2</span>\n",
       "</pre>\n"
      ],
      "text/plain": [
       "Making paths from route: \u001b[1;36m300\u001b[0m, var \u001b[1;36m2\u001b[0m\n"
      ]
     },
     "metadata": {},
     "output_type": "display_data"
    },
    {
     "data": {
      "text/html": [
       "<pre style=\"white-space:pre;overflow-x:auto;line-height:normal;font-family:Menlo,'DejaVu Sans Mono',consolas,'Courier New',monospace\">Making paths from route: <span style=\"color: #008080; text-decoration-color: #008080; font-weight: bold\">301</span>, var <span style=\"color: #008080; text-decoration-color: #008080; font-weight: bold\">1</span>\n",
       "</pre>\n"
      ],
      "text/plain": [
       "Making paths from route: \u001b[1;36m301\u001b[0m, var \u001b[1;36m1\u001b[0m\n"
      ]
     },
     "metadata": {},
     "output_type": "display_data"
    },
    {
     "data": {
      "text/html": [
       "<pre style=\"white-space:pre;overflow-x:auto;line-height:normal;font-family:Menlo,'DejaVu Sans Mono',consolas,'Courier New',monospace\">Making paths from route: <span style=\"color: #008080; text-decoration-color: #008080; font-weight: bold\">301</span>, var <span style=\"color: #008080; text-decoration-color: #008080; font-weight: bold\">2</span>\n",
       "</pre>\n"
      ],
      "text/plain": [
       "Making paths from route: \u001b[1;36m301\u001b[0m, var \u001b[1;36m2\u001b[0m\n"
      ]
     },
     "metadata": {},
     "output_type": "display_data"
    },
    {
     "data": {
      "text/html": [
       "<pre style=\"white-space:pre;overflow-x:auto;line-height:normal;font-family:Menlo,'DejaVu Sans Mono',consolas,'Courier New',monospace\">Making paths from route: <span style=\"color: #008080; text-decoration-color: #008080; font-weight: bold\">302</span>, var <span style=\"color: #008080; text-decoration-color: #008080; font-weight: bold\">1</span>\n",
       "</pre>\n"
      ],
      "text/plain": [
       "Making paths from route: \u001b[1;36m302\u001b[0m, var \u001b[1;36m1\u001b[0m\n"
      ]
     },
     "metadata": {},
     "output_type": "display_data"
    },
    {
     "data": {
      "text/html": [
       "<pre style=\"white-space:pre;overflow-x:auto;line-height:normal;font-family:Menlo,'DejaVu Sans Mono',consolas,'Courier New',monospace\">Making paths from route: <span style=\"color: #008080; text-decoration-color: #008080; font-weight: bold\">302</span>, var <span style=\"color: #008080; text-decoration-color: #008080; font-weight: bold\">2</span>\n",
       "</pre>\n"
      ],
      "text/plain": [
       "Making paths from route: \u001b[1;36m302\u001b[0m, var \u001b[1;36m2\u001b[0m\n"
      ]
     },
     "metadata": {},
     "output_type": "display_data"
    },
    {
     "data": {
      "text/html": [
       "<pre style=\"white-space:pre;overflow-x:auto;line-height:normal;font-family:Menlo,'DejaVu Sans Mono',consolas,'Courier New',monospace\">Making paths from route: <span style=\"color: #008080; text-decoration-color: #008080; font-weight: bold\">303</span>, var <span style=\"color: #008080; text-decoration-color: #008080; font-weight: bold\">1</span>\n",
       "</pre>\n"
      ],
      "text/plain": [
       "Making paths from route: \u001b[1;36m303\u001b[0m, var \u001b[1;36m1\u001b[0m\n"
      ]
     },
     "metadata": {},
     "output_type": "display_data"
    },
    {
     "data": {
      "text/html": [
       "<pre style=\"white-space:pre;overflow-x:auto;line-height:normal;font-family:Menlo,'DejaVu Sans Mono',consolas,'Courier New',monospace\">Making paths from route: <span style=\"color: #008080; text-decoration-color: #008080; font-weight: bold\">303</span>, var <span style=\"color: #008080; text-decoration-color: #008080; font-weight: bold\">2</span>\n",
       "</pre>\n"
      ],
      "text/plain": [
       "Making paths from route: \u001b[1;36m303\u001b[0m, var \u001b[1;36m2\u001b[0m\n"
      ]
     },
     "metadata": {},
     "output_type": "display_data"
    },
    {
     "data": {
      "text/html": [
       "<pre style=\"white-space:pre;overflow-x:auto;line-height:normal;font-family:Menlo,'DejaVu Sans Mono',consolas,'Courier New',monospace\">Making paths from route: <span style=\"color: #008080; text-decoration-color: #008080; font-weight: bold\">305</span>, var <span style=\"color: #008080; text-decoration-color: #008080; font-weight: bold\">1</span>\n",
       "</pre>\n"
      ],
      "text/plain": [
       "Making paths from route: \u001b[1;36m305\u001b[0m, var \u001b[1;36m1\u001b[0m\n"
      ]
     },
     "metadata": {},
     "output_type": "display_data"
    },
    {
     "data": {
      "text/html": [
       "<pre style=\"white-space:pre;overflow-x:auto;line-height:normal;font-family:Menlo,'DejaVu Sans Mono',consolas,'Courier New',monospace\">Making paths from route: <span style=\"color: #008080; text-decoration-color: #008080; font-weight: bold\">305</span>, var <span style=\"color: #008080; text-decoration-color: #008080; font-weight: bold\">2</span>\n",
       "</pre>\n"
      ],
      "text/plain": [
       "Making paths from route: \u001b[1;36m305\u001b[0m, var \u001b[1;36m2\u001b[0m\n"
      ]
     },
     "metadata": {},
     "output_type": "display_data"
    },
    {
     "data": {
      "text/html": [
       "<pre style=\"white-space:pre;overflow-x:auto;line-height:normal;font-family:Menlo,'DejaVu Sans Mono',consolas,'Courier New',monospace\">Making paths from route: <span style=\"color: #008080; text-decoration-color: #008080; font-weight: bold\">304</span>, var <span style=\"color: #008080; text-decoration-color: #008080; font-weight: bold\">1</span>\n",
       "</pre>\n"
      ],
      "text/plain": [
       "Making paths from route: \u001b[1;36m304\u001b[0m, var \u001b[1;36m1\u001b[0m\n"
      ]
     },
     "metadata": {},
     "output_type": "display_data"
    },
    {
     "data": {
      "text/html": [
       "<pre style=\"white-space:pre;overflow-x:auto;line-height:normal;font-family:Menlo,'DejaVu Sans Mono',consolas,'Courier New',monospace\">Making paths from route: <span style=\"color: #008080; text-decoration-color: #008080; font-weight: bold\">304</span>, var <span style=\"color: #008080; text-decoration-color: #008080; font-weight: bold\">2</span>\n",
       "</pre>\n"
      ],
      "text/plain": [
       "Making paths from route: \u001b[1;36m304\u001b[0m, var \u001b[1;36m2\u001b[0m\n"
      ]
     },
     "metadata": {},
     "output_type": "display_data"
    },
    {
     "data": {
      "text/html": [
       "<pre style=\"white-space:pre;overflow-x:auto;line-height:normal;font-family:Menlo,'DejaVu Sans Mono',consolas,'Courier New',monospace\">Making paths from route: <span style=\"color: #008080; text-decoration-color: #008080; font-weight: bold\">306</span>, var <span style=\"color: #008080; text-decoration-color: #008080; font-weight: bold\">1</span>\n",
       "</pre>\n"
      ],
      "text/plain": [
       "Making paths from route: \u001b[1;36m306\u001b[0m, var \u001b[1;36m1\u001b[0m\n"
      ]
     },
     "metadata": {},
     "output_type": "display_data"
    },
    {
     "data": {
      "text/html": [
       "<pre style=\"white-space:pre;overflow-x:auto;line-height:normal;font-family:Menlo,'DejaVu Sans Mono',consolas,'Courier New',monospace\">Making paths from route: <span style=\"color: #008080; text-decoration-color: #008080; font-weight: bold\">306</span>, var <span style=\"color: #008080; text-decoration-color: #008080; font-weight: bold\">2</span>\n",
       "</pre>\n"
      ],
      "text/plain": [
       "Making paths from route: \u001b[1;36m306\u001b[0m, var \u001b[1;36m2\u001b[0m\n"
      ]
     },
     "metadata": {},
     "output_type": "display_data"
    },
    {
     "data": {
      "text/html": [
       "<pre style=\"white-space:pre;overflow-x:auto;line-height:normal;font-family:Menlo,'DejaVu Sans Mono',consolas,'Courier New',monospace\">Making paths from route: <span style=\"color: #008080; text-decoration-color: #008080; font-weight: bold\">307</span>, var <span style=\"color: #008080; text-decoration-color: #008080; font-weight: bold\">1</span>\n",
       "</pre>\n"
      ],
      "text/plain": [
       "Making paths from route: \u001b[1;36m307\u001b[0m, var \u001b[1;36m1\u001b[0m\n"
      ]
     },
     "metadata": {},
     "output_type": "display_data"
    },
    {
     "data": {
      "text/html": [
       "<pre style=\"white-space:pre;overflow-x:auto;line-height:normal;font-family:Menlo,'DejaVu Sans Mono',consolas,'Courier New',monospace\">Making paths from route: <span style=\"color: #008080; text-decoration-color: #008080; font-weight: bold\">307</span>, var <span style=\"color: #008080; text-decoration-color: #008080; font-weight: bold\">2</span>\n",
       "</pre>\n"
      ],
      "text/plain": [
       "Making paths from route: \u001b[1;36m307\u001b[0m, var \u001b[1;36m2\u001b[0m\n"
      ]
     },
     "metadata": {},
     "output_type": "display_data"
    },
    {
     "data": {
      "text/html": [
       "<pre style=\"white-space:pre;overflow-x:auto;line-height:normal;font-family:Menlo,'DejaVu Sans Mono',consolas,'Courier New',monospace\">Making paths from route: <span style=\"color: #008080; text-decoration-color: #008080; font-weight: bold\">308</span>, var <span style=\"color: #008080; text-decoration-color: #008080; font-weight: bold\">1</span>\n",
       "</pre>\n"
      ],
      "text/plain": [
       "Making paths from route: \u001b[1;36m308\u001b[0m, var \u001b[1;36m1\u001b[0m\n"
      ]
     },
     "metadata": {},
     "output_type": "display_data"
    },
    {
     "data": {
      "text/html": [
       "<pre style=\"white-space:pre;overflow-x:auto;line-height:normal;font-family:Menlo,'DejaVu Sans Mono',consolas,'Courier New',monospace\">Making paths from route: <span style=\"color: #008080; text-decoration-color: #008080; font-weight: bold\">308</span>, var <span style=\"color: #008080; text-decoration-color: #008080; font-weight: bold\">2</span>\n",
       "</pre>\n"
      ],
      "text/plain": [
       "Making paths from route: \u001b[1;36m308\u001b[0m, var \u001b[1;36m2\u001b[0m\n"
      ]
     },
     "metadata": {},
     "output_type": "display_data"
    },
    {
     "data": {
      "text/html": [
       "<pre style=\"white-space:pre;overflow-x:auto;line-height:normal;font-family:Menlo,'DejaVu Sans Mono',consolas,'Courier New',monospace\">Making paths from route: <span style=\"color: #008080; text-decoration-color: #008080; font-weight: bold\">310</span>, var <span style=\"color: #008080; text-decoration-color: #008080; font-weight: bold\">1</span>\n",
       "</pre>\n"
      ],
      "text/plain": [
       "Making paths from route: \u001b[1;36m310\u001b[0m, var \u001b[1;36m1\u001b[0m\n"
      ]
     },
     "metadata": {},
     "output_type": "display_data"
    },
    {
     "data": {
      "text/html": [
       "<pre style=\"white-space:pre;overflow-x:auto;line-height:normal;font-family:Menlo,'DejaVu Sans Mono',consolas,'Courier New',monospace\">Making paths from route: <span style=\"color: #008080; text-decoration-color: #008080; font-weight: bold\">310</span>, var <span style=\"color: #008080; text-decoration-color: #008080; font-weight: bold\">2</span>\n",
       "</pre>\n"
      ],
      "text/plain": [
       "Making paths from route: \u001b[1;36m310\u001b[0m, var \u001b[1;36m2\u001b[0m\n"
      ]
     },
     "metadata": {},
     "output_type": "display_data"
    },
    {
     "data": {
      "text/html": [
       "<pre style=\"white-space:pre;overflow-x:auto;line-height:normal;font-family:Menlo,'DejaVu Sans Mono',consolas,'Courier New',monospace\">Making paths from route: <span style=\"color: #008080; text-decoration-color: #008080; font-weight: bold\">311</span>, var <span style=\"color: #008080; text-decoration-color: #008080; font-weight: bold\">1</span>\n",
       "</pre>\n"
      ],
      "text/plain": [
       "Making paths from route: \u001b[1;36m311\u001b[0m, var \u001b[1;36m1\u001b[0m\n"
      ]
     },
     "metadata": {},
     "output_type": "display_data"
    },
    {
     "data": {
      "text/html": [
       "<pre style=\"white-space:pre;overflow-x:auto;line-height:normal;font-family:Menlo,'DejaVu Sans Mono',consolas,'Courier New',monospace\">Making paths from route: <span style=\"color: #008080; text-decoration-color: #008080; font-weight: bold\">311</span>, var <span style=\"color: #008080; text-decoration-color: #008080; font-weight: bold\">2</span>\n",
       "</pre>\n"
      ],
      "text/plain": [
       "Making paths from route: \u001b[1;36m311\u001b[0m, var \u001b[1;36m2\u001b[0m\n"
      ]
     },
     "metadata": {},
     "output_type": "display_data"
    },
    {
     "data": {
      "text/html": [
       "<pre style=\"white-space:pre;overflow-x:auto;line-height:normal;font-family:Menlo,'DejaVu Sans Mono',consolas,'Courier New',monospace\">Making paths from route: <span style=\"color: #008080; text-decoration-color: #008080; font-weight: bold\">312</span>, var <span style=\"color: #008080; text-decoration-color: #008080; font-weight: bold\">1</span>\n",
       "</pre>\n"
      ],
      "text/plain": [
       "Making paths from route: \u001b[1;36m312\u001b[0m, var \u001b[1;36m1\u001b[0m\n"
      ]
     },
     "metadata": {},
     "output_type": "display_data"
    },
    {
     "data": {
      "text/html": [
       "<pre style=\"white-space:pre;overflow-x:auto;line-height:normal;font-family:Menlo,'DejaVu Sans Mono',consolas,'Courier New',monospace\">Making paths from route: <span style=\"color: #008080; text-decoration-color: #008080; font-weight: bold\">312</span>, var <span style=\"color: #008080; text-decoration-color: #008080; font-weight: bold\">2</span>\n",
       "</pre>\n"
      ],
      "text/plain": [
       "Making paths from route: \u001b[1;36m312\u001b[0m, var \u001b[1;36m2\u001b[0m\n"
      ]
     },
     "metadata": {},
     "output_type": "display_data"
    },
    {
     "data": {
      "text/html": [
       "<pre style=\"white-space:pre;overflow-x:auto;line-height:normal;font-family:Menlo,'DejaVu Sans Mono',consolas,'Courier New',monospace\">Making paths from route: <span style=\"color: #008080; text-decoration-color: #008080; font-weight: bold\">314</span>, var <span style=\"color: #008080; text-decoration-color: #008080; font-weight: bold\">1</span>\n",
       "</pre>\n"
      ],
      "text/plain": [
       "Making paths from route: \u001b[1;36m314\u001b[0m, var \u001b[1;36m1\u001b[0m\n"
      ]
     },
     "metadata": {},
     "output_type": "display_data"
    },
    {
     "data": {
      "text/html": [
       "<pre style=\"white-space:pre;overflow-x:auto;line-height:normal;font-family:Menlo,'DejaVu Sans Mono',consolas,'Courier New',monospace\">Making paths from route: <span style=\"color: #008080; text-decoration-color: #008080; font-weight: bold\">314</span>, var <span style=\"color: #008080; text-decoration-color: #008080; font-weight: bold\">2</span>\n",
       "</pre>\n"
      ],
      "text/plain": [
       "Making paths from route: \u001b[1;36m314\u001b[0m, var \u001b[1;36m2\u001b[0m\n"
      ]
     },
     "metadata": {},
     "output_type": "display_data"
    },
    {
     "data": {
      "text/html": [
       "<pre style=\"white-space:pre;overflow-x:auto;line-height:normal;font-family:Menlo,'DejaVu Sans Mono',consolas,'Courier New',monospace\">Making paths from route: <span style=\"color: #008080; text-decoration-color: #008080; font-weight: bold\">313</span>, var <span style=\"color: #008080; text-decoration-color: #008080; font-weight: bold\">1</span>\n",
       "</pre>\n"
      ],
      "text/plain": [
       "Making paths from route: \u001b[1;36m313\u001b[0m, var \u001b[1;36m1\u001b[0m\n"
      ]
     },
     "metadata": {},
     "output_type": "display_data"
    },
    {
     "data": {
      "text/html": [
       "<pre style=\"white-space:pre;overflow-x:auto;line-height:normal;font-family:Menlo,'DejaVu Sans Mono',consolas,'Courier New',monospace\">Making paths from route: <span style=\"color: #008080; text-decoration-color: #008080; font-weight: bold\">313</span>, var <span style=\"color: #008080; text-decoration-color: #008080; font-weight: bold\">2</span>\n",
       "</pre>\n"
      ],
      "text/plain": [
       "Making paths from route: \u001b[1;36m313\u001b[0m, var \u001b[1;36m2\u001b[0m\n"
      ]
     },
     "metadata": {},
     "output_type": "display_data"
    },
    {
     "data": {
      "text/html": [
       "<pre style=\"white-space:pre;overflow-x:auto;line-height:normal;font-family:Menlo,'DejaVu Sans Mono',consolas,'Courier New',monospace\">Making paths from route: <span style=\"color: #008080; text-decoration-color: #008080; font-weight: bold\">337</span>, var <span style=\"color: #008080; text-decoration-color: #008080; font-weight: bold\">1</span>\n",
       "</pre>\n"
      ],
      "text/plain": [
       "Making paths from route: \u001b[1;36m337\u001b[0m, var \u001b[1;36m1\u001b[0m\n"
      ]
     },
     "metadata": {},
     "output_type": "display_data"
    },
    {
     "data": {
      "text/html": [
       "<pre style=\"white-space:pre;overflow-x:auto;line-height:normal;font-family:Menlo,'DejaVu Sans Mono',consolas,'Courier New',monospace\">Making paths from route: <span style=\"color: #008080; text-decoration-color: #008080; font-weight: bold\">337</span>, var <span style=\"color: #008080; text-decoration-color: #008080; font-weight: bold\">2</span>\n",
       "</pre>\n"
      ],
      "text/plain": [
       "Making paths from route: \u001b[1;36m337\u001b[0m, var \u001b[1;36m2\u001b[0m\n"
      ]
     },
     "metadata": {},
     "output_type": "display_data"
    },
    {
     "data": {
      "text/html": [
       "<pre style=\"white-space:pre;overflow-x:auto;line-height:normal;font-family:Menlo,'DejaVu Sans Mono',consolas,'Courier New',monospace\">Number of subgraphs: <span style=\"color: #008080; text-decoration-color: #008080; font-weight: bold\">11</span>\n",
       "</pre>\n"
      ],
      "text/plain": [
       "Number of subgraphs: \u001b[1;36m11\u001b[0m\n"
      ]
     },
     "metadata": {},
     "output_type": "display_data"
    },
    {
     "data": {
      "text/html": [
       "<pre style=\"white-space:pre;overflow-x:auto;line-height:normal;font-family:Menlo,'DejaVu Sans Mono',consolas,'Courier New',monospace\"><span style=\"font-weight: bold\">{</span><span style=\"color: #008080; text-decoration-color: #008080; font-weight: bold\">7529</span>, <span style=\"color: #008080; text-decoration-color: #008080; font-weight: bold\">7526</span><span style=\"font-weight: bold\">}</span>\n",
       "</pre>\n"
      ],
      "text/plain": [
       "\u001b[1m{\u001b[0m\u001b[1;36m7529\u001b[0m, \u001b[1;36m7526\u001b[0m\u001b[1m}\u001b[0m\n"
      ]
     },
     "metadata": {},
     "output_type": "display_data"
    },
    {
     "data": {
      "text/html": [
       "<pre style=\"white-space:pre;overflow-x:auto;line-height:normal;font-family:Menlo,'DejaVu Sans Mono',consolas,'Courier New',monospace\"><span style=\"font-weight: bold\">(</span><span style=\"color: #008080; text-decoration-color: #008080; font-weight: bold\">686888.8540032188</span>, <span style=\"color: #008080; text-decoration-color: #008080; font-weight: bold\">1194877.0321831761</span><span style=\"font-weight: bold\">)</span>\n",
       "</pre>\n"
      ],
      "text/plain": [
       "\u001b[1m(\u001b[0m\u001b[1;36m686888.8540032188\u001b[0m, \u001b[1;36m1194877.0321831761\u001b[0m\u001b[1m)\u001b[0m\n"
      ]
     },
     "metadata": {},
     "output_type": "display_data"
    }
   ],
   "source": [
    "import networkx\n",
    "import Graph\n",
    "\n",
    "g = Graph.main()"
   ]
  },
  {
   "cell_type": "code",
   "execution_count": 14,
   "metadata": {},
   "outputs": [
    {
     "data": {
      "text/html": [
       "<pre style=\"white-space:pre;overflow-x:auto;line-height:normal;font-family:Menlo,'DejaVu Sans Mono',consolas,'Courier New',monospace\"><span style=\"font-weight: bold\">(</span><span style=\"color: #008080; text-decoration-color: #008080; font-weight: bold\">686888.8540032188</span>, <span style=\"color: #008080; text-decoration-color: #008080; font-weight: bold\">1194877.0321831761</span><span style=\"font-weight: bold\">)</span>\n",
       "</pre>\n"
      ],
      "text/plain": [
       "\u001b[1m(\u001b[0m\u001b[1;36m686888.8540032188\u001b[0m, \u001b[1;36m1194877.0321831761\u001b[0m\u001b[1m)\u001b[0m\n"
      ]
     },
     "metadata": {},
     "output_type": "display_data"
    },
    {
     "data": {
      "text/plain": [
       "7.978503198318191"
      ]
     },
     "execution_count": 14,
     "metadata": {},
     "output_type": "execute_result"
    }
   ],
   "source": [
    "from rich import print\n",
    "timeLabel = networkx.get_edge_attributes(g, 'time')\n",
    "print(g.nodes[35]['coord'])\n",
    "g[7526][7529][0]['time']"
   ]
  },
  {
   "cell_type": "code",
   "execution_count": 34,
   "metadata": {},
   "outputs": [
    {
     "data": {
      "text/html": [
       "<pre style=\"white-space:pre;overflow-x:auto;line-height:normal;font-family:Menlo,'DejaVu Sans Mono',consolas,'Courier New',monospace\">MultiDiGraph with <span style=\"color: #008080; text-decoration-color: #008080; font-weight: bold\">5</span> nodes and <span style=\"color: #008080; text-decoration-color: #008080; font-weight: bold\">10</span> edges\n",
       "</pre>\n"
      ],
      "text/plain": [
       "MultiDiGraph with \u001b[1;36m5\u001b[0m nodes and \u001b[1;36m10\u001b[0m edges\n"
      ]
     },
     "metadata": {},
     "output_type": "display_data"
    },
    {
     "data": {
      "text/html": [
       "<pre style=\"white-space:pre;overflow-x:auto;line-height:normal;font-family:Menlo,'DejaVu Sans Mono',consolas,'Courier New',monospace\"><span style=\"font-weight: bold\">[</span><span style=\"color: #008080; text-decoration-color: #008080; font-weight: bold\">7488</span>, <span style=\"color: #008080; text-decoration-color: #008080; font-weight: bold\">7489</span>, <span style=\"color: #008080; text-decoration-color: #008080; font-weight: bold\">7490</span>, <span style=\"color: #008080; text-decoration-color: #008080; font-weight: bold\">7486</span>, <span style=\"color: #008080; text-decoration-color: #008080; font-weight: bold\">7487</span><span style=\"font-weight: bold\">]</span>\n",
       "</pre>\n"
      ],
      "text/plain": [
       "\u001b[1m[\u001b[0m\u001b[1;36m7488\u001b[0m, \u001b[1;36m7489\u001b[0m, \u001b[1;36m7490\u001b[0m, \u001b[1;36m7486\u001b[0m, \u001b[1;36m7487\u001b[0m\u001b[1m]\u001b[0m\n"
      ]
     },
     "metadata": {},
     "output_type": "display_data"
    },
    {
     "data": {
      "image/png": "[encoded data removed]",
      "text/plain": [
       "<Figure size 640x480 with 1 Axes>"
      ]
     },
     "metadata": {},
     "output_type": "display_data"
    }
   ],
   "source": [
    "\n",
    "from networkx import connected_components\n",
    "\n",
    "\n",
    "ug = g.to_undirected()\n",
    "\n",
    "# for i in list(connected_components(ug)):\n",
    "#     print(len(i))\n",
    "    \n",
    "# print(list(connected_components(ug))[3])\n",
    "k = g.subgraph(list(connected_components(ug))[3])\n",
    "print(k)\n",
    "print(k.nodes)\n",
    "\n",
    "networkx.draw_spring(k, with_lable = True)\n"
   ]
  }
 ],
 "metadata": {
  "kernelspec": {
   "display_name": "Python 3",
   "language": "python",
   "name": "python3"
  },
  "language_info": {
   "codemirror_mode": {
    "name": "ipython",
    "version": 3
   },
   "file_extension": ".py",
   "mimetype": "text/x-python",
   "name": "python",
   "nbconvert_exporter": "python",
   "pygments_lexer": "ipython3",
   "version": "3.11.9"
  }
 },
 "nbformat": 4,
 "nbformat_minor": 2
}
