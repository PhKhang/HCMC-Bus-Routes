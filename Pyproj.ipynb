{
 "cells": [
  {
   "cell_type": "markdown",
   "metadata": {},
   "source": [
    "# What is EPSG\n",
    " is a collection of definitions of coordinate reference systems and coordinate transformations which may be global, regional, national or local in application. "
   ]
  },
  {
   "cell_type": "code",
   "execution_count": 2,
   "metadata": {},
   "outputs": [
    {
     "name": "stdout",
     "output_type": "stream",
     "text": [
      "Point 1: 684720.4742496928 1190800.3385383594\n",
      "Point 2: 685194.1459648395 1190925.9585012167\n",
      "490.0347743745696\n",
      "490.04619047426394\n"
     ]
    }
   ],
   "source": [
    "from math import sqrt\n",
    "from pyproj import Proj, Geod\n",
    "from shapely.geometry import Point, LineString\n",
    "\n",
    "# Projected coordinate system for Vietnam\n",
    "vn = Proj('EPSG:3405')\n",
    "\n",
    "# Lng, Lat to XY\n",
    "x, y = vn(106.689362, 10.767676)\n",
    "x1, y1 = vn(106.693699, 10.768788)\n",
    "\n",
    "print(\"Point 1:\", x, y)\n",
    "print(\"Point 2:\", x1, y1)\n",
    "\n",
    "line_string = LineString([Point(106.689362, 10.767676), Point(106.693699, 10.768788)])\n",
    "\n",
    "geod = Geod(ellps=\"WGS84\")\n",
    "total_length = geod.geometry_length(line_string)\n",
    "\n",
    "# Comparing length\n",
    "# Calculated using Geographic Coordinate Reference System\n",
    "print(total_length) \n",
    "# Calculated using Projected Coordinate Reference System (EPSG:3405)\n",
    "print(sqrt( (x-x1)**2 + (y-y1)**2 )) "
   ]
  },
  {
   "cell_type": "code",
   "execution_count": 6,
   "metadata": {},
   "outputs": [
    {
     "ename": "NameError",
     "evalue": "name '__file__' is not defined",
     "output_type": "error",
     "traceback": [
      "\u001b[1;31m---------------------------------------------------------------------------\u001b[0m",
      "\u001b[1;31mNameError\u001b[0m                                 Traceback (most recent call last)",
      "Cell \u001b[1;32mIn[6], line 14\u001b[0m\n\u001b[0;32m      1\u001b[0m \u001b[38;5;28;01mimport\u001b[39;00m \u001b[38;5;21;01mos\u001b[39;00m\n\u001b[0;32m      3\u001b[0m fileContent \u001b[38;5;241m=\u001b[39m {\n\u001b[0;32m      4\u001b[0m     \u001b[38;5;124m\"\u001b[39m\u001b[38;5;124mtype\u001b[39m\u001b[38;5;124m\"\u001b[39m: \u001b[38;5;124m\"\u001b[39m\u001b[38;5;124mFeature\u001b[39m\u001b[38;5;124m\"\u001b[39m,\n\u001b[0;32m      5\u001b[0m     \u001b[38;5;124m\"\u001b[39m\u001b[38;5;124mgeometry\u001b[39m\u001b[38;5;124m\"\u001b[39m: {\n\u001b[1;32m   (...)\u001b[0m\n\u001b[0;32m     11\u001b[0m     }\n\u001b[0;32m     12\u001b[0m }\n\u001b[1;32m---> 14\u001b[0m \u001b[38;5;28;01mwith\u001b[39;00m \u001b[38;5;28mopen\u001b[39m(os\u001b[38;5;241m.\u001b[39mpath\u001b[38;5;241m.\u001b[39mnormpath(os\u001b[38;5;241m.\u001b[39mpath\u001b[38;5;241m.\u001b[39mdirname(\u001b[38;5;18;43m__file__\u001b[39;49m) \u001b[38;5;241m+\u001b[39m \u001b[38;5;124m\"\u001b[39m\u001b[38;5;124m/geoJson.json\u001b[39m\u001b[38;5;124m\"\u001b[39m), \u001b[38;5;124m'\u001b[39m\u001b[38;5;124mw\u001b[39m\u001b[38;5;124m'\u001b[39m) \u001b[38;5;28;01mas\u001b[39;00m file:\n\u001b[0;32m     15\u001b[0m     file\u001b[38;5;241m.\u001b[39mwrite(fileContent)\n",
      "\u001b[1;31mNameError\u001b[0m: name '__file__' is not defined"
     ]
    }
   ],
   "source": [
    "import json\n",
    "import os\n",
    "\n",
    "fileContent = {\n",
    "\"type\": \"Feature\",\n",
    "\"geometry\": {\n",
    "    \"type\": \"Point\",\n",
    "    \"coordinates\": [125.6, 10.1]\n",
    "},\n",
    "\"properties\": {\n",
    "    \"name\": \"Dinagat Islands\"\n",
    "}\n",
    "}\n",
    "\n",
    "with open(os.path.normpath(os.path.dirname(__file__) + \"/geoJson.json\"), 'w') as file:\n",
    "file.write(json.loads(fileContent))"
   ]
  },
  {
   "cell_type": "markdown",
   "metadata": {},
   "source": [
    "# References\n",
    "- [Geographic Coordinate Systems 101](https://8thlight.com/insights/geographic-coordinate-systems-101)\n",
    "- [OGP Geomatics Committee](https://web.archive.org/web/20200602054123/http://www.epsg.org/)"
   ]
  }
 ],
 "metadata": {
  "kernelspec": {
   "display_name": "Python 3",
   "language": "python",
   "name": "python3"
  },
  "language_info": {
   "codemirror_mode": {
    "name": "ipython",
    "version": 3
   },
   "file_extension": ".py",
   "mimetype": "text/x-python",
   "name": "python",
   "nbconvert_exporter": "python",
   "pygments_lexer": "ipython3",
   "version": "3.11.9"
  }
 },
 "nbformat": 4,
 "nbformat_minor": 2
}
